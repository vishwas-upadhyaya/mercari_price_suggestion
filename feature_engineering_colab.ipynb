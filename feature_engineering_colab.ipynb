{
 "cells": [
  {
   "cell_type": "code",
   "execution_count": 1,
   "metadata": {
    "colab": {
     "base_uri": "https://localhost:8080/"
    },
    "id": "bTdceqCXWODe",
    "outputId": "825d19a9-9f44-428f-9f26-3bb899156f39"
   },
   "outputs": [
    {
     "name": "stdout",
     "output_type": "stream",
     "text": [
      "Mounted at /content/drive\n"
     ]
    }
   ],
   "source": [
    "from google.colab import drive\n",
    "drive.mount('/content/drive')"
   ]
  },
  {
   "cell_type": "code",
   "execution_count": 2,
   "metadata": {
    "colab": {
     "base_uri": "https://localhost:8080/"
    },
    "id": "nKu3iX823Jq3",
    "outputId": "e56ec27a-7fe8-478c-ea90-b3dd0135c58c"
   },
   "outputs": [
    {
     "name": "stdout",
     "output_type": "stream",
     "text": [
      "Requirement already satisfied: xgboost in /usr/local/lib/python3.6/dist-packages (0.90)\n",
      "Requirement already satisfied: scipy in /usr/local/lib/python3.6/dist-packages (from xgboost) (1.4.1)\n",
      "Requirement already satisfied: numpy in /usr/local/lib/python3.6/dist-packages (from xgboost) (1.19.4)\n"
     ]
    }
   ],
   "source": [
    "!pip install xgboost"
   ]
  },
  {
   "cell_type": "code",
   "execution_count": 2,
   "metadata": {
    "id": "H7JS-oKAVwXG"
   },
   "outputs": [],
   "source": [
    "import pandas as pd\n",
    "import numpy as np\n",
    "import scipy as sc\n",
    "import matplotlib.pyplot as plt\n",
    "import seaborn as sns\n",
    "from sklearn.preprocessing import LabelEncoder,OneHotEncoder\n",
    "from tensorflow.keras.preprocessing.text import Tokenizer\n",
    "from tensorflow.keras.preprocessing.sequence import pad_sequences\n",
    "import tensorflow as tf\n",
    "from sklearn.model_selection import train_test_split,GridSearchCV\n",
    "from sklearn.feature_extraction.text import CountVectorizer\n",
    "from sklearn.feature_extraction.text import TfidfVectorizer\n",
    "from sklearn.metrics import mean_squared_log_error,mean_squared_error\n",
    "from sklearn.preprocessing import MinMaxScaler\n",
    "import pickle\n",
    "from sklearn.linear_model import SGDRegressor,Lasso,Ridge\n",
    "from sklearn.naive_bayes import GaussianNB\n",
    "from xgboost import XGBRegressor\n",
    "from sklearn.svm import SVR\n",
    "from sklearn.decomposition import PCA,TruncatedSVD\n",
    "from lightgbm import LGBMRegressor\n",
    "import tensorflow as tf\n",
    "from tensorflow.keras.layers import Dense,Input,Dropout,Embedding,Concatenate,Flatten\n",
    "from tensorflow.keras.models import Model\n",
    "from tensorflow.keras.callbacks import ModelCheckpoint,EarlyStopping\n",
    "from tensorflow.keras.regularizers import l2,l1,l1_l2\n",
    "#from tensorflow.keras.initializers import \n",
    "from sklearn.ensemble import RandomForestRegressor\n",
    "from sklearn.model_selection import GridSearchCV\n",
    "\n",
    "import pandas as pd\n",
    "import numpy as np\n",
    "import scipy as sc\n",
    "import matplotlib.pyplot as plt\n",
    "import seaborn as sns\n",
    "from nltk.corpus import stopwords\n",
    "from nltk.stem import PorterStemmer\n",
    "from nltk.stem.wordnet import WordNetLemmatizer\n",
    "import re\n",
    "from tqdm import tqdm\n",
    "from wordcloud import WordCloud\n",
    "from sklearn.preprocessing import LabelEncoder"
   ]
  },
  {
   "cell_type": "code",
   "execution_count": 7,
   "metadata": {},
   "outputs": [
    {
     "data": {
      "text/plain": [
       "[PhysicalDevice(name='/physical_device:GPU:0', device_type='GPU')]"
      ]
     },
     "execution_count": 7,
     "metadata": {},
     "output_type": "execute_result"
    }
   ],
   "source": [
    "import tensorflow as tf\n",
    "\n",
    "tf.config.list_physical_devices('GPU')"
   ]
  },
  {
   "cell_type": "code",
   "execution_count": 8,
   "metadata": {
    "colab": {
     "base_uri": "https://localhost:8080/",
     "height": 400
    },
    "id": "FXXBHatbVwXN",
    "outputId": "362f4d2a-3cc2-494f-daaa-f55feb34528a"
   },
   "outputs": [
    {
     "data": {
      "text/html": [
       "<div>\n",
       "<style scoped>\n",
       "    .dataframe tbody tr th:only-of-type {\n",
       "        vertical-align: middle;\n",
       "    }\n",
       "\n",
       "    .dataframe tbody tr th {\n",
       "        vertical-align: top;\n",
       "    }\n",
       "\n",
       "    .dataframe thead th {\n",
       "        text-align: right;\n",
       "    }\n",
       "</style>\n",
       "<table border=\"1\" class=\"dataframe\">\n",
       "  <thead>\n",
       "    <tr style=\"text-align: right;\">\n",
       "      <th></th>\n",
       "      <th>train_id</th>\n",
       "      <th>name</th>\n",
       "      <th>item_condition_id</th>\n",
       "      <th>category_name</th>\n",
       "      <th>brand_name</th>\n",
       "      <th>price</th>\n",
       "      <th>shipping</th>\n",
       "      <th>item_description</th>\n",
       "      <th>category_name_len</th>\n",
       "      <th>subcat1</th>\n",
       "      <th>subcat2</th>\n",
       "      <th>subcat3</th>\n",
       "      <th>subcat4</th>\n",
       "      <th>subcat5</th>\n",
       "      <th>name_each_sen_word</th>\n",
       "      <th>item_desc_each_sentence_word</th>\n",
       "    </tr>\n",
       "  </thead>\n",
       "  <tbody>\n",
       "    <tr>\n",
       "      <th>0</th>\n",
       "      <td>0</td>\n",
       "      <td>mlb cincinnati red shirt size</td>\n",
       "      <td>3</td>\n",
       "      <td>Men/Tops/T-shirts</td>\n",
       "      <td>NaN</td>\n",
       "      <td>10.0</td>\n",
       "      <td>1</td>\n",
       "      <td>description_yet</td>\n",
       "      <td>3</td>\n",
       "      <td>Men</td>\n",
       "      <td>Tops</td>\n",
       "      <td>T-shirts</td>\n",
       "      <td>NaN</td>\n",
       "      <td>NaN</td>\n",
       "      <td>5</td>\n",
       "      <td>1</td>\n",
       "    </tr>\n",
       "    <tr>\n",
       "      <th>1</th>\n",
       "      <td>1</td>\n",
       "      <td>razer blackwidow chroma keyboard</td>\n",
       "      <td>3</td>\n",
       "      <td>Electronics/Computers &amp; Tablets/Components &amp; P...</td>\n",
       "      <td>razer</td>\n",
       "      <td>52.0</td>\n",
       "      <td>0</td>\n",
       "      <td>keyboard great condition work like came box po...</td>\n",
       "      <td>3</td>\n",
       "      <td>Electronics</td>\n",
       "      <td>Computers &amp; Tablets</td>\n",
       "      <td>Components &amp; Parts</td>\n",
       "      <td>NaN</td>\n",
       "      <td>NaN</td>\n",
       "      <td>4</td>\n",
       "      <td>17</td>\n",
       "    </tr>\n",
       "    <tr>\n",
       "      <th>2</th>\n",
       "      <td>2</td>\n",
       "      <td>ava viv blouse</td>\n",
       "      <td>1</td>\n",
       "      <td>Women/Tops &amp; Blouses/Blouse</td>\n",
       "      <td>target</td>\n",
       "      <td>10.0</td>\n",
       "      <td>1</td>\n",
       "      <td>adorable top hint lace key hole back pale pink...</td>\n",
       "      <td>3</td>\n",
       "      <td>Women</td>\n",
       "      <td>Tops &amp; Blouses</td>\n",
       "      <td>Blouse</td>\n",
       "      <td>NaN</td>\n",
       "      <td>NaN</td>\n",
       "      <td>3</td>\n",
       "      <td>12</td>\n",
       "    </tr>\n",
       "    <tr>\n",
       "      <th>3</th>\n",
       "      <td>3</td>\n",
       "      <td>leather horse statue</td>\n",
       "      <td>1</td>\n",
       "      <td>Home/Home Décor/Home Décor Accents</td>\n",
       "      <td>NaN</td>\n",
       "      <td>35.0</td>\n",
       "      <td>1</td>\n",
       "      <td>new tag leather horse retail stand foot high s...</td>\n",
       "      <td>3</td>\n",
       "      <td>Home</td>\n",
       "      <td>Home Décor</td>\n",
       "      <td>Home Décor Accents</td>\n",
       "      <td>NaN</td>\n",
       "      <td>NaN</td>\n",
       "      <td>3</td>\n",
       "      <td>17</td>\n",
       "    </tr>\n",
       "    <tr>\n",
       "      <th>4</th>\n",
       "      <td>4</td>\n",
       "      <td>k gold plated rose</td>\n",
       "      <td>1</td>\n",
       "      <td>Women/Jewelry/Necklaces</td>\n",
       "      <td>NaN</td>\n",
       "      <td>44.0</td>\n",
       "      <td>0</td>\n",
       "      <td>complete certificate authenticity</td>\n",
       "      <td>3</td>\n",
       "      <td>Women</td>\n",
       "      <td>Jewelry</td>\n",
       "      <td>Necklaces</td>\n",
       "      <td>NaN</td>\n",
       "      <td>NaN</td>\n",
       "      <td>4</td>\n",
       "      <td>3</td>\n",
       "    </tr>\n",
       "  </tbody>\n",
       "</table>\n",
       "</div>"
      ],
      "text/plain": [
       "   train_id                              name  item_condition_id  \\\n",
       "0         0     mlb cincinnati red shirt size                  3   \n",
       "1         1  razer blackwidow chroma keyboard                  3   \n",
       "2         2                    ava viv blouse                  1   \n",
       "3         3              leather horse statue                  1   \n",
       "4         4                k gold plated rose                  1   \n",
       "\n",
       "                                       category_name brand_name  price  \\\n",
       "0                                  Men/Tops/T-shirts        NaN   10.0   \n",
       "1  Electronics/Computers & Tablets/Components & P...      razer   52.0   \n",
       "2                        Women/Tops & Blouses/Blouse     target   10.0   \n",
       "3                 Home/Home Décor/Home Décor Accents        NaN   35.0   \n",
       "4                            Women/Jewelry/Necklaces        NaN   44.0   \n",
       "\n",
       "   shipping                                   item_description  \\\n",
       "0         1                                    description_yet   \n",
       "1         0  keyboard great condition work like came box po...   \n",
       "2         1  adorable top hint lace key hole back pale pink...   \n",
       "3         1  new tag leather horse retail stand foot high s...   \n",
       "4         0                  complete certificate authenticity   \n",
       "\n",
       "   category_name_len      subcat1              subcat2             subcat3  \\\n",
       "0                  3          Men                 Tops            T-shirts   \n",
       "1                  3  Electronics  Computers & Tablets  Components & Parts   \n",
       "2                  3        Women       Tops & Blouses              Blouse   \n",
       "3                  3         Home           Home Décor  Home Décor Accents   \n",
       "4                  3        Women              Jewelry           Necklaces   \n",
       "\n",
       "  subcat4 subcat5  name_each_sen_word  item_desc_each_sentence_word  \n",
       "0     NaN     NaN                   5                             1  \n",
       "1     NaN     NaN                   4                            17  \n",
       "2     NaN     NaN                   3                            12  \n",
       "3     NaN     NaN                   3                            17  \n",
       "4     NaN     NaN                   4                             3  "
      ]
     },
     "execution_count": 8,
     "metadata": {},
     "output_type": "execute_result"
    }
   ],
   "source": [
    "df=pd.read_csv('preprocessed1.csv')\n",
    "df.head()"
   ]
  },
  {
   "cell_type": "code",
   "execution_count": 9,
   "metadata": {
    "colab": {
     "base_uri": "https://localhost:8080/"
    },
    "id": "GKWuQbotVwXO",
    "outputId": "ab321187-5474-4acd-8c1a-87e7a38a43a9"
   },
   "outputs": [
    {
     "name": "stdout",
     "output_type": "stream",
     "text": [
      "<class 'pandas.core.frame.DataFrame'>\n",
      "RangeIndex: 1476208 entries, 0 to 1476207\n",
      "Data columns (total 16 columns):\n",
      " #   Column                        Non-Null Count    Dtype  \n",
      "---  ------                        --------------    -----  \n",
      " 0   train_id                      1476208 non-null  int64  \n",
      " 1   name                          1475473 non-null  object \n",
      " 2   item_condition_id             1476208 non-null  int64  \n",
      " 3   category_name                 1476208 non-null  object \n",
      " 4   brand_name                    846983 non-null   object \n",
      " 5   price                         1476208 non-null  float64\n",
      " 6   shipping                      1476208 non-null  int64  \n",
      " 7   item_description              1473452 non-null  object \n",
      " 8   category_name_len             1476208 non-null  int64  \n",
      " 9   subcat1                       1476208 non-null  object \n",
      " 10  subcat2                       1476208 non-null  object \n",
      " 11  subcat3                       1476208 non-null  object \n",
      " 12  subcat4                       4389 non-null     object \n",
      " 13  subcat5                       3059 non-null     object \n",
      " 14  name_each_sen_word            1476208 non-null  int64  \n",
      " 15  item_desc_each_sentence_word  1476208 non-null  int64  \n",
      "dtypes: float64(1), int64(6), object(9)\n",
      "memory usage: 180.2+ MB\n"
     ]
    }
   ],
   "source": [
    "df.info()"
   ]
  },
  {
   "cell_type": "code",
   "execution_count": 10,
   "metadata": {
    "colab": {
     "base_uri": "https://localhost:8080/",
     "height": 674
    },
    "id": "YB1NcxRqVwXO",
    "outputId": "64766dac-eafd-45aa-eba7-70e56d559360"
   },
   "outputs": [
    {
     "data": {
      "text/html": [
       "<div>\n",
       "<style scoped>\n",
       "    .dataframe tbody tr th:only-of-type {\n",
       "        vertical-align: middle;\n",
       "    }\n",
       "\n",
       "    .dataframe tbody tr th {\n",
       "        vertical-align: top;\n",
       "    }\n",
       "\n",
       "    .dataframe thead th {\n",
       "        text-align: right;\n",
       "    }\n",
       "</style>\n",
       "<table border=\"1\" class=\"dataframe\">\n",
       "  <thead>\n",
       "    <tr style=\"text-align: right;\">\n",
       "      <th></th>\n",
       "      <th>train_id</th>\n",
       "      <th>name</th>\n",
       "      <th>item_condition_id</th>\n",
       "      <th>category_name</th>\n",
       "      <th>brand_name</th>\n",
       "      <th>price</th>\n",
       "      <th>shipping</th>\n",
       "      <th>item_description</th>\n",
       "      <th>category_name_len</th>\n",
       "      <th>subcat1</th>\n",
       "      <th>subcat2</th>\n",
       "      <th>subcat3</th>\n",
       "      <th>subcat4</th>\n",
       "      <th>subcat5</th>\n",
       "      <th>name_each_sen_word</th>\n",
       "      <th>item_desc_each_sentence_word</th>\n",
       "    </tr>\n",
       "  </thead>\n",
       "  <tbody>\n",
       "    <tr>\n",
       "      <th>187</th>\n",
       "      <td>189</td>\n",
       "      <td>marucci pro cut</td>\n",
       "      <td>3</td>\n",
       "      <td>Sports &amp; Outdoors/Team Sports/Baseball &amp; Softball</td>\n",
       "      <td>marucci</td>\n",
       "      <td>46.0</td>\n",
       "      <td>0</td>\n",
       "      <td>NaN</td>\n",
       "      <td>3</td>\n",
       "      <td>Sports &amp; Outdoors</td>\n",
       "      <td>Team Sports</td>\n",
       "      <td>Baseball &amp; Softball</td>\n",
       "      <td>NaN</td>\n",
       "      <td>NaN</td>\n",
       "      <td>3</td>\n",
       "      <td>1</td>\n",
       "    </tr>\n",
       "    <tr>\n",
       "      <th>1441</th>\n",
       "      <td>1449</td>\n",
       "      <td>indian cent</td>\n",
       "      <td>3</td>\n",
       "      <td>Vintage &amp; Collectibles/Antique/100 Years or Older</td>\n",
       "      <td>NaN</td>\n",
       "      <td>14.0</td>\n",
       "      <td>0</td>\n",
       "      <td>NaN</td>\n",
       "      <td>3</td>\n",
       "      <td>Vintage &amp; Collectibles</td>\n",
       "      <td>Antique</td>\n",
       "      <td>100 Years or Older</td>\n",
       "      <td>NaN</td>\n",
       "      <td>NaN</td>\n",
       "      <td>2</td>\n",
       "      <td>1</td>\n",
       "    </tr>\n",
       "    <tr>\n",
       "      <th>2715</th>\n",
       "      <td>2730</td>\n",
       "      <td>lip gloss set</td>\n",
       "      <td>1</td>\n",
       "      <td>Beauty/Makeup/Lips</td>\n",
       "      <td>victoria's secret</td>\n",
       "      <td>14.0</td>\n",
       "      <td>0</td>\n",
       "      <td>NaN</td>\n",
       "      <td>3</td>\n",
       "      <td>Beauty</td>\n",
       "      <td>Makeup</td>\n",
       "      <td>Lips</td>\n",
       "      <td>NaN</td>\n",
       "      <td>NaN</td>\n",
       "      <td>3</td>\n",
       "      <td>1</td>\n",
       "    </tr>\n",
       "    <tr>\n",
       "      <th>3534</th>\n",
       "      <td>3552</td>\n",
       "      <td>strappy black lingerie</td>\n",
       "      <td>1</td>\n",
       "      <td>Women/Underwear/Panties</td>\n",
       "      <td>NaN</td>\n",
       "      <td>8.0</td>\n",
       "      <td>1</td>\n",
       "      <td>NaN</td>\n",
       "      <td>3</td>\n",
       "      <td>Women</td>\n",
       "      <td>Underwear</td>\n",
       "      <td>Panties</td>\n",
       "      <td>NaN</td>\n",
       "      <td>NaN</td>\n",
       "      <td>3</td>\n",
       "      <td>1</td>\n",
       "    </tr>\n",
       "    <tr>\n",
       "      <th>7456</th>\n",
       "      <td>7488</td>\n",
       "      <td>twilight wood spray</td>\n",
       "      <td>2</td>\n",
       "      <td>Beauty/Skin Care/Body</td>\n",
       "      <td>NaN</td>\n",
       "      <td>8.0</td>\n",
       "      <td>1</td>\n",
       "      <td>NaN</td>\n",
       "      <td>3</td>\n",
       "      <td>Beauty</td>\n",
       "      <td>Skin Care</td>\n",
       "      <td>Body</td>\n",
       "      <td>NaN</td>\n",
       "      <td>NaN</td>\n",
       "      <td>3</td>\n",
       "      <td>1</td>\n",
       "    </tr>\n",
       "    <tr>\n",
       "      <th>...</th>\n",
       "      <td>...</td>\n",
       "      <td>...</td>\n",
       "      <td>...</td>\n",
       "      <td>...</td>\n",
       "      <td>...</td>\n",
       "      <td>...</td>\n",
       "      <td>...</td>\n",
       "      <td>...</td>\n",
       "      <td>...</td>\n",
       "      <td>...</td>\n",
       "      <td>...</td>\n",
       "      <td>...</td>\n",
       "      <td>...</td>\n",
       "      <td>...</td>\n",
       "      <td>...</td>\n",
       "      <td>...</td>\n",
       "    </tr>\n",
       "    <tr>\n",
       "      <th>1472135</th>\n",
       "      <td>1478444</td>\n",
       "      <td>garbordor secret rare</td>\n",
       "      <td>2</td>\n",
       "      <td>Vintage &amp; Collectibles/Trading Cards/Animation</td>\n",
       "      <td>pokemon</td>\n",
       "      <td>11.0</td>\n",
       "      <td>1</td>\n",
       "      <td>NaN</td>\n",
       "      <td>3</td>\n",
       "      <td>Vintage &amp; Collectibles</td>\n",
       "      <td>Trading Cards</td>\n",
       "      <td>Animation</td>\n",
       "      <td>NaN</td>\n",
       "      <td>NaN</td>\n",
       "      <td>3</td>\n",
       "      <td>1</td>\n",
       "    </tr>\n",
       "    <tr>\n",
       "      <th>1473397</th>\n",
       "      <td>1479712</td>\n",
       "      <td>daisy marc jacob</td>\n",
       "      <td>1</td>\n",
       "      <td>Beauty/Fragrance/Women</td>\n",
       "      <td>NaN</td>\n",
       "      <td>45.0</td>\n",
       "      <td>1</td>\n",
       "      <td>NaN</td>\n",
       "      <td>3</td>\n",
       "      <td>Beauty</td>\n",
       "      <td>Fragrance</td>\n",
       "      <td>Women</td>\n",
       "      <td>NaN</td>\n",
       "      <td>NaN</td>\n",
       "      <td>3</td>\n",
       "      <td>1</td>\n",
       "    </tr>\n",
       "    <tr>\n",
       "      <th>1474058</th>\n",
       "      <td>1480376</td>\n",
       "      <td>girl dress flamingo dress</td>\n",
       "      <td>3</td>\n",
       "      <td>Kids/Girls 2T-5T/Dresses</td>\n",
       "      <td>NaN</td>\n",
       "      <td>18.0</td>\n",
       "      <td>0</td>\n",
       "      <td>NaN</td>\n",
       "      <td>3</td>\n",
       "      <td>Kids</td>\n",
       "      <td>Girls 2T-5T</td>\n",
       "      <td>Dresses</td>\n",
       "      <td>NaN</td>\n",
       "      <td>NaN</td>\n",
       "      <td>4</td>\n",
       "      <td>1</td>\n",
       "    </tr>\n",
       "    <tr>\n",
       "      <th>1474698</th>\n",
       "      <td>1481020</td>\n",
       "      <td>tin bottle</td>\n",
       "      <td>3</td>\n",
       "      <td>Vintage &amp; Collectibles/Other/Other</td>\n",
       "      <td>NaN</td>\n",
       "      <td>26.0</td>\n",
       "      <td>0</td>\n",
       "      <td>NaN</td>\n",
       "      <td>3</td>\n",
       "      <td>Vintage &amp; Collectibles</td>\n",
       "      <td>Other</td>\n",
       "      <td>Other</td>\n",
       "      <td>NaN</td>\n",
       "      <td>NaN</td>\n",
       "      <td>2</td>\n",
       "      <td>1</td>\n",
       "    </tr>\n",
       "    <tr>\n",
       "      <th>1476068</th>\n",
       "      <td>1482393</td>\n",
       "      <td>bundle</td>\n",
       "      <td>1</td>\n",
       "      <td>Women/Jewelry/Necklaces</td>\n",
       "      <td>NaN</td>\n",
       "      <td>8.0</td>\n",
       "      <td>0</td>\n",
       "      <td>NaN</td>\n",
       "      <td>3</td>\n",
       "      <td>Women</td>\n",
       "      <td>Jewelry</td>\n",
       "      <td>Necklaces</td>\n",
       "      <td>NaN</td>\n",
       "      <td>NaN</td>\n",
       "      <td>1</td>\n",
       "      <td>1</td>\n",
       "    </tr>\n",
       "  </tbody>\n",
       "</table>\n",
       "<p>2756 rows × 16 columns</p>\n",
       "</div>"
      ],
      "text/plain": [
       "         train_id                       name  item_condition_id  \\\n",
       "187           189            marucci pro cut                  3   \n",
       "1441         1449                indian cent                  3   \n",
       "2715         2730              lip gloss set                  1   \n",
       "3534         3552     strappy black lingerie                  1   \n",
       "7456         7488        twilight wood spray                  2   \n",
       "...           ...                        ...                ...   \n",
       "1472135   1478444      garbordor secret rare                  2   \n",
       "1473397   1479712           daisy marc jacob                  1   \n",
       "1474058   1480376  girl dress flamingo dress                  3   \n",
       "1474698   1481020                 tin bottle                  3   \n",
       "1476068   1482393                     bundle                  1   \n",
       "\n",
       "                                             category_name         brand_name  \\\n",
       "187      Sports & Outdoors/Team Sports/Baseball & Softball            marucci   \n",
       "1441     Vintage & Collectibles/Antique/100 Years or Older                NaN   \n",
       "2715                                    Beauty/Makeup/Lips  victoria's secret   \n",
       "3534                               Women/Underwear/Panties                NaN   \n",
       "7456                                 Beauty/Skin Care/Body                NaN   \n",
       "...                                                    ...                ...   \n",
       "1472135     Vintage & Collectibles/Trading Cards/Animation            pokemon   \n",
       "1473397                             Beauty/Fragrance/Women                NaN   \n",
       "1474058                           Kids/Girls 2T-5T/Dresses                NaN   \n",
       "1474698                 Vintage & Collectibles/Other/Other                NaN   \n",
       "1476068                            Women/Jewelry/Necklaces                NaN   \n",
       "\n",
       "         price  shipping item_description  category_name_len  \\\n",
       "187       46.0         0              NaN                  3   \n",
       "1441      14.0         0              NaN                  3   \n",
       "2715      14.0         0              NaN                  3   \n",
       "3534       8.0         1              NaN                  3   \n",
       "7456       8.0         1              NaN                  3   \n",
       "...        ...       ...              ...                ...   \n",
       "1472135   11.0         1              NaN                  3   \n",
       "1473397   45.0         1              NaN                  3   \n",
       "1474058   18.0         0              NaN                  3   \n",
       "1474698   26.0         0              NaN                  3   \n",
       "1476068    8.0         0              NaN                  3   \n",
       "\n",
       "                        subcat1        subcat2              subcat3 subcat4  \\\n",
       "187           Sports & Outdoors    Team Sports  Baseball & Softball     NaN   \n",
       "1441     Vintage & Collectibles        Antique   100 Years or Older     NaN   \n",
       "2715                     Beauty         Makeup                 Lips     NaN   \n",
       "3534                      Women      Underwear              Panties     NaN   \n",
       "7456                     Beauty      Skin Care                 Body     NaN   \n",
       "...                         ...            ...                  ...     ...   \n",
       "1472135  Vintage & Collectibles  Trading Cards            Animation     NaN   \n",
       "1473397                  Beauty      Fragrance                Women     NaN   \n",
       "1474058                    Kids    Girls 2T-5T              Dresses     NaN   \n",
       "1474698  Vintage & Collectibles          Other                Other     NaN   \n",
       "1476068                   Women        Jewelry            Necklaces     NaN   \n",
       "\n",
       "        subcat5  name_each_sen_word  item_desc_each_sentence_word  \n",
       "187         NaN                   3                             1  \n",
       "1441        NaN                   2                             1  \n",
       "2715        NaN                   3                             1  \n",
       "3534        NaN                   3                             1  \n",
       "7456        NaN                   3                             1  \n",
       "...         ...                 ...                           ...  \n",
       "1472135     NaN                   3                             1  \n",
       "1473397     NaN                   3                             1  \n",
       "1474058     NaN                   4                             1  \n",
       "1474698     NaN                   2                             1  \n",
       "1476068     NaN                   1                             1  \n",
       "\n",
       "[2756 rows x 16 columns]"
      ]
     },
     "execution_count": 10,
     "metadata": {},
     "output_type": "execute_result"
    }
   ],
   "source": [
    "df[df['item_description'].isna()]"
   ]
  },
  {
   "cell_type": "code",
   "execution_count": 11,
   "metadata": {
    "colab": {
     "base_uri": "https://localhost:8080/"
    },
    "id": "uxTEinMCVwXP",
    "outputId": "6d8ded2c-777e-4a35-98dc-a87326035fac"
   },
   "outputs": [
    {
     "data": {
      "text/plain": [
       "14.0"
      ]
     },
     "execution_count": 11,
     "metadata": {},
     "output_type": "execute_result"
    }
   ],
   "source": [
    "np.median(df[df['brand_name'].isna()]['price'].values)"
   ]
  },
  {
   "cell_type": "code",
   "execution_count": 12,
   "metadata": {
    "colab": {
     "base_uri": "https://localhost:8080/"
    },
    "id": "6hC3SIqPVwXP",
    "outputId": "dd6c2594-c37c-43f7-cacc-392f37db7577"
   },
   "outputs": [
    {
     "data": {
      "text/plain": [
       "21.123863482855896"
      ]
     },
     "execution_count": 12,
     "metadata": {},
     "output_type": "execute_result"
    }
   ],
   "source": [
    "df[df['brand_name'].isna()]['price'].sum()/df[df['brand_name'].isna()]['price'].shape[0]"
   ]
  },
  {
   "cell_type": "code",
   "execution_count": 13,
   "metadata": {
    "colab": {
     "base_uri": "https://localhost:8080/"
    },
    "id": "MXXD5IQgVwXQ",
    "outputId": "ba1d5d3b-03f6-4858-ff1a-8249a38dccce"
   },
   "outputs": [
    {
     "data": {
      "text/plain": [
       "20.0"
      ]
     },
     "execution_count": 13,
     "metadata": {},
     "output_type": "execute_result"
    }
   ],
   "source": [
    "np.median(df[df['brand_name'].notna()]['price'].values)"
   ]
  },
  {
   "cell_type": "code",
   "execution_count": 14,
   "metadata": {
    "colab": {
     "base_uri": "https://localhost:8080/"
    },
    "id": "pFU03TPlVwXQ",
    "outputId": "f689db7b-7732-41ef-c204-f328b116273c"
   },
   "outputs": [
    {
     "data": {
      "text/plain": [
       "30.917938730765552"
      ]
     },
     "execution_count": 14,
     "metadata": {},
     "output_type": "execute_result"
    }
   ],
   "source": [
    "df[df['brand_name'].notna()]['price'].sum()/df[df['brand_name'].notna()]['price'].shape[0]"
   ]
  },
  {
   "cell_type": "code",
   "execution_count": 15,
   "metadata": {
    "colab": {
     "base_uri": "https://localhost:8080/",
     "height": 400
    },
    "id": "W-yNHBmOVwXQ",
    "outputId": "996be8be-28b1-4504-826d-427b5b7beceb"
   },
   "outputs": [
    {
     "data": {
      "text/html": [
       "<div>\n",
       "<style scoped>\n",
       "    .dataframe tbody tr th:only-of-type {\n",
       "        vertical-align: middle;\n",
       "    }\n",
       "\n",
       "    .dataframe tbody tr th {\n",
       "        vertical-align: top;\n",
       "    }\n",
       "\n",
       "    .dataframe thead th {\n",
       "        text-align: right;\n",
       "    }\n",
       "</style>\n",
       "<table border=\"1\" class=\"dataframe\">\n",
       "  <thead>\n",
       "    <tr style=\"text-align: right;\">\n",
       "      <th></th>\n",
       "      <th>train_id</th>\n",
       "      <th>name</th>\n",
       "      <th>item_condition_id</th>\n",
       "      <th>category_name</th>\n",
       "      <th>brand_name</th>\n",
       "      <th>price</th>\n",
       "      <th>shipping</th>\n",
       "      <th>item_description</th>\n",
       "      <th>category_name_len</th>\n",
       "      <th>subcat1</th>\n",
       "      <th>subcat2</th>\n",
       "      <th>subcat3</th>\n",
       "      <th>subcat4</th>\n",
       "      <th>subcat5</th>\n",
       "      <th>name_each_sen_word</th>\n",
       "      <th>item_desc_each_sentence_word</th>\n",
       "    </tr>\n",
       "  </thead>\n",
       "  <tbody>\n",
       "    <tr>\n",
       "      <th>0</th>\n",
       "      <td>0</td>\n",
       "      <td>mlb cincinnati red shirt size</td>\n",
       "      <td>3</td>\n",
       "      <td>Men/Tops/T-shirts</td>\n",
       "      <td>NaN</td>\n",
       "      <td>10.0</td>\n",
       "      <td>1</td>\n",
       "      <td>description_yet</td>\n",
       "      <td>3</td>\n",
       "      <td>Men</td>\n",
       "      <td>Tops</td>\n",
       "      <td>T-shirts</td>\n",
       "      <td>NaN</td>\n",
       "      <td>NaN</td>\n",
       "      <td>5</td>\n",
       "      <td>1</td>\n",
       "    </tr>\n",
       "    <tr>\n",
       "      <th>1</th>\n",
       "      <td>1</td>\n",
       "      <td>razer blackwidow chroma keyboard</td>\n",
       "      <td>3</td>\n",
       "      <td>Electronics/Computers &amp; Tablets/Components &amp; P...</td>\n",
       "      <td>razer</td>\n",
       "      <td>52.0</td>\n",
       "      <td>0</td>\n",
       "      <td>keyboard great condition work like came box po...</td>\n",
       "      <td>3</td>\n",
       "      <td>Electronics</td>\n",
       "      <td>Computers &amp; Tablets</td>\n",
       "      <td>Components &amp; Parts</td>\n",
       "      <td>NaN</td>\n",
       "      <td>NaN</td>\n",
       "      <td>4</td>\n",
       "      <td>17</td>\n",
       "    </tr>\n",
       "    <tr>\n",
       "      <th>2</th>\n",
       "      <td>2</td>\n",
       "      <td>ava viv blouse</td>\n",
       "      <td>1</td>\n",
       "      <td>Women/Tops &amp; Blouses/Blouse</td>\n",
       "      <td>target</td>\n",
       "      <td>10.0</td>\n",
       "      <td>1</td>\n",
       "      <td>adorable top hint lace key hole back pale pink...</td>\n",
       "      <td>3</td>\n",
       "      <td>Women</td>\n",
       "      <td>Tops &amp; Blouses</td>\n",
       "      <td>Blouse</td>\n",
       "      <td>NaN</td>\n",
       "      <td>NaN</td>\n",
       "      <td>3</td>\n",
       "      <td>12</td>\n",
       "    </tr>\n",
       "    <tr>\n",
       "      <th>3</th>\n",
       "      <td>3</td>\n",
       "      <td>leather horse statue</td>\n",
       "      <td>1</td>\n",
       "      <td>Home/Home Décor/Home Décor Accents</td>\n",
       "      <td>NaN</td>\n",
       "      <td>35.0</td>\n",
       "      <td>1</td>\n",
       "      <td>new tag leather horse retail stand foot high s...</td>\n",
       "      <td>3</td>\n",
       "      <td>Home</td>\n",
       "      <td>Home Décor</td>\n",
       "      <td>Home Décor Accents</td>\n",
       "      <td>NaN</td>\n",
       "      <td>NaN</td>\n",
       "      <td>3</td>\n",
       "      <td>17</td>\n",
       "    </tr>\n",
       "    <tr>\n",
       "      <th>4</th>\n",
       "      <td>4</td>\n",
       "      <td>k gold plated rose</td>\n",
       "      <td>1</td>\n",
       "      <td>Women/Jewelry/Necklaces</td>\n",
       "      <td>NaN</td>\n",
       "      <td>44.0</td>\n",
       "      <td>0</td>\n",
       "      <td>complete certificate authenticity</td>\n",
       "      <td>3</td>\n",
       "      <td>Women</td>\n",
       "      <td>Jewelry</td>\n",
       "      <td>Necklaces</td>\n",
       "      <td>NaN</td>\n",
       "      <td>NaN</td>\n",
       "      <td>4</td>\n",
       "      <td>3</td>\n",
       "    </tr>\n",
       "  </tbody>\n",
       "</table>\n",
       "</div>"
      ],
      "text/plain": [
       "   train_id                              name  item_condition_id  \\\n",
       "0         0     mlb cincinnati red shirt size                  3   \n",
       "1         1  razer blackwidow chroma keyboard                  3   \n",
       "2         2                    ava viv blouse                  1   \n",
       "3         3              leather horse statue                  1   \n",
       "4         4                k gold plated rose                  1   \n",
       "\n",
       "                                       category_name brand_name  price  \\\n",
       "0                                  Men/Tops/T-shirts        NaN   10.0   \n",
       "1  Electronics/Computers & Tablets/Components & P...      razer   52.0   \n",
       "2                        Women/Tops & Blouses/Blouse     target   10.0   \n",
       "3                 Home/Home Décor/Home Décor Accents        NaN   35.0   \n",
       "4                            Women/Jewelry/Necklaces        NaN   44.0   \n",
       "\n",
       "   shipping                                   item_description  \\\n",
       "0         1                                    description_yet   \n",
       "1         0  keyboard great condition work like came box po...   \n",
       "2         1  adorable top hint lace key hole back pale pink...   \n",
       "3         1  new tag leather horse retail stand foot high s...   \n",
       "4         0                  complete certificate authenticity   \n",
       "\n",
       "   category_name_len      subcat1              subcat2             subcat3  \\\n",
       "0                  3          Men                 Tops            T-shirts   \n",
       "1                  3  Electronics  Computers & Tablets  Components & Parts   \n",
       "2                  3        Women       Tops & Blouses              Blouse   \n",
       "3                  3         Home           Home Décor  Home Décor Accents   \n",
       "4                  3        Women              Jewelry           Necklaces   \n",
       "\n",
       "  subcat4 subcat5  name_each_sen_word  item_desc_each_sentence_word  \n",
       "0     NaN     NaN                   5                             1  \n",
       "1     NaN     NaN                   4                            17  \n",
       "2     NaN     NaN                   3                            12  \n",
       "3     NaN     NaN                   3                            17  \n",
       "4     NaN     NaN                   4                             3  "
      ]
     },
     "execution_count": 15,
     "metadata": {},
     "output_type": "execute_result"
    }
   ],
   "source": [
    "df.head()"
   ]
  },
  {
   "cell_type": "code",
   "execution_count": 16,
   "metadata": {
    "id": "pyzWj62iVwXR"
   },
   "outputs": [],
   "source": [
    "df['brand_name_exist']=df['brand_name'].fillna(value='no')"
   ]
  },
  {
   "cell_type": "code",
   "execution_count": 17,
   "metadata": {
    "id": "fz8mzwuNVwXR"
   },
   "outputs": [],
   "source": [
    "df['brand_name_exist']=df['brand_name_exist'].apply(lambda x:'yes' if x!='no' else x)"
   ]
  },
  {
   "cell_type": "code",
   "execution_count": 18,
   "metadata": {
    "colab": {
     "base_uri": "https://localhost:8080/",
     "height": 692
    },
    "id": "rwMV8gGiVwXR",
    "outputId": "58f04cbc-6e15-431f-ae33-c1e8a293bf3d"
   },
   "outputs": [
    {
     "name": "stderr",
     "output_type": "stream",
     "text": [
      "C:\\Users\\vishw\\anaconda3\\envs\\gpu\\lib\\site-packages\\seaborn\\_decorators.py:43: FutureWarning: Pass the following variables as keyword args: x, y. From version 0.12, the only valid positional argument will be `data`, and passing other arguments without an explicit keyword will result in an error or misinterpretation.\n",
      "  FutureWarning\n"
     ]
    },
    {
     "data": {
      "text/plain": [
       "Text(0.5, 1.0, 'range of prices with no brand name and brand name')"
      ]
     },
     "execution_count": 18,
     "metadata": {},
     "output_type": "execute_result"
    },
    {
     "data": {
      "image/png": "[encoded data removed]",
      "text/plain": [
       "<Figure size 1440x720 with 1 Axes>"
      ]
     },
     "metadata": {
      "needs_background": "light"
     },
     "output_type": "display_data"
    }
   ],
   "source": [
    "plt.figure(figsize=(20,10))\n",
    "sns.boxplot(df['brand_name_exist'],df['price'],hue=df['brand_name_exist'])\n",
    "plt.ylim(0,100)\n",
    "plt.title('range of prices with no brand name and brand name')"
   ]
  },
  {
   "cell_type": "code",
   "execution_count": 19,
   "metadata": {
    "colab": {
     "base_uri": "https://localhost:8080/",
     "height": 698
    },
    "id": "BOaldx5sVwXS",
    "outputId": "4c499443-0d22-4005-f712-a134124137b7"
   },
   "outputs": [
    {
     "name": "stderr",
     "output_type": "stream",
     "text": [
      "C:\\Users\\vishw\\anaconda3\\envs\\gpu\\lib\\site-packages\\seaborn\\distributions.py:2551: FutureWarning: `distplot` is a deprecated function and will be removed in a future version. Please adapt your code to use either `displot` (a figure-level function with similar flexibility) or `kdeplot` (an axes-level function for kernel density plots).\n",
      "  warnings.warn(msg, FutureWarning)\n",
      "C:\\Users\\vishw\\anaconda3\\envs\\gpu\\lib\\site-packages\\seaborn\\distributions.py:2551: FutureWarning: `distplot` is a deprecated function and will be removed in a future version. Please adapt your code to use either `displot` (a figure-level function with similar flexibility) or `kdeplot` (an axes-level function for kernel density plots).\n",
      "  warnings.warn(msg, FutureWarning)\n"
     ]
    },
    {
     "data": {
      "image/png": "[encoded data removed]",
      "text/plain": [
       "<Figure size 1440x720 with 1 Axes>"
      ]
     },
     "metadata": {
      "needs_background": "light"
     },
     "output_type": "display_data"
    }
   ],
   "source": [
    "plt.figure(figsize=(20,10))\n",
    "sns.distplot(df[df['brand_name_exist']=='no']['price'],hist=False,label='no')\n",
    "sns.distplot(df[df['brand_name_exist']=='yes']['price'],hist=False,label='yes')\n",
    "plt.legend()\n",
    "plt.title('distribution of price')\n",
    "plt.xlim(-50,200)\n",
    "plt.show()"
   ]
  },
  {
   "cell_type": "code",
   "execution_count": 20,
   "metadata": {
    "id": "BD0kqYkqVwXS"
   },
   "outputs": [],
   "source": [
    "label_enc_brand_name=LabelEncoder()\n",
    "df['brand_name_exist_enc']=label_enc_brand_name.fit_transform(df['brand_name_exist'].values)"
   ]
  },
  {
   "cell_type": "code",
   "execution_count": 21,
   "metadata": {
    "colab": {
     "base_uri": "https://localhost:8080/"
    },
    "id": "LTNbJR_wVwXS",
    "outputId": "b97f531f-f744-4e11-edd3-3216c8a8e5d2"
   },
   "outputs": [
    {
     "data": {
      "text/plain": [
       "SpearmanrResult(correlation=0.20763692303787482, pvalue=0.0)"
      ]
     },
     "execution_count": 21,
     "metadata": {},
     "output_type": "execute_result"
    }
   ],
   "source": [
    "sc.stats.spearmanr(df['brand_name_exist_enc'].values,df['price'].values)"
   ]
  },
  {
   "cell_type": "code",
   "execution_count": 22,
   "metadata": {
    "colab": {
     "base_uri": "https://localhost:8080/"
    },
    "id": "XoL8WBXzVwXT",
    "outputId": "b77de283-db2e-427c-a331-42518d297bc2"
   },
   "outputs": [
    {
     "data": {
      "text/plain": [
       "0          0\n",
       "1          1\n",
       "2          1\n",
       "3          0\n",
       "4          0\n",
       "          ..\n",
       "1476203    1\n",
       "1476204    1\n",
       "1476205    0\n",
       "1476206    0\n",
       "1476207    0\n",
       "Name: brand_name_exist_enc, Length: 1476208, dtype: int32"
      ]
     },
     "execution_count": 22,
     "metadata": {},
     "output_type": "execute_result"
    }
   ],
   "source": [
    "df['brand_name_exist_enc']"
   ]
  },
  {
   "cell_type": "markdown",
   "metadata": {
    "id": "x8sCmV-MVwXT"
   },
   "source": [
    "after adding this feature this feature's correlation with price is almost 0.21 , but is we do this then the data is too large and it is taking too much time to train model on this big data so that's why i decided to drop row with nan brand name. "
   ]
  },
  {
   "cell_type": "code",
   "execution_count": 23,
   "metadata": {
    "id": "B6sxEVVwVwXT"
   },
   "outputs": [],
   "source": [
    "# df['brand_name']=df['brand_name'].apply(lambda x:str(x))\n",
    "\n",
    "df['subcat1']=df['subcat1'].apply(lambda x:str(x))\n",
    "df['subcat2']=df['subcat2'].apply(lambda x:str(x))\n",
    "df['subcat3']=df['subcat3'].apply(lambda x:str(x))\n",
    "df['subcat4']=df['subcat4'].apply(lambda x:str(x))\n",
    "df['subcat5']=df['subcat5'].apply(lambda x:str(x))"
   ]
  },
  {
   "cell_type": "code",
   "execution_count": 24,
   "metadata": {
    "colab": {
     "base_uri": "https://localhost:8080/"
    },
    "id": "584SLZqZVwXU",
    "outputId": "274476a8-f1fd-414e-a298-e91b2cf45073"
   },
   "outputs": [
    {
     "name": "stdout",
     "output_type": "stream",
     "text": [
      "<class 'pandas.core.frame.DataFrame'>\n",
      "RangeIndex: 1476208 entries, 0 to 1476207\n",
      "Data columns (total 18 columns):\n",
      " #   Column                        Non-Null Count    Dtype  \n",
      "---  ------                        --------------    -----  \n",
      " 0   train_id                      1476208 non-null  int64  \n",
      " 1   name                          1475473 non-null  object \n",
      " 2   item_condition_id             1476208 non-null  int64  \n",
      " 3   category_name                 1476208 non-null  object \n",
      " 4   brand_name                    846983 non-null   object \n",
      " 5   price                         1476208 non-null  float64\n",
      " 6   shipping                      1476208 non-null  int64  \n",
      " 7   item_description              1473452 non-null  object \n",
      " 8   category_name_len             1476208 non-null  int64  \n",
      " 9   subcat1                       1476208 non-null  object \n",
      " 10  subcat2                       1476208 non-null  object \n",
      " 11  subcat3                       1476208 non-null  object \n",
      " 12  subcat4                       1476208 non-null  object \n",
      " 13  subcat5                       1476208 non-null  object \n",
      " 14  name_each_sen_word            1476208 non-null  int64  \n",
      " 15  item_desc_each_sentence_word  1476208 non-null  int64  \n",
      " 16  brand_name_exist              1476208 non-null  object \n",
      " 17  brand_name_exist_enc          1476208 non-null  int32  \n",
      "dtypes: float64(1), int32(1), int64(6), object(10)\n",
      "memory usage: 197.1+ MB\n"
     ]
    }
   ],
   "source": [
    "df.info()"
   ]
  },
  {
   "cell_type": "code",
   "execution_count": 25,
   "metadata": {
    "id": "ybvbKBJDVwXU"
   },
   "outputs": [],
   "source": [
    "df=df.dropna()"
   ]
  },
  {
   "cell_type": "code",
   "execution_count": 26,
   "metadata": {
    "colab": {
     "base_uri": "https://localhost:8080/"
    },
    "id": "dmSm-Ws9VwXU",
    "outputId": "79f2f576-d24e-4622-cb74-36b4a36337ec"
   },
   "outputs": [
    {
     "name": "stdout",
     "output_type": "stream",
     "text": [
      "<class 'pandas.core.frame.DataFrame'>\n",
      "Int64Index: 845408 entries, 1 to 1476204\n",
      "Data columns (total 18 columns):\n",
      " #   Column                        Non-Null Count   Dtype  \n",
      "---  ------                        --------------   -----  \n",
      " 0   train_id                      845408 non-null  int64  \n",
      " 1   name                          845408 non-null  object \n",
      " 2   item_condition_id             845408 non-null  int64  \n",
      " 3   category_name                 845408 non-null  object \n",
      " 4   brand_name                    845408 non-null  object \n",
      " 5   price                         845408 non-null  float64\n",
      " 6   shipping                      845408 non-null  int64  \n",
      " 7   item_description              845408 non-null  object \n",
      " 8   category_name_len             845408 non-null  int64  \n",
      " 9   subcat1                       845408 non-null  object \n",
      " 10  subcat2                       845408 non-null  object \n",
      " 11  subcat3                       845408 non-null  object \n",
      " 12  subcat4                       845408 non-null  object \n",
      " 13  subcat5                       845408 non-null  object \n",
      " 14  name_each_sen_word            845408 non-null  int64  \n",
      " 15  item_desc_each_sentence_word  845408 non-null  int64  \n",
      " 16  brand_name_exist              845408 non-null  object \n",
      " 17  brand_name_exist_enc          845408 non-null  int32  \n",
      "dtypes: float64(1), int32(1), int64(6), object(10)\n",
      "memory usage: 119.3+ MB\n"
     ]
    }
   ],
   "source": [
    "df.info()"
   ]
  },
  {
   "cell_type": "code",
   "execution_count": 27,
   "metadata": {
    "id": "YxdhPtATVwXV"
   },
   "outputs": [],
   "source": [
    "df['item_description']=df['item_description'].apply(lambda x:str(x))\n",
    "df['category_name']=df['category_name'].apply(lambda x:str(x))\n",
    "# df['brand_name']=df['brand_name'].apply(lambda x:str(x))\n",
    "df['name']=df['name'].apply(lambda x:str(x))\n",
    "\n",
    "# df['brand_name']=df['brand_name'].apply(lambda x:str(x))\n",
    "# df['subcat1']=df['subcat1'].apply(lambda x:str(x))\n",
    "# df['subcat2']=df['subcat2'].apply(lambda x:str(x))\n",
    "# df['subcat3']=df['subcat3'].apply(lambda x:str(x))\n",
    "# df['subcat4']=df['subcat4'].apply(lambda x:str(x))\n",
    "# df['subcat5']=df['subcat5'].apply(lambda x:str(x))"
   ]
  },
  {
   "cell_type": "code",
   "execution_count": 28,
   "metadata": {},
   "outputs": [
    {
     "data": {
      "text/plain": [
       "(845408, 18)"
      ]
     },
     "execution_count": 28,
     "metadata": {},
     "output_type": "execute_result"
    }
   ],
   "source": [
    "df.shape"
   ]
  },
  {
   "cell_type": "code",
   "execution_count": 29,
   "metadata": {
    "colab": {
     "base_uri": "https://localhost:8080/"
    },
    "id": "jtfxAGVPVwXV",
    "outputId": "a952b116-4d62-4a63-b1ab-f13e8a2b680a"
   },
   "outputs": [
    {
     "name": "stdout",
     "output_type": "stream",
     "text": [
      "<class 'pandas.core.frame.DataFrame'>\n",
      "Int64Index: 845408 entries, 1 to 1476204\n",
      "Data columns (total 18 columns):\n",
      " #   Column                        Non-Null Count   Dtype  \n",
      "---  ------                        --------------   -----  \n",
      " 0   train_id                      845408 non-null  int64  \n",
      " 1   name                          845408 non-null  object \n",
      " 2   item_condition_id             845408 non-null  int64  \n",
      " 3   category_name                 845408 non-null  object \n",
      " 4   brand_name                    845408 non-null  object \n",
      " 5   price                         845408 non-null  float64\n",
      " 6   shipping                      845408 non-null  int64  \n",
      " 7   item_description              845408 non-null  object \n",
      " 8   category_name_len             845408 non-null  int64  \n",
      " 9   subcat1                       845408 non-null  object \n",
      " 10  subcat2                       845408 non-null  object \n",
      " 11  subcat3                       845408 non-null  object \n",
      " 12  subcat4                       845408 non-null  object \n",
      " 13  subcat5                       845408 non-null  object \n",
      " 14  name_each_sen_word            845408 non-null  int64  \n",
      " 15  item_desc_each_sentence_word  845408 non-null  int64  \n",
      " 16  brand_name_exist              845408 non-null  object \n",
      " 17  brand_name_exist_enc          845408 non-null  int32  \n",
      "dtypes: float64(1), int32(1), int64(6), object(10)\n",
      "memory usage: 119.3+ MB\n"
     ]
    }
   ],
   "source": [
    "df.info()"
   ]
  },
  {
   "cell_type": "code",
   "execution_count": 30,
   "metadata": {
    "id": "ixIxq5U6VwXV"
   },
   "outputs": [],
   "source": [
    "df.drop(columns=['brand_name_exist','train_id','category_name','brand_name_exist_enc'],inplace=True)"
   ]
  },
  {
   "cell_type": "code",
   "execution_count": 31,
   "metadata": {
    "colab": {
     "base_uri": "https://localhost:8080/"
    },
    "id": "HMD6IEUmVwXW",
    "outputId": "3d5f501f-5fff-4a96-8160-6e32505fabf2"
   },
   "outputs": [
    {
     "name": "stdout",
     "output_type": "stream",
     "text": [
      "<class 'pandas.core.frame.DataFrame'>\n",
      "Int64Index: 845408 entries, 1 to 1476204\n",
      "Data columns (total 14 columns):\n",
      " #   Column                        Non-Null Count   Dtype  \n",
      "---  ------                        --------------   -----  \n",
      " 0   name                          845408 non-null  object \n",
      " 1   item_condition_id             845408 non-null  int64  \n",
      " 2   brand_name                    845408 non-null  object \n",
      " 3   price                         845408 non-null  float64\n",
      " 4   shipping                      845408 non-null  int64  \n",
      " 5   item_description              845408 non-null  object \n",
      " 6   category_name_len             845408 non-null  int64  \n",
      " 7   subcat1                       845408 non-null  object \n",
      " 8   subcat2                       845408 non-null  object \n",
      " 9   subcat3                       845408 non-null  object \n",
      " 10  subcat4                       845408 non-null  object \n",
      " 11  subcat5                       845408 non-null  object \n",
      " 12  name_each_sen_word            845408 non-null  int64  \n",
      " 13  item_desc_each_sentence_word  845408 non-null  int64  \n",
      "dtypes: float64(1), int64(5), object(8)\n",
      "memory usage: 96.7+ MB\n"
     ]
    }
   ],
   "source": [
    "df.info()"
   ]
  },
  {
   "cell_type": "code",
   "execution_count": 32,
   "metadata": {},
   "outputs": [],
   "source": [
    "# df=pd.read_csv('preprocessed2.csv')"
   ]
  },
  {
   "cell_type": "code",
   "execution_count": 33,
   "metadata": {},
   "outputs": [
    {
     "data": {
      "text/plain": [
       "(845408, 14)"
      ]
     },
     "execution_count": 33,
     "metadata": {},
     "output_type": "execute_result"
    }
   ],
   "source": [
    "df.shape"
   ]
  },
  {
   "cell_type": "code",
   "execution_count": 34,
   "metadata": {
    "id": "UGExDwpiVwXW"
   },
   "outputs": [],
   "source": [
    "y=df['price']\n",
    "X=df.drop('price',axis=1)\n",
    "X_train, X_test, y_train, y_test = train_test_split(X, y, test_size=0.33, random_state=42)"
   ]
  },
  {
   "cell_type": "code",
   "execution_count": 35,
   "metadata": {
    "colab": {
     "base_uri": "https://localhost:8080/"
    },
    "id": "9gBku_6dVwXW",
    "outputId": "6fde2cc8-43dd-4992-9a0d-b869eb3c83ec"
   },
   "outputs": [
    {
     "data": {
      "text/plain": [
       "Index(['name', 'item_condition_id', 'brand_name', 'price', 'shipping',\n",
       "       'item_description', 'category_name_len', 'subcat1', 'subcat2',\n",
       "       'subcat3', 'subcat4', 'subcat5', 'name_each_sen_word',\n",
       "       'item_desc_each_sentence_word'],\n",
       "      dtype='object')"
      ]
     },
     "execution_count": 35,
     "metadata": {},
     "output_type": "execute_result"
    }
   ],
   "source": [
    "df.columns"
   ]
  },
  {
   "cell_type": "code",
   "execution_count": 36,
   "metadata": {
    "id": "HR-mfnUmVwXW"
   },
   "outputs": [],
   "source": [
    "# df.to_csv('preprocessed2.csv',index=False)"
   ]
  },
  {
   "cell_type": "code",
   "execution_count": 37,
   "metadata": {
    "id": "9xotAbg4VwXX"
   },
   "outputs": [],
   "source": [
    "del X,y,df"
   ]
  },
  {
   "cell_type": "code",
   "execution_count": 32,
   "metadata": {
    "id": "GUKASOmEVwXX"
   },
   "outputs": [],
   "source": [
    "# def preprocess_test_data(df_test):"
   ]
  },
  {
   "cell_type": "code",
   "execution_count": 33,
   "metadata": {
    "id": "xBplySkVVwXX"
   },
   "outputs": [],
   "source": [
    "# test_df=pd.read_csv('test_preprocessed.csv')"
   ]
  },
  {
   "cell_type": "code",
   "execution_count": 31,
   "metadata": {
    "id": "hpnUIB7xVwXX"
   },
   "outputs": [],
   "source": [
    "scaler=MinMaxScaler()\n",
    "scaler.fit(np.array(y_train).reshape(-1,1))\n",
    "y_train_minmax=scaler.transform(np.array(y_train).reshape(-1,1))\n",
    "\n",
    "y_test_minmax=scaler.transform(np.array(y_test).reshape(-1,1))"
   ]
  },
  {
   "cell_type": "code",
   "execution_count": 32,
   "metadata": {
    "id": "WBuvWW-TVwXY"
   },
   "outputs": [],
   "source": [
    "np.save('y_train_minmax',y_train_minmax)\n",
    "np.save('y_test_minmax',y_test_minmax)\n",
    "np.save('y_train',y_train)\n",
    "np.save('y_test',y_test)"
   ]
  },
  {
   "cell_type": "code",
   "execution_count": 34,
   "metadata": {
    "id": "jhFQJt4lVwXY"
   },
   "outputs": [],
   "source": []
  },
  {
   "cell_type": "code",
   "execution_count": 34,
   "metadata": {
    "id": "uHzRU6ScVwXY"
   },
   "outputs": [],
   "source": []
  },
  {
   "cell_type": "markdown",
   "metadata": {
    "id": "GH_k6vtTVwXY"
   },
   "source": [
    "# feature engineering"
   ]
  },
  {
   "cell_type": "markdown",
   "metadata": {
    "id": "HoViRzZVVwXY"
   },
   "source": [
    "# using bow"
   ]
  },
  {
   "cell_type": "markdown",
   "metadata": {
    "id": "hCV_se2vVwXZ"
   },
   "source": [
    "### converting name to bow"
   ]
  },
  {
   "cell_type": "code",
   "execution_count": 33,
   "metadata": {
    "id": "YZMLk2heVwXZ"
   },
   "outputs": [],
   "source": [
    "count_vect=CountVectorizer(min_df=50)\n",
    "count_vect.fit(X_train['name'])\n",
    "train_name_ohe = count_vect.transform(X_train['name'])\n",
    "test_name_ohe = count_vect.transform(X_test['name'])"
   ]
  },
  {
   "cell_type": "code",
   "execution_count": 34,
   "metadata": {
    "colab": {
     "base_uri": "https://localhost:8080/"
    },
    "id": "gt3t8TVaVwXZ",
    "outputId": "88c3a75e-07af-4840-a847-18856647d834"
   },
   "outputs": [
    {
     "name": "stdout",
     "output_type": "stream",
     "text": [
      "(566423, 3254)\n",
      "(278985, 3254)\n"
     ]
    }
   ],
   "source": [
    "print(train_name_ohe.shape)\n",
    "print(test_name_ohe.shape)"
   ]
  },
  {
   "cell_type": "markdown",
   "metadata": {
    "id": "7B605gYvVwXZ"
   },
   "source": [
    "### converting item_description to bow"
   ]
  },
  {
   "cell_type": "code",
   "execution_count": 35,
   "metadata": {
    "id": "PImwP1wIVwXa"
   },
   "outputs": [],
   "source": [
    "count_vect=CountVectorizer(min_df=500)\n",
    "count_vect.fit(X_train['item_description'])\n",
    "train_item_description_ohe = count_vect.transform(X_train['item_description'])\n",
    "test_item_description_ohe = count_vect.transform(X_test['item_description'])"
   ]
  },
  {
   "cell_type": "code",
   "execution_count": 36,
   "metadata": {
    "colab": {
     "base_uri": "https://localhost:8080/"
    },
    "id": "gkpwjRwWVwXa",
    "outputId": "f7f4d862-f5c5-4b35-fd33-1c52022ed7e4"
   },
   "outputs": [
    {
     "name": "stdout",
     "output_type": "stream",
     "text": [
      "(566423, 1790)\n",
      "(278985, 1790)\n"
     ]
    }
   ],
   "source": [
    "print(train_item_description_ohe.shape)\n",
    "print(test_item_description_ohe.shape)"
   ]
  },
  {
   "cell_type": "markdown",
   "metadata": {
    "id": "MwhP4TzSVwXa"
   },
   "source": [
    "### on hot encoding of brand name"
   ]
  },
  {
   "cell_type": "code",
   "execution_count": 37,
   "metadata": {
    "colab": {
     "base_uri": "https://localhost:8080/"
    },
    "id": "il3_bJVzVwXa",
    "outputId": "8e57f4c8-7b8b-4637-dd05-6669dba4bcec"
   },
   "outputs": [
    {
     "name": "stdout",
     "output_type": "stream",
     "text": [
      "(566423, 4297)\n",
      "(278985, 4297)\n"
     ]
    }
   ],
   "source": [
    "o_h_e=OneHotEncoder(handle_unknown='ignore')\n",
    "o_h_e.fit(X_train['brand_name'].values.reshape(-1,1))\n",
    "train_br_name_ohe=o_h_e.transform(X_train['brand_name'].values.reshape(-1,1))\n",
    "test_br_name_ohe=o_h_e.transform(X_test['brand_name'].values.reshape(-1,1))\n",
    "print(train_br_name_ohe.shape)\n",
    "print(test_br_name_ohe.shape)"
   ]
  },
  {
   "cell_type": "markdown",
   "metadata": {
    "id": "g0wcWYFeVwXb"
   },
   "source": [
    "### on hot encoding of subcat1"
   ]
  },
  {
   "cell_type": "code",
   "execution_count": 38,
   "metadata": {
    "colab": {
     "base_uri": "https://localhost:8080/"
    },
    "id": "YqoX9l1lVwXb",
    "outputId": "11177138-2439-48c0-ce5e-1a7a32d7009b"
   },
   "outputs": [
    {
     "name": "stdout",
     "output_type": "stream",
     "text": [
      "(566423, 10)\n",
      "(278985, 10)\n"
     ]
    }
   ],
   "source": [
    "o_h_e=OneHotEncoder(handle_unknown='ignore')\n",
    "o_h_e.fit(X_train['subcat1'].values.reshape(-1,1))\n",
    "train_subcat1_ohe=o_h_e.transform(X_train['subcat1'].values.reshape(-1,1))\n",
    "test_subcat1_ohe=o_h_e.transform(X_test['subcat1'].values.reshape(-1,1))\n",
    "print(train_subcat1_ohe.shape)\n",
    "print(test_subcat1_ohe.shape)"
   ]
  },
  {
   "cell_type": "markdown",
   "metadata": {
    "id": "LUKIPDtxVwXb"
   },
   "source": [
    "### on hot encoding of subcat2"
   ]
  },
  {
   "cell_type": "code",
   "execution_count": 39,
   "metadata": {
    "colab": {
     "base_uri": "https://localhost:8080/"
    },
    "id": "wfCAUWeFVwXc",
    "outputId": "bca1a60e-8dec-46e6-8ead-b7da35886be5"
   },
   "outputs": [
    {
     "name": "stdout",
     "output_type": "stream",
     "text": [
      "(566423, 102)\n",
      "(278985, 102)\n"
     ]
    }
   ],
   "source": [
    "o_h_e=OneHotEncoder(handle_unknown='ignore')\n",
    "o_h_e.fit(X_train['subcat2'].values.reshape(-1,1))\n",
    "train_subcat2_ohe=o_h_e.transform(X_train['subcat2'].values.reshape(-1,1))\n",
    "test_subcat2_ohe=o_h_e.transform(X_test['subcat2'].values.reshape(-1,1))\n",
    "print(train_subcat2_ohe.shape)\n",
    "print(test_subcat2_ohe.shape)"
   ]
  },
  {
   "cell_type": "markdown",
   "metadata": {
    "id": "M8vV8OW2VwXc"
   },
   "source": [
    "### on hot encoding of subcat3"
   ]
  },
  {
   "cell_type": "code",
   "execution_count": 40,
   "metadata": {
    "colab": {
     "base_uri": "https://localhost:8080/"
    },
    "id": "HhtIMsEYVwXc",
    "outputId": "71780e87-884b-44ed-c76a-7bcbc423d1af"
   },
   "outputs": [
    {
     "name": "stdout",
     "output_type": "stream",
     "text": [
      "(566423, 643)\n",
      "(278985, 643)\n"
     ]
    }
   ],
   "source": [
    "o_h_e=OneHotEncoder(handle_unknown='ignore')\n",
    "o_h_e.fit(X_train['subcat3'].values.reshape(-1,1))\n",
    "train_subcat3_ohe=o_h_e.transform(X_train['subcat3'].values.reshape(-1,1))\n",
    "test_subcat3_ohe=o_h_e.transform(X_test['subcat3'].values.reshape(-1,1))\n",
    "print(train_subcat3_ohe.shape)\n",
    "print(test_subcat3_ohe.shape)"
   ]
  },
  {
   "cell_type": "markdown",
   "metadata": {
    "id": "p1bgBuRUVwXd"
   },
   "source": [
    "### on hot encoding of subcat4"
   ]
  },
  {
   "cell_type": "code",
   "execution_count": 41,
   "metadata": {
    "colab": {
     "base_uri": "https://localhost:8080/"
    },
    "id": "I0K46ozVVwXd",
    "outputId": "ac2fae26-7fdb-4faf-84e4-25e9a76ba2af"
   },
   "outputs": [
    {
     "name": "stdout",
     "output_type": "stream",
     "text": [
      "(566423, 6)\n",
      "(278985, 6)\n"
     ]
    }
   ],
   "source": [
    "o_h_e=OneHotEncoder(handle_unknown='ignore')\n",
    "o_h_e.fit(X_train['subcat4'].values.reshape(-1,1))\n",
    "train_subcat4_ohe=o_h_e.transform(X_train['subcat4'].values.reshape(-1,1))\n",
    "test_subcat4_ohe=o_h_e.transform(X_test['subcat4'].values.reshape(-1,1))\n",
    "print(train_subcat4_ohe.shape)\n",
    "print(test_subcat4_ohe.shape)"
   ]
  },
  {
   "cell_type": "markdown",
   "metadata": {
    "id": "ZOPclZDiVwXe"
   },
   "source": [
    "### on hot encoding of subcat5"
   ]
  },
  {
   "cell_type": "code",
   "execution_count": 42,
   "metadata": {
    "colab": {
     "base_uri": "https://localhost:8080/"
    },
    "id": "_ngqxam_VwXe",
    "outputId": "d1bd878d-bc14-480f-b1d2-105f70a2d1a1"
   },
   "outputs": [
    {
     "name": "stdout",
     "output_type": "stream",
     "text": [
      "(566423, 3)\n",
      "(278985, 3)\n"
     ]
    }
   ],
   "source": [
    "o_h_e=OneHotEncoder(handle_unknown='ignore')\n",
    "o_h_e.fit(X_train['subcat5'].values.reshape(-1,1))\n",
    "train_subcat5_ohe=o_h_e.transform(X_train['subcat5'].values.reshape(-1,1))\n",
    "test_subcat5_ohe=o_h_e.transform(X_test['subcat5'].values.reshape(-1,1))\n",
    "print(train_subcat5_ohe.shape)\n",
    "print(test_subcat5_ohe.shape)"
   ]
  },
  {
   "cell_type": "markdown",
   "metadata": {
    "id": "sGlH8kKLVwXe"
   },
   "source": [
    "### minmax scaling of category_name_len"
   ]
  },
  {
   "cell_type": "code",
   "execution_count": 34,
   "metadata": {
    "id": "sFa8irPJVwXf"
   },
   "outputs": [],
   "source": [
    "scaler=MinMaxScaler()\n",
    "scaler.fit(X_train['category_name_len'].values.reshape(-1,1))\n",
    "x_tr_category_name_len=scaler.transform(X_train['category_name_len'].values.reshape(-1,1))\n",
    "\n",
    "x_te_category_name_len=scaler.transform(X_test['category_name_len'].values.reshape(-1,1))"
   ]
  },
  {
   "cell_type": "markdown",
   "metadata": {
    "id": "OfxgauH0VwXf"
   },
   "source": [
    "### minmax scaling of item_condition_id"
   ]
  },
  {
   "cell_type": "code",
   "execution_count": 35,
   "metadata": {
    "id": "L1CHapePVwXg"
   },
   "outputs": [],
   "source": [
    "scaler=MinMaxScaler()\n",
    "scaler.fit(X_train['item_condition_id'].values.reshape(-1,1))\n",
    "x_tr_item_condition_id=scaler.transform(X_train['item_condition_id'].values.reshape(-1,1))\n",
    "\n",
    "x_te_item_condition_id=scaler.transform(X_test['item_condition_id'].values.reshape(-1,1))"
   ]
  },
  {
   "cell_type": "markdown",
   "metadata": {
    "id": "5x2pMyJYVwXg"
   },
   "source": [
    "### minmax scaling of name_each_sen_word"
   ]
  },
  {
   "cell_type": "code",
   "execution_count": 36,
   "metadata": {
    "id": "R-OKGhZIVwXg"
   },
   "outputs": [],
   "source": [
    "scaler=MinMaxScaler()\n",
    "scaler.fit(X_train['name_each_sen_word'].values.reshape(-1,1))\n",
    "x_tr_name_each_sen_word=scaler.transform(X_train['name_each_sen_word'].values.reshape(-1,1))\n",
    "\n",
    "x_te_name_each_sen_word=scaler.transform(X_test['name_each_sen_word'].values.reshape(-1,1))"
   ]
  },
  {
   "cell_type": "markdown",
   "metadata": {
    "id": "SW9E5VxJVwXh"
   },
   "source": [
    "### minmax scaling of item_desc_each_sentence_word"
   ]
  },
  {
   "cell_type": "code",
   "execution_count": 37,
   "metadata": {
    "id": "sEVcZ6gIVwXh"
   },
   "outputs": [],
   "source": [
    "scaler=MinMaxScaler()\n",
    "scaler.fit(X_train['item_desc_each_sentence_word'].values.reshape(-1,1))\n",
    "x_tr_item_desc_words_len =scaler.transform(X_train['item_desc_each_sentence_word'].values.reshape(-1,1))\n",
    "\n",
    "x_te_item_desc_words_len =scaler.transform(X_test['item_desc_each_sentence_word'].values.reshape(-1,1))"
   ]
  },
  {
   "cell_type": "markdown",
   "metadata": {
    "id": "QMpkslciVwXh"
   },
   "source": [
    "### reshaping shipping, brand_name_exist_enc"
   ]
  },
  {
   "cell_type": "code",
   "execution_count": 38,
   "metadata": {
    "id": "MuICltIwVwXi"
   },
   "outputs": [],
   "source": [
    "# x_tr_item_condition_id=X_train['item_condition_id'].values.reshape(989059,1)\n",
    "x_tr_shipping=X_train['shipping'].values.reshape(566423,1)\n",
    "# x_tr_category_name_len=X_train['category_name_len'].values.reshape(989059,1)\n",
    "# x_tr_brand_name_exist_enc=X_train['brand_name_exist_enc'].values.reshape(566423,1)\n",
    "\n",
    "# x_te_item_condition_id=X_test['item_condition_id'].values.reshape(487149,1)\n",
    "x_te_shipping=X_test['shipping'].values.reshape(278985,1)\n",
    "# x_te_category_name_len=X_test['category_name_len'].values.reshape(487149,1)\n",
    "# x_te_brand_name_exist_enc=X_test['brand_name_exist_enc'].values.reshape(278985,1)"
   ]
  },
  {
   "cell_type": "markdown",
   "metadata": {
    "id": "Z7mJIr4xVwXi"
   },
   "source": [
    "### concatenating all train vectors with scipy hstack"
   ]
  },
  {
   "cell_type": "code",
   "execution_count": 50,
   "metadata": {
    "id": "J6Sn08hXVwXj"
   },
   "outputs": [],
   "source": [
    "x_tr_o_h_e = sc.sparse.hstack((train_name_ohe,train_item_description_ohe,train_br_name_ohe,train_subcat1_ohe,\n",
    "                               train_subcat2_ohe,train_subcat3_ohe,train_subcat4_ohe,train_subcat5_ohe,\n",
    "                               x_tr_category_name_len,x_tr_item_condition_id,x_tr_name_each_sen_word,x_tr_item_desc_words_len,x_tr_shipping))"
   ]
  },
  {
   "cell_type": "code",
   "execution_count": 51,
   "metadata": {
    "colab": {
     "base_uri": "https://localhost:8080/"
    },
    "id": "QRdIxbMOVwXj",
    "outputId": "91272f63-468e-4675-a997-f5180f9bdbdd"
   },
   "outputs": [
    {
     "data": {
      "text/plain": [
       "(566423, 10110)"
      ]
     },
     "execution_count": 51,
     "metadata": {
      "tags": []
     },
     "output_type": "execute_result"
    }
   ],
   "source": [
    "x_tr_o_h_e.shape"
   ]
  },
  {
   "cell_type": "markdown",
   "metadata": {
    "id": "dpwjReMwVwXk"
   },
   "source": [
    "### concatenating all test vectors with scipy hstack"
   ]
  },
  {
   "cell_type": "code",
   "execution_count": 52,
   "metadata": {
    "id": "hYNgPlNzVwXk"
   },
   "outputs": [],
   "source": [
    "x_te_o_h_e = sc.sparse.hstack((test_name_ohe,test_item_description_ohe,test_br_name_ohe,test_subcat1_ohe,\n",
    "                               test_subcat2_ohe,test_subcat3_ohe,test_subcat4_ohe,test_subcat5_ohe,\n",
    "                               x_te_category_name_len,x_te_item_condition_id,x_te_name_each_sen_word,x_te_item_desc_words_len,x_te_shipping))"
   ]
  },
  {
   "cell_type": "code",
   "execution_count": 53,
   "metadata": {
    "colab": {
     "base_uri": "https://localhost:8080/"
    },
    "id": "JpfV2mOHVwXl",
    "outputId": "b408f4ad-0af9-4fbb-b604-55021daeb6fa"
   },
   "outputs": [
    {
     "data": {
      "text/plain": [
       "(278985, 10110)"
      ]
     },
     "execution_count": 53,
     "metadata": {
      "tags": []
     },
     "output_type": "execute_result"
    }
   ],
   "source": [
    "x_te_o_h_e.shape"
   ]
  },
  {
   "cell_type": "code",
   "execution_count": 54,
   "metadata": {
    "id": "MUTrfcY1VwXl"
   },
   "outputs": [],
   "source": [
    "# saving x_tr_o_h_e AND x_te_o_h_e.\n",
    "sc.sparse.save_npz('train_OHE.npz',x_tr_o_h_e)\n",
    "sc.sparse.save_npz('test_OHE.npz',x_te_o_h_e)"
   ]
  },
  {
   "cell_type": "markdown",
   "metadata": {
    "id": "rnrdVdfnVwXm"
   },
   "source": [
    "# using tf-idf"
   ]
  },
  {
   "cell_type": "markdown",
   "metadata": {
    "id": "4BfXuo26VwXm"
   },
   "source": [
    "### converting name and description in tfidf vector"
   ]
  },
  {
   "cell_type": "code",
   "execution_count": 48,
   "metadata": {
    "colab": {
     "base_uri": "https://localhost:8080/"
    },
    "id": "DwrN8UdJVwXm",
    "outputId": "cb821e50-6d64-4132-a969-5a2e718b93c2"
   },
   "outputs": [
    {
     "name": "stdout",
     "output_type": "stream",
     "text": [
      "(566423, 1310)\n",
      "(278985, 1310)\n"
     ]
    }
   ],
   "source": [
    "vect=TfidfVectorizer(min_df=200)\n",
    "vect.fit(X_train['name'])\n",
    "train_tfidf_name=vect.transform(X_train['name'])\n",
    "test_tfidf_name=vect.transform(X_test['name'])\n",
    "print(train_tfidf_name.shape)\n",
    "print(test_tfidf_name.shape)"
   ]
  },
  {
   "cell_type": "code",
   "execution_count": 49,
   "metadata": {
    "colab": {
     "base_uri": "https://localhost:8080/"
    },
    "id": "myq57w1KVwXn",
    "outputId": "164c2b7b-e535-4236-f201-044a81e16c01"
   },
   "outputs": [
    {
     "name": "stdout",
     "output_type": "stream",
     "text": [
      "(566423, 1790)\n",
      "(278985, 1790)\n"
     ]
    }
   ],
   "source": [
    "vect=TfidfVectorizer(min_df=500)\n",
    "vect.fit(X_train['item_description'])\n",
    "train_tfidf_item_desc=vect.transform(X_train['item_description'])\n",
    "test_tfidf_item_desc=vect.transform(X_test['item_description'])\n",
    "print(train_tfidf_item_desc.shape)\n",
    "print(test_tfidf_item_desc.shape)"
   ]
  },
  {
   "cell_type": "markdown",
   "metadata": {
    "id": "zq20yYrzVwXn"
   },
   "source": [
    "### concatenating all train vectors with scipy hstack"
   ]
  },
  {
   "cell_type": "code",
   "execution_count": 57,
   "metadata": {
    "id": "PB15BplTVwXn"
   },
   "outputs": [],
   "source": [
    "x_tr_tfidf = sc.sparse.hstack((train_tfidf_name,train_tfidf_item_desc,train_br_name_ohe,train_subcat1_ohe,train_subcat2_ohe,train_subcat3_ohe,train_subcat4_ohe,train_subcat5_ohe,x_tr_category_name_len,x_tr_item_condition_id,x_tr_name_each_sen_word,x_tr_item_desc_words_len,x_tr_shipping))"
   ]
  },
  {
   "cell_type": "markdown",
   "metadata": {
    "id": "dBzA8dxYVwXo"
   },
   "source": [
    "### concatenating all test vectors with scipy hstack"
   ]
  },
  {
   "cell_type": "code",
   "execution_count": 58,
   "metadata": {
    "id": "Mp-05g4WVwXo"
   },
   "outputs": [],
   "source": [
    "x_te_tfidf = sc.sparse.hstack((test_tfidf_name,test_tfidf_item_desc,test_br_name_ohe,test_subcat1_ohe,test_subcat2_ohe,test_subcat3_ohe,test_subcat4_ohe,test_subcat5_ohe,x_te_category_name_len,x_te_item_condition_id,x_te_name_each_sen_word,x_te_item_desc_words_len,x_te_shipping))"
   ]
  },
  {
   "cell_type": "code",
   "execution_count": 59,
   "metadata": {
    "id": "ZUHvFEhRVwXo"
   },
   "outputs": [],
   "source": [
    "# saving x_tr_tfidf and x_te_tfidf.\n",
    "sc.sparse.save_npz('train_tfidf.npz',x_tr_tfidf)\n",
    "sc.sparse.save_npz('test_tfidf.npz',x_te_tfidf)"
   ]
  },
  {
   "cell_type": "code",
   "execution_count": 60,
   "metadata": {
    "colab": {
     "base_uri": "https://localhost:8080/"
    },
    "id": "xKWxBeebVwXp",
    "outputId": "801a559f-0dd7-427b-cd18-5f6201a4854b"
   },
   "outputs": [
    {
     "name": "stdout",
     "output_type": "stream",
     "text": [
      "(566423, 8166)\n",
      "(278985, 8166)\n"
     ]
    }
   ],
   "source": [
    "print(x_tr_tfidf.shape)\n",
    "print(x_te_tfidf.shape)"
   ]
  },
  {
   "cell_type": "markdown",
   "metadata": {
    "id": "4PBIUQdjVwXp"
   },
   "source": [
    "# using word2vec model"
   ]
  },
  {
   "cell_type": "markdown",
   "metadata": {
    "id": "aB53mGhdVwXp"
   },
   "source": [
    "### converting name and description to vector with word2vec model"
   ]
  },
  {
   "cell_type": "code",
   "execution_count": 61,
   "metadata": {
    "id": "sDg9ntxkVwXq"
   },
   "outputs": [],
   "source": [
    "\n",
    "with open('/content/drive/MyDrive/glove_vectors_100.pkl','rb') as f:\n",
    "  w2v_model=pickle.load(f)\n",
    "  glove_vec=set(w2v_model.keys())"
   ]
  },
  {
   "cell_type": "code",
   "execution_count": 62,
   "metadata": {
    "id": "ojTiahT1VwXq"
   },
   "outputs": [],
   "source": [
    "def making_w2v_vectors(item_description,column):\n",
    "\n",
    "\n",
    "  tfidf_model=TfidfVectorizer()\n",
    "  tfidf_model.fit(X_train[column])\n",
    "\n",
    "  dictionary=dict(zip(tfidf_model.get_feature_names(),list(tfidf_model.idf_)))\n",
    "  tfidf_words=set(tfidf_model.get_feature_names())\n",
    "\n",
    "\n",
    "  tfidf_w2v_vec=[]\n",
    "  for desc in item_description:\n",
    "    vector=np.zeros(100)\n",
    "    tfidf_weight=0\n",
    "    for word in desc.split():\n",
    "      if (word in glove_vec) & (word in tfidf_words):\n",
    "        vec=w2v_model[word]\n",
    "        tfidf=dictionary[word]*(desc.count(word)/len(desc.split()))\n",
    "        vector+=(vec*tfidf)\n",
    "        tfidf_weight+=tfidf\n",
    "    if tfidf_weight != 0:\n",
    "      vector/= tfidf_weight\n",
    "    tfidf_w2v_vec.append(vector)\n",
    "  return np.array(tfidf_w2v_vec)"
   ]
  },
  {
   "cell_type": "code",
   "execution_count": 63,
   "metadata": {
    "id": "7LUiediAVwXq"
   },
   "outputs": [],
   "source": [
    "x_tr_item_description_w2v=making_w2v_vectors(X_train['item_description'].values,'item_description')\n",
    "x_te_item_description_w2v=making_w2v_vectors(X_test['item_description'].values,'item_description')"
   ]
  },
  {
   "cell_type": "code",
   "execution_count": 64,
   "metadata": {
    "colab": {
     "base_uri": "https://localhost:8080/"
    },
    "id": "pucADQ7JBIB4",
    "outputId": "e094ec0f-f0b1-4b80-8eb5-8fb9c307ac05"
   },
   "outputs": [
    {
     "data": {
      "text/plain": [
       "(100,)"
      ]
     },
     "execution_count": 64,
     "metadata": {
      "tags": []
     },
     "output_type": "execute_result"
    }
   ],
   "source": [
    "w2v_model['word'].shape"
   ]
  },
  {
   "cell_type": "code",
   "execution_count": 65,
   "metadata": {
    "id": "mgsx57jzVwXr"
   },
   "outputs": [],
   "source": [
    "x_tr_name_w2v=making_w2v_vectors(X_train['name'].values,'name')\n",
    "x_te_name_w2v=making_w2v_vectors(X_test['name'].values,'name')"
   ]
  },
  {
   "cell_type": "code",
   "execution_count": null,
   "metadata": {
    "id": "MG4PH4sCuFUa"
   },
   "outputs": [],
   "source": [
    "del test_br_name_ohe,test_subcat1_ohe,test_subcat2_ohe,test_subcat3_ohe,test_subcat4_ohe,test_subcat5_ohe,x_te_category_name_len,x_te_item_condition_id,x_te_name_each_sen_word,x_te_item_desc_words_len,x_te_shipping"
   ]
  },
  {
   "cell_type": "code",
   "execution_count": 66,
   "metadata": {
    "id": "-95zGkFz9C1Q"
   },
   "outputs": [],
   "source": [
    "del X_train, X_test"
   ]
  },
  {
   "cell_type": "code",
   "execution_count": 67,
   "metadata": {
    "id": "afYau8toVwXr"
   },
   "outputs": [],
   "source": [
    "x_tr_w2v = sc.sparse.hstack((x_tr_name_w2v,x_tr_item_description_w2v,train_br_name_ohe,train_subcat1_ohe,train_subcat2_ohe,train_subcat3_ohe,train_subcat4_ohe,train_subcat5_ohe,x_tr_category_name_len,x_tr_item_condition_id,x_tr_name_each_sen_word,x_tr_item_desc_words_len,x_tr_shipping))"
   ]
  },
  {
   "cell_type": "code",
   "execution_count": 68,
   "metadata": {
    "colab": {
     "base_uri": "https://localhost:8080/"
    },
    "id": "AyEc5S3Eck5a",
    "outputId": "0fb37ec0-f09b-48da-88ad-48240a9b9191"
   },
   "outputs": [
    {
     "data": {
      "text/plain": [
       "(566423, 5266)"
      ]
     },
     "execution_count": 68,
     "metadata": {
      "tags": []
     },
     "output_type": "execute_result"
    }
   ],
   "source": [
    "x_tr_w2v.shape"
   ]
  },
  {
   "cell_type": "code",
   "execution_count": 69,
   "metadata": {
    "id": "itSn1rkOVwXs"
   },
   "outputs": [],
   "source": [
    "x_te_w2v = sc.sparse.hstack((x_te_name_w2v,x_te_item_description_w2v,test_br_name_ohe,test_subcat1_ohe,test_subcat2_ohe,test_subcat3_ohe,test_subcat4_ohe,test_subcat5_ohe,x_te_category_name_len,x_te_item_condition_id,x_te_name_each_sen_word,x_te_item_desc_words_len,x_te_shipping))"
   ]
  },
  {
   "cell_type": "code",
   "execution_count": 70,
   "metadata": {
    "colab": {
     "base_uri": "https://localhost:8080/"
    },
    "id": "dON6nCWMVwXs",
    "outputId": "0eac5305-f1d8-4dbc-cee7-a4ead91b5083"
   },
   "outputs": [
    {
     "data": {
      "text/plain": [
       "(278985, 5266)"
      ]
     },
     "execution_count": 70,
     "metadata": {
      "tags": []
     },
     "output_type": "execute_result"
    }
   ],
   "source": [
    "x_te_w2v.shape"
   ]
  },
  {
   "cell_type": "code",
   "execution_count": 71,
   "metadata": {
    "id": "OY2Z1XCcVwXs"
   },
   "outputs": [],
   "source": [
    "# saving word2vec vectors\n",
    "sc.sparse.save_npz('train_w2v.npz',x_tr_w2v)\n",
    "sc.sparse.save_npz('test_w2v.npz',x_te_w2v)"
   ]
  },
  {
   "cell_type": "code",
   "execution_count": 72,
   "metadata": {
    "id": "T2AuiFpkVwXt"
   },
   "outputs": [],
   "source": [
    "del x_tr_w2v,x_te_w2v\n",
    "# ,x_tr_tfidf,x_te_tfidf,x_tr_o_h_e,x_te_o_h_e"
   ]
  },
  {
   "cell_type": "markdown",
   "metadata": {
    "id": "ACU0tTrbVwXt"
   },
   "source": [
    "# first cut models"
   ]
  },
  {
   "cell_type": "markdown",
   "metadata": {
    "id": "HB83s6idVwXt"
   },
   "source": [
    "### loading all bow train and test features and tfidf train and test features and word2vec train and test features"
   ]
  },
  {
   "cell_type": "code",
   "execution_count": 4,
   "metadata": {
    "id": "s4EscnCQVwXu"
   },
   "outputs": [],
   "source": [
    "train_OHE=sc.sparse.load_npz('train_OHE.npz')\n",
    "test_OHE=sc.sparse.load_npz('test_OHE.npz')"
   ]
  },
  {
   "cell_type": "code",
   "execution_count": 5,
   "metadata": {
    "id": "rrESao51VwXu"
   },
   "outputs": [],
   "source": [
    "train_tfidf=sc.sparse.load_npz('train_tfidf.npz')\n",
    "test_tfidf=sc.sparse.load_npz('test_tfidf.npz')"
   ]
  },
  {
   "cell_type": "code",
   "execution_count": 37,
   "metadata": {
    "id": "pMbrU1TrVwXu"
   },
   "outputs": [],
   "source": [
    "train_w2v=sc.sparse.load_npz('train_w2v.npz')\n",
    "test_w2v=sc.sparse.load_npz('test_w2v.npz')"
   ]
  },
  {
   "cell_type": "code",
   "execution_count": 38,
   "metadata": {
    "id": "1UWhg1HJtC0A"
   },
   "outputs": [],
   "source": [
    "y_train_minmax=np.load('y_train_minmax.npy')\n",
    "y_test_minmax=np.load('y_test_minmax.npy')"
   ]
  },
  {
   "cell_type": "code",
   "execution_count": 8,
   "metadata": {},
   "outputs": [],
   "source": [
    "y_train=np.load('y_train.npy')\n",
    "y_test=np.load('y_test.npy')"
   ]
  },
  {
   "cell_type": "markdown",
   "metadata": {
    "id": "tCDkFWF6VwXv"
   },
   "source": [
    "## random model"
   ]
  },
  {
   "cell_type": "code",
   "execution_count": null,
   "metadata": {
    "id": "oklvjN4lVwXv",
    "outputId": "d8ba4199-4e07-4ed7-dfe1-a90d2ae9916c"
   },
   "outputs": [
    {
     "data": {
      "text/plain": [
       "0.015394926997195524"
      ]
     },
     "execution_count": 75,
     "metadata": {
      "tags": []
     },
     "output_type": "execute_result"
    }
   ],
   "source": [
    "y_test_minmax.mean()"
   ]
  },
  {
   "cell_type": "code",
   "execution_count": null,
   "metadata": {
    "id": "dwBshV5IVwXw",
    "outputId": "e5035f66-3978-4fe5-e756-06b09245e9a1"
   },
   "outputs": [
    {
     "name": "stdout",
     "output_type": "stream",
     "text": [
      "mean_squared_error on Test Data using Random Model 2046.111599547367\n"
     ]
    }
   ],
   "source": [
    "avg_price=y_test_minmax.mean()\n",
    "predicted_y = [avg_price for i in range(test_tfidf.shape[0])]\n",
    "y_pred1=(np.array(predicted_y)*y_train.max())-y_train.min()\n",
    "print(\"mean_squared_error on Test Data using Random Model\",mean_squared_error(y_test, y_pred1))"
   ]
  },
  {
   "cell_type": "markdown",
   "metadata": {
    "id": "iGoWYKLIVwXw"
   },
   "source": [
    "## sgd regression model"
   ]
  },
  {
   "cell_type": "markdown",
   "metadata": {
    "id": "wycNZCAnVwXw"
   },
   "source": [
    "### on one_hot_encoded data"
   ]
  },
  {
   "cell_type": "code",
   "execution_count": null,
   "metadata": {
    "id": "YRsrTnarVwXx",
    "outputId": "71675fff-7b17-4263-c282-67dc6f91f882"
   },
   "outputs": [
    {
     "data": {
      "text/plain": [
       "GridSearchCV(estimator=SGDRegressor(),\n",
       "             param_grid={'alpha': [0.0001, 0.001, 0.1, 1],\n",
       "                         'max_iter': [1000, 2000, 3000, 4000, 5000],\n",
       "                         'penalty': ('l2', 'l1', 'elasticnet')})"
      ]
     },
     "execution_count": 80,
     "metadata": {
      "tags": []
     },
     "output_type": "execute_result"
    }
   ],
   "source": [
    "model1=SGDRegressor()\n",
    "parameters={'penalty':('l2', 'l1', 'elasticnet'),'alpha':[0.0001,0.001,0.1,1],'max_iter':[1000,2000,3000,4000,5000]}\n",
    "cv=GridSearchCV(model1,parameters)\n",
    "cv.fit(train_OHE,y_train_minmax.ravel())"
   ]
  },
  {
   "cell_type": "code",
   "execution_count": null,
   "metadata": {
    "id": "2CZEld1fVwXx",
    "outputId": "8cf262d9-5954-4812-e0bb-ec72a80194db"
   },
   "outputs": [
    {
     "data": {
      "text/plain": [
       "{'alpha': 0.0001, 'max_iter': 1000, 'penalty': 'l2'}"
      ]
     },
     "execution_count": 81,
     "metadata": {
      "tags": []
     },
     "output_type": "execute_result"
    }
   ],
   "source": [
    "cv.best_params_"
   ]
  },
  {
   "cell_type": "code",
   "execution_count": null,
   "metadata": {
    "id": "DSPyiWkaVwXy",
    "outputId": "ef9a1108-0718-4c8e-843e-d75e06acf5d2"
   },
   "outputs": [
    {
     "data": {
      "text/plain": [
       "1185.9232737978691"
      ]
     },
     "execution_count": 85,
     "metadata": {
      "tags": []
     },
     "output_type": "execute_result"
    }
   ],
   "source": [
    "model1=SGDRegressor(alpha=0.0001,max_iter=2000,penalty='l2')\n",
    "model1.fit(train_OHE,y_train_minmax.ravel())\n",
    "y_pred=model1.predict(test_OHE)\n",
    "y_pred1=(y_pred*y_train.max())-y_train.min()\n",
    "mean_squared_error(y_test,y_pred1)"
   ]
  },
  {
   "cell_type": "markdown",
   "metadata": {
    "id": "LPdQsOPsVwXy"
   },
   "source": [
    "### on tfidf data"
   ]
  },
  {
   "cell_type": "code",
   "execution_count": null,
   "metadata": {
    "id": "Eft4tczZVwXy",
    "outputId": "837b1c8d-a188-48ab-cbea-3f3ede231c97"
   },
   "outputs": [
    {
     "data": {
      "text/plain": [
       "GridSearchCV(estimator=SGDRegressor(),\n",
       "             param_grid={'alpha': [0.0001, 0.001, 0.1, 1],\n",
       "                         'max_iter': [1000, 2000, 3000, 4000],\n",
       "                         'penalty': ['l2']})"
      ]
     },
     "execution_count": 86,
     "metadata": {
      "tags": []
     },
     "output_type": "execute_result"
    }
   ],
   "source": [
    "model1=SGDRegressor()\n",
    "parameters={'penalty':['l2'],'alpha':[0.0001,0.001,0.1,1],'max_iter':[1000,2000,3000,4000]}\n",
    "cv=GridSearchCV(model1,parameters)\n",
    "cv.fit(train_tfidf,y_train_minmax.ravel())"
   ]
  },
  {
   "cell_type": "code",
   "execution_count": null,
   "metadata": {
    "id": "sjL1O9SvVwXz",
    "outputId": "9fbabb10-58f6-4db2-c357-f49a25869967"
   },
   "outputs": [
    {
     "data": {
      "text/plain": [
       "{'alpha': 0.0001, 'max_iter': 2000, 'penalty': 'l2'}"
      ]
     },
     "execution_count": 87,
     "metadata": {
      "tags": []
     },
     "output_type": "execute_result"
    }
   ],
   "source": [
    "cv.best_params_"
   ]
  },
  {
   "cell_type": "code",
   "execution_count": null,
   "metadata": {
    "id": "VP33WAjYVwXz",
    "outputId": "825c466e-329e-48bf-ddb8-39f0c07c17a8"
   },
   "outputs": [
    {
     "data": {
      "text/plain": [
       "1263.6086742356529"
      ]
     },
     "execution_count": 88,
     "metadata": {
      "tags": []
     },
     "output_type": "execute_result"
    }
   ],
   "source": [
    "model=SGDRegressor(alpha=0.0001,max_iter=2000,penalty='l2')\n",
    "model.fit(train_tfidf,y_train_minmax.ravel())\n",
    "y_pred=model.predict(test_tfidf)\n",
    "y_pred1=(y_pred*y_train.max())-y_train.min()\n",
    "mean_squared_error(y_test,y_pred1)"
   ]
  },
  {
   "cell_type": "markdown",
   "metadata": {
    "id": "u6xwCYFMVwX0"
   },
   "source": [
    "### on word2vec data"
   ]
  },
  {
   "cell_type": "code",
   "execution_count": null,
   "metadata": {
    "id": "KTNf2oOOVwX0",
    "outputId": "2d3fbb0b-68de-4d6b-eb08-b6f1643f117a"
   },
   "outputs": [
    {
     "data": {
      "text/plain": [
       "GridSearchCV(estimator=SGDRegressor(),\n",
       "             param_grid={'alpha': [0.0001, 0.001, 0.1, 1],\n",
       "                         'max_iter': [1000, 2000, 3000, 4000],\n",
       "                         'penalty': ['l2']})"
      ]
     },
     "execution_count": 89,
     "metadata": {
      "tags": []
     },
     "output_type": "execute_result"
    }
   ],
   "source": [
    "model1=SGDRegressor()\n",
    "parameters={'penalty':['l2'],'alpha':[0.0001,0.001,0.1,1],'max_iter':[1000,2000,3000,4000]}\n",
    "cv=GridSearchCV(model1,parameters)\n",
    "cv.fit(train_w2v,y_train_minmax.ravel())"
   ]
  },
  {
   "cell_type": "code",
   "execution_count": null,
   "metadata": {
    "id": "Riv8-Bj-VwX0",
    "outputId": "244c7f3a-da13-4292-9c95-e90cd73d6d4e"
   },
   "outputs": [
    {
     "data": {
      "text/plain": [
       "{'alpha': 0.0001, 'max_iter': 2000, 'penalty': 'l2'}"
      ]
     },
     "execution_count": 90,
     "metadata": {
      "tags": []
     },
     "output_type": "execute_result"
    }
   ],
   "source": [
    "cv.best_params_"
   ]
  },
  {
   "cell_type": "code",
   "execution_count": null,
   "metadata": {
    "id": "8vle1eQMVwX1",
    "outputId": "9ebd75b6-c8f5-410a-bc9b-2eeddc3372cd"
   },
   "outputs": [
    {
     "data": {
      "text/plain": [
       "SGDRegressor(max_iter=2000)"
      ]
     },
     "execution_count": 91,
     "metadata": {
      "tags": []
     },
     "output_type": "execute_result"
    }
   ],
   "source": [
    "model1=SGDRegressor(alpha=0.0001,max_iter=2000)\n",
    "model1.fit(train_w2v,y_train_minmax.ravel())"
   ]
  },
  {
   "cell_type": "code",
   "execution_count": null,
   "metadata": {
    "id": "2tx2sfsxVwX1",
    "outputId": "586e9899-a906-4a63-f312-412a11fa6279"
   },
   "outputs": [
    {
     "data": {
      "text/plain": [
       "1366.0221819213325"
      ]
     },
     "execution_count": 92,
     "metadata": {
      "tags": []
     },
     "output_type": "execute_result"
    }
   ],
   "source": [
    "y_pred=model1.predict(test_w2v)\n",
    "y_pred1=(y_pred*y_train.max())-y_train.min()\n",
    "mean_squared_error(y_test,y_pred1)"
   ]
  },
  {
   "cell_type": "code",
   "execution_count": null,
   "metadata": {
    "id": "1FESWI1wVwX1"
   },
   "outputs": [],
   "source": []
  },
  {
   "cell_type": "markdown",
   "metadata": {
    "id": "P356IEf7VwX1"
   },
   "source": [
    "## LGBM regressor"
   ]
  },
  {
   "cell_type": "markdown",
   "metadata": {
    "id": "ndlF7ipnVwX1"
   },
   "source": [
    "### on one_hot_encoder data"
   ]
  },
  {
   "cell_type": "code",
   "execution_count": null,
   "metadata": {
    "id": "SF6qcyDGVwX1"
   },
   "outputs": [],
   "source": []
  },
  {
   "cell_type": "code",
   "execution_count": null,
   "metadata": {
    "id": "2V-Ez-CHVwX2"
   },
   "outputs": [],
   "source": [
    "model_nb=LGBMRegressor(n_jobs=-1)\n",
    "parameters={\n",
    "    'learning_rate':[0.0001,0.001,0.1],\n",
    "    'n_estimators':[50,100,150,200],\n",
    "    'num_leaves':[20,40,60],\n",
    "    'max_depth':[2,3,4,5,6,7,8],\n",
    "    'boosting_type':['gbdt']\n",
    "}\n",
    "cv=GridSearchCV(model_nb,parameters,n_jobs=-1)\n",
    "cv.fit(train_OHE,y_train_minmax.ravel())"
   ]
  },
  {
   "cell_type": "code",
   "execution_count": null,
   "metadata": {
    "id": "M03kO5GWVwX2",
    "outputId": "c9a7b0a7-96c2-433a-920e-23717e907615"
   },
   "outputs": [
    {
     "data": {
      "text/plain": [
       "{'alpha': 0.0001, 'max_iter': 2000, 'penalty': 'l2'}"
      ]
     },
     "execution_count": 94,
     "metadata": {
      "tags": []
     },
     "output_type": "execute_result"
    }
   ],
   "source": [
    "cv.best_params_"
   ]
  },
  {
   "cell_type": "code",
   "execution_count": null,
   "metadata": {
    "id": "KXcPU5wiVwX2",
    "outputId": "a95d8e5a-aa94-4612-a7a3-2f1842350299"
   },
   "outputs": [
    {
     "name": "stderr",
     "output_type": "stream",
     "text": [
      "C:\\Users\\vishw\\anaconda3\\envs\\tf-gpu-1\\lib\\site-packages\\lightgbm\\basic.py:497: UserWarning: Converting data to scipy sparse matrix.\n",
      "  warnings.warn('Converting data to scipy sparse matrix.')\n"
     ]
    },
    {
     "data": {
      "text/plain": [
       "1041.8287375206562"
      ]
     },
     "execution_count": 95,
     "metadata": {
      "tags": []
     },
     "output_type": "execute_result"
    }
   ],
   "source": [
    "model_nb=LGBMRegressor(alpha=0.0001,max_iter=2000,n_jobs=-1)\n",
    "model_nb.fit(train_OHE,y_train_minmax.ravel())\n",
    "y_pred=model_nb.predict(test_OHE)\n",
    "y_pred1=(y_pred*y_train.max())-y_train.min()\n",
    "mean_squared_error(y_test,y_pred1)"
   ]
  },
  {
   "cell_type": "markdown",
   "metadata": {
    "id": "HUD77p4NVwX2"
   },
   "source": [
    "### on tfidf data"
   ]
  },
  {
   "cell_type": "code",
   "execution_count": null,
   "metadata": {
    "id": "qfvGtJzPVwX2",
    "outputId": "73d6b5d1-af5a-4e87-921c-f972125107f7"
   },
   "outputs": [
    {
     "data": {
      "text/plain": [
       "GridSearchCV(estimator=LGBMRegressor(), n_jobs=-1,\n",
       "             param_grid={'boosting_type': ['gbdt'],\n",
       "                         'learning_rate': [0.0001, 0.001, 0.1],\n",
       "                         'max_depth': [2, 3, 4, 5, 6, 7, 8],\n",
       "                         'n_estimators': [50, 100, 150, 200],\n",
       "                         'num_leaves': [20, 40, 60]})"
      ]
     },
     "execution_count": 96,
     "metadata": {
      "tags": []
     },
     "output_type": "execute_result"
    }
   ],
   "source": [
    "model_nb=LGBMRegressor(n_jobs=-1)\n",
    "parameters={\n",
    "    'learning_rate':[0.0001,0.001,0.1],\n",
    "    'n_estimators':[50,100,150,200],\n",
    "    'num_leaves':[20,40,60],\n",
    "    'max_depth':[2,3,4,5,6,7,8],\n",
    "    'boosting_type':['gbdt']\n",
    "}\n",
    "cv=GridSearchCV(model_nb,parameters,n_jobs=-1)\n",
    "cv.fit(train_tfidf,y_train_minmax.ravel())"
   ]
  },
  {
   "cell_type": "code",
   "execution_count": null,
   "metadata": {
    "id": "89B2oS_UVwX2",
    "outputId": "d3c258b4-44e3-4c70-8303-536b0d2f8f3d"
   },
   "outputs": [
    {
     "data": {
      "text/plain": [
       "{'boosting_type': 'gbdt',\n",
       " 'learning_rate': 0.1,\n",
       " 'max_depth': 8,\n",
       " 'n_estimators': 200,\n",
       " 'num_leaves': 60}"
      ]
     },
     "execution_count": 97,
     "metadata": {
      "tags": []
     },
     "output_type": "execute_result"
    }
   ],
   "source": [
    "cv.best_params_"
   ]
  },
  {
   "cell_type": "code",
   "execution_count": null,
   "metadata": {
    "id": "7bKM1deKVwX3",
    "outputId": "ae9fb30b-8515-416e-824d-91c290125a4d"
   },
   "outputs": [
    {
     "data": {
      "text/plain": [
       "LGBMRegressor(max_depth=8, n_estimators=200, num_leaves=60)"
      ]
     },
     "execution_count": 98,
     "metadata": {
      "tags": []
     },
     "output_type": "execute_result"
    }
   ],
   "source": [
    "model=LGBMRegressor(learning_rate=0.1,max_depth=8,n_estimators=200,num_leaves=60,n_jobs=-1)\n",
    "model.fit(train_tfidf,y_train_minmax.ravel())"
   ]
  },
  {
   "cell_type": "code",
   "execution_count": null,
   "metadata": {
    "id": "D0rZYQlQVwX3",
    "outputId": "93d96932-5320-4ff7-f501-213b656474fc"
   },
   "outputs": [
    {
     "name": "stderr",
     "output_type": "stream",
     "text": [
      "C:\\Users\\vishw\\anaconda3\\envs\\tf-gpu-1\\lib\\site-packages\\lightgbm\\basic.py:497: UserWarning: Converting data to scipy sparse matrix.\n",
      "  warnings.warn('Converting data to scipy sparse matrix.')\n"
     ]
    },
    {
     "data": {
      "text/plain": [
       "1002.4700899534373"
      ]
     },
     "execution_count": 99,
     "metadata": {
      "tags": []
     },
     "output_type": "execute_result"
    }
   ],
   "source": [
    "y_pred=model.predict(test_tfidf)\n",
    "y_pred1=(y_pred*y_train.max())-y_train.min()\n",
    "mean_squared_error(y_test,y_pred1)"
   ]
  },
  {
   "cell_type": "code",
   "execution_count": null,
   "metadata": {
    "id": "lTIa1Tx_VwX3"
   },
   "outputs": [],
   "source": []
  },
  {
   "cell_type": "markdown",
   "metadata": {
    "id": "JSdVC_CkVwX3"
   },
   "source": [
    "### on w2v data"
   ]
  },
  {
   "cell_type": "code",
   "execution_count": null,
   "metadata": {
    "id": "TQwTze73sthb"
   },
   "outputs": [],
   "source": [
    "train_w2v=train_w2v.tocsr()"
   ]
  },
  {
   "cell_type": "code",
   "execution_count": null,
   "metadata": {
    "id": "_fQMXTpwszbS"
   },
   "outputs": [],
   "source": [
    "train_w2v=train_w2v.astype(dtype=np.float32)"
   ]
  },
  {
   "cell_type": "code",
   "execution_count": null,
   "metadata": {
    "id": "yqHHaPUms3mr"
   },
   "outputs": [],
   "source": [
    "y_train_minmax=y_train_minmax.astype(dtype=np.float32)"
   ]
  },
  {
   "cell_type": "code",
   "execution_count": null,
   "metadata": {
    "id": "zUW5tRUfVwX3"
   },
   "outputs": [],
   "source": [
    "model_nb=LGBMRegressor()\n",
    "parameters={\n",
    "    'learning_rate':[0.0001,0.001,0.1],\n",
    "    'n_estimators':[100,150,200],\n",
    "    'num_leaves':[20,40,60],\n",
    "    'max_depth':[5,6,7,8],\n",
    "    'boosting_type':['gbdt']\n",
    "}\n",
    "cv=GridSearchCV(model_nb,parameters)\n",
    "cv.fit(train_w2v,y_train_minmax.ravel())"
   ]
  },
  {
   "cell_type": "code",
   "execution_count": null,
   "metadata": {
    "colab": {
     "base_uri": "https://localhost:8080/"
    },
    "id": "Kz2RYO8fu2WL",
    "outputId": "204e0312-6036-443d-dff7-04187872d553"
   },
   "outputs": [
    {
     "data": {
      "text/plain": [
       "{'boosting_type': 'gbdt',\n",
       " 'learning_rate': 0.1,\n",
       " 'max_depth': 8,\n",
       " 'n_estimators': 200,\n",
       " 'num_leaves': 60}"
      ]
     },
     "execution_count": 42,
     "metadata": {
      "tags": []
     },
     "output_type": "execute_result"
    }
   ],
   "source": [
    "cv.best_params_"
   ]
  },
  {
   "cell_type": "code",
   "execution_count": null,
   "metadata": {
    "colab": {
     "base_uri": "https://localhost:8080/"
    },
    "id": "ye-VkUonVwX4",
    "outputId": "a845e2f5-d619-4bf1-838f-20bea0e77563"
   },
   "outputs": [
    {
     "data": {
      "text/plain": [
       "LGBMRegressor(boosting_type='gbdt', class_weight=None, colsample_bytree=1.0,\n",
       "              importance_type='split', learning_rate=0.1, max_depth=8,\n",
       "              min_child_samples=20, min_child_weight=0.001, min_split_gain=0.0,\n",
       "              n_estimators=200, n_jobs=-1, num_leaves=60, objective=None,\n",
       "              random_state=None, reg_alpha=0.0, reg_lambda=0.0, silent=True,\n",
       "              subsample=1.0, subsample_for_bin=200000, subsample_freq=0)"
      ]
     },
     "execution_count": 43,
     "metadata": {
      "tags": []
     },
     "output_type": "execute_result"
    }
   ],
   "source": [
    "model=LGBMRegressor(boosting_type='gbdt',learning_rate=0.1,max_depth=8,n_estimators=200,num_leaves=60,n_jobs=-1)\n",
    "model.fit(train_w2v,y_train_minmax.ravel())"
   ]
  },
  {
   "cell_type": "code",
   "execution_count": null,
   "metadata": {
    "colab": {
     "base_uri": "https://localhost:8080/"
    },
    "id": "MeF4Ahg2VwX4",
    "outputId": "5565d17f-53ab-4ffa-feb4-f6a4a8141ac1"
   },
   "outputs": [
    {
     "name": "stderr",
     "output_type": "stream",
     "text": [
      "/usr/local/lib/python3.6/dist-packages/lightgbm/basic.py:478: UserWarning: Converting data to scipy sparse matrix.\n",
      "  warnings.warn('Converting data to scipy sparse matrix.')\n"
     ]
    },
    {
     "data": {
      "text/plain": [
       "1065.7670587612715"
      ]
     },
     "execution_count": 44,
     "metadata": {
      "tags": []
     },
     "output_type": "execute_result"
    }
   ],
   "source": [
    "y_pred=model.predict(test_w2v)\n",
    "y_pred1=(y_pred*y_train.max())-y_train.min()\n",
    "mean_squared_error(y_test,y_pred1)"
   ]
  },
  {
   "cell_type": "code",
   "execution_count": null,
   "metadata": {
    "id": "Aor436JzVwX4"
   },
   "outputs": [],
   "source": []
  },
  {
   "cell_type": "markdown",
   "metadata": {
    "id": "Ahru58RAEKRQ"
   },
   "source": [
    "## ridge regression model"
   ]
  },
  {
   "cell_type": "markdown",
   "metadata": {
    "id": "fZq6s_PyEKRT"
   },
   "source": [
    "### on one_hot_encoded data"
   ]
  },
  {
   "cell_type": "code",
   "execution_count": null,
   "metadata": {
    "colab": {
     "base_uri": "https://localhost:8080/"
    },
    "id": "up-hwge-EKRT",
    "outputId": "6b0b1068-e202-4f0c-97d3-3391aeb473f8"
   },
   "outputs": [
    {
     "data": {
      "text/plain": [
       "GridSearchCV(cv=None, error_score=nan,\n",
       "             estimator=Ridge(alpha=1.0, copy_X=True, fit_intercept=True,\n",
       "                             max_iter=None, normalize=False, random_state=None,\n",
       "                             solver='auto', tol=0.001),\n",
       "             iid='deprecated', n_jobs=None,\n",
       "             param_grid={'alpha': [0.0001, 0.001, 0.1, 1],\n",
       "                         'max_iter': [1000, 2000, 3000, 4000, 5000]},\n",
       "             pre_dispatch='2*n_jobs', refit=True, return_train_score=False,\n",
       "             scoring=None, verbose=0)"
      ]
     },
     "execution_count": 45,
     "metadata": {
      "tags": []
     },
     "output_type": "execute_result"
    }
   ],
   "source": [
    "model1=Ridge()\n",
    "parameters={'alpha':[0.0001,0.001,0.1,1],'max_iter':[1000,2000,3000,4000,5000]}\n",
    "cv=GridSearchCV(model1,parameters)\n",
    "cv.fit(train_OHE,y_train_minmax.ravel())"
   ]
  },
  {
   "cell_type": "code",
   "execution_count": null,
   "metadata": {
    "colab": {
     "base_uri": "https://localhost:8080/"
    },
    "id": "GUesaBTGEKRU",
    "outputId": "0b754acf-7363-4d99-99d6-8dffd46290de"
   },
   "outputs": [
    {
     "data": {
      "text/plain": [
       "{'alpha': 1, 'max_iter': 1000}"
      ]
     },
     "execution_count": 46,
     "metadata": {
      "tags": []
     },
     "output_type": "execute_result"
    }
   ],
   "source": [
    "cv.best_params_"
   ]
  },
  {
   "cell_type": "code",
   "execution_count": null,
   "metadata": {
    "colab": {
     "base_uri": "https://localhost:8080/"
    },
    "id": "8HZH6xfGEKRU",
    "outputId": "ae393218-1f07-42f8-e02a-8a0576436564"
   },
   "outputs": [
    {
     "data": {
      "text/plain": [
       "1108.1823044828038"
      ]
     },
     "execution_count": 47,
     "metadata": {
      "tags": []
     },
     "output_type": "execute_result"
    }
   ],
   "source": [
    "model1=Ridge(alpha=1,max_iter=1000)\n",
    "model1.fit(train_OHE,y_train_minmax.ravel())\n",
    "y_pred=model1.predict(test_OHE)\n",
    "y_pred1=(y_pred*y_train.max())-y_train.min()\n",
    "mean_squared_error(y_test,y_pred1)"
   ]
  },
  {
   "cell_type": "markdown",
   "metadata": {
    "id": "nCSwrGS9EKRU"
   },
   "source": [
    "### on tfidf data"
   ]
  },
  {
   "cell_type": "code",
   "execution_count": null,
   "metadata": {
    "colab": {
     "base_uri": "https://localhost:8080/"
    },
    "id": "xSVLfNxHEKRU",
    "outputId": "27a34122-e5f2-41df-9d49-54cd505bfcf8"
   },
   "outputs": [
    {
     "data": {
      "text/plain": [
       "GridSearchCV(cv=None, error_score=nan,\n",
       "             estimator=Ridge(alpha=1.0, copy_X=True, fit_intercept=True,\n",
       "                             max_iter=None, normalize=False, random_state=None,\n",
       "                             solver='auto', tol=0.001),\n",
       "             iid='deprecated', n_jobs=None,\n",
       "             param_grid={'alpha': [0.0001, 0.001, 0.1, 1],\n",
       "                         'max_iter': [1000, 2000, 3000, 4000, 5000]},\n",
       "             pre_dispatch='2*n_jobs', refit=True, return_train_score=False,\n",
       "             scoring=None, verbose=0)"
      ]
     },
     "execution_count": 48,
     "metadata": {
      "tags": []
     },
     "output_type": "execute_result"
    }
   ],
   "source": [
    "model1=Ridge()\n",
    "parameters={'alpha':[0.0001,0.001,0.1,1],'max_iter':[1000,2000,3000,4000,5000]}\n",
    "cv=GridSearchCV(model1,parameters)\n",
    "cv.fit(train_tfidf,y_train_minmax.ravel())"
   ]
  },
  {
   "cell_type": "code",
   "execution_count": null,
   "metadata": {
    "colab": {
     "base_uri": "https://localhost:8080/"
    },
    "id": "n3XhvbVyEKRV",
    "outputId": "c8972de2-6b63-4a6d-db80-d87c983ced48"
   },
   "outputs": [
    {
     "data": {
      "text/plain": [
       "{'alpha': 1, 'max_iter': 1000}"
      ]
     },
     "execution_count": 49,
     "metadata": {
      "tags": []
     },
     "output_type": "execute_result"
    }
   ],
   "source": [
    "cv.best_params_"
   ]
  },
  {
   "cell_type": "code",
   "execution_count": null,
   "metadata": {
    "colab": {
     "base_uri": "https://localhost:8080/"
    },
    "id": "sINKz0d1EKRV",
    "outputId": "2fd5fca4-b89d-4605-865e-c32b92eed989"
   },
   "outputs": [
    {
     "data": {
      "text/plain": [
       "1157.3765013362556"
      ]
     },
     "execution_count": 50,
     "metadata": {
      "tags": []
     },
     "output_type": "execute_result"
    }
   ],
   "source": [
    "model=Ridge(alpha=1,max_iter=1000)\n",
    "model.fit(train_tfidf,y_train_minmax.ravel())\n",
    "y_pred=model.predict(test_tfidf)\n",
    "y_pred1=(y_pred*y_train.max())-y_train.min()\n",
    "mean_squared_error(y_test,y_pred1)"
   ]
  },
  {
   "cell_type": "markdown",
   "metadata": {
    "id": "v0--UkHDEKRV"
   },
   "source": [
    "### on word2vec data"
   ]
  },
  {
   "cell_type": "code",
   "execution_count": null,
   "metadata": {
    "colab": {
     "base_uri": "https://localhost:8080/"
    },
    "id": "9SO-ix2lEKRV",
    "outputId": "ca2604b2-a980-466b-c49e-ce36595cbb85"
   },
   "outputs": [
    {
     "data": {
      "text/plain": [
       "GridSearchCV(cv=None, error_score=nan,\n",
       "             estimator=Ridge(alpha=1.0, copy_X=True, fit_intercept=True,\n",
       "                             max_iter=None, normalize=False, random_state=None,\n",
       "                             solver='auto', tol=0.001),\n",
       "             iid='deprecated', n_jobs=None,\n",
       "             param_grid={'alpha': [0.0001, 0.001, 0.1, 1],\n",
       "                         'max_iter': [1000, 2000, 3000, 4000, 5000]},\n",
       "             pre_dispatch='2*n_jobs', refit=True, return_train_score=False,\n",
       "             scoring=None, verbose=0)"
      ]
     },
     "execution_count": 77,
     "metadata": {
      "tags": []
     },
     "output_type": "execute_result"
    }
   ],
   "source": [
    "model1=Ridge()\n",
    "parameters={'alpha':[0.0001,0.001,0.1,1],'max_iter':[1000,2000,3000,4000,5000]}\n",
    "cv=GridSearchCV(model1,parameters)\n",
    "cv.fit(train_w2v,y_train_minmax.ravel())"
   ]
  },
  {
   "cell_type": "code",
   "execution_count": null,
   "metadata": {
    "colab": {
     "base_uri": "https://localhost:8080/"
    },
    "id": "6OJNISImEKRW",
    "outputId": "06483fad-05e0-41d7-a334-d82f98e90401"
   },
   "outputs": [
    {
     "data": {
      "text/plain": [
       "{'alpha': 1, 'max_iter': 1000}"
      ]
     },
     "execution_count": 78,
     "metadata": {
      "tags": []
     },
     "output_type": "execute_result"
    }
   ],
   "source": [
    "cv.best_params_"
   ]
  },
  {
   "cell_type": "code",
   "execution_count": null,
   "metadata": {
    "colab": {
     "base_uri": "https://localhost:8080/"
    },
    "id": "0mpAvJlMEKRW",
    "outputId": "159d3ecd-df11-40c6-dc95-5a4d36c7bdfa"
   },
   "outputs": [
    {
     "data": {
      "text/plain": [
       "Ridge(alpha=1, copy_X=True, fit_intercept=True, max_iter=1000, normalize=False,\n",
       "      random_state=None, solver='auto', tol=0.001)"
      ]
     },
     "execution_count": 79,
     "metadata": {
      "tags": []
     },
     "output_type": "execute_result"
    }
   ],
   "source": [
    "model1=Ridge(alpha=1,max_iter=1000)\n",
    "model1.fit(train_w2v,y_train_minmax.ravel())"
   ]
  },
  {
   "cell_type": "code",
   "execution_count": null,
   "metadata": {
    "colab": {
     "base_uri": "https://localhost:8080/"
    },
    "id": "x7cHfthfEKRW",
    "outputId": "53d46106-22b5-46cd-b3b0-fb2fdab4c2c4"
   },
   "outputs": [
    {
     "data": {
      "text/plain": [
       "1303.9030920207463"
      ]
     },
     "execution_count": 80,
     "metadata": {
      "tags": []
     },
     "output_type": "execute_result"
    }
   ],
   "source": [
    "y_pred=model1.predict(test_w2v)\n",
    "y_pred1=(y_pred*y_train.max())-y_train.min()\n",
    "mean_squared_error(y_test,y_pred1)"
   ]
  },
  {
   "cell_type": "code",
   "execution_count": null,
   "metadata": {
    "id": "nDGox-jIEKRW"
   },
   "outputs": [],
   "source": []
  },
  {
   "cell_type": "markdown",
   "metadata": {
    "id": "gmh4Rz1WEc3j"
   },
   "source": [
    "## lasso regression model"
   ]
  },
  {
   "cell_type": "markdown",
   "metadata": {
    "id": "4IGza01sEc3q"
   },
   "source": [
    "### on one_hot_encoded data"
   ]
  },
  {
   "cell_type": "code",
   "execution_count": null,
   "metadata": {
    "colab": {
     "base_uri": "https://localhost:8080/"
    },
    "id": "9n6q7OcOEc3q",
    "outputId": "fafce9b3-247e-4e50-b1e8-b495d52d98b2"
   },
   "outputs": [
    {
     "data": {
      "text/plain": [
       "GridSearchCV(cv=None, error_score=nan,\n",
       "             estimator=Lasso(alpha=1.0, copy_X=True, fit_intercept=True,\n",
       "                             max_iter=1000, normalize=False, positive=False,\n",
       "                             precompute=False, random_state=None,\n",
       "                             selection='cyclic', tol=0.0001, warm_start=False),\n",
       "             iid='deprecated', n_jobs=None,\n",
       "             param_grid={'alpha': [0.0001, 0.001, 0.1, 1],\n",
       "                         'max_iter': [1000, 2000, 3000, 4000, 5000]},\n",
       "             pre_dispatch='2*n_jobs', refit=True, return_train_score=False,\n",
       "             scoring=None, verbose=0)"
      ]
     },
     "execution_count": 82,
     "metadata": {
      "tags": []
     },
     "output_type": "execute_result"
    }
   ],
   "source": [
    "model1=Lasso()\n",
    "parameters={'alpha':[0.0001,0.001,0.1,1],'max_iter':[1000,2000,3000,4000,5000]}\n",
    "cv=GridSearchCV(model1,parameters)\n",
    "cv.fit(train_OHE,y_train_minmax.ravel())"
   ]
  },
  {
   "cell_type": "code",
   "execution_count": null,
   "metadata": {
    "colab": {
     "base_uri": "https://localhost:8080/"
    },
    "id": "RXodKyosEc3r",
    "outputId": "f608dca6-aaf6-4470-e595-909740af9994"
   },
   "outputs": [
    {
     "data": {
      "text/plain": [
       "{'alpha': 0.0001, 'max_iter': 1000}"
      ]
     },
     "execution_count": 83,
     "metadata": {
      "tags": []
     },
     "output_type": "execute_result"
    }
   ],
   "source": [
    "cv.best_params_"
   ]
  },
  {
   "cell_type": "code",
   "execution_count": null,
   "metadata": {
    "colab": {
     "base_uri": "https://localhost:8080/"
    },
    "id": "OZyI3QojEc3s",
    "outputId": "efb1d1c8-aad0-4fb8-bcc0-b90f410646a1"
   },
   "outputs": [
    {
     "data": {
      "text/plain": [
       "1592.7692487645227"
      ]
     },
     "execution_count": 84,
     "metadata": {
      "tags": []
     },
     "output_type": "execute_result"
    }
   ],
   "source": [
    "model1=Lasso(alpha=0.0001,max_iter=1000)\n",
    "model1.fit(train_OHE,y_train_minmax.ravel())\n",
    "y_pred=model1.predict(test_OHE)\n",
    "y_pred1=(y_pred*y_train.max())-y_train.min()\n",
    "mean_squared_error(y_test,y_pred1)"
   ]
  },
  {
   "cell_type": "markdown",
   "metadata": {
    "id": "B5FWFJAaEc3s"
   },
   "source": [
    "### on tfidf data"
   ]
  },
  {
   "cell_type": "code",
   "execution_count": null,
   "metadata": {
    "colab": {
     "base_uri": "https://localhost:8080/"
    },
    "id": "mGtYKzVCEc3s",
    "outputId": "abe7b7f6-fc09-4c8d-d20e-672833e067ea"
   },
   "outputs": [
    {
     "data": {
      "text/plain": [
       "GridSearchCV(cv=None, error_score=nan,\n",
       "             estimator=Lasso(alpha=1.0, copy_X=True, fit_intercept=True,\n",
       "                             max_iter=1000, normalize=False, positive=False,\n",
       "                             precompute=False, random_state=None,\n",
       "                             selection='cyclic', tol=0.0001, warm_start=False),\n",
       "             iid='deprecated', n_jobs=None,\n",
       "             param_grid={'alpha': [0.0001, 0.001, 0.1, 1],\n",
       "                         'max_iter': [1000, 2000, 3000, 4000, 5000]},\n",
       "             pre_dispatch='2*n_jobs', refit=True, return_train_score=False,\n",
       "             scoring=None, verbose=0)"
      ]
     },
     "execution_count": 85,
     "metadata": {
      "tags": []
     },
     "output_type": "execute_result"
    }
   ],
   "source": [
    "model1=Lasso()\n",
    "parameters={'alpha':[0.0001,0.001,0.1,1],'max_iter':[1000,2000,3000,4000,5000]}\n",
    "cv=GridSearchCV(model1,parameters)\n",
    "cv.fit(train_tfidf,y_train_minmax.ravel())"
   ]
  },
  {
   "cell_type": "code",
   "execution_count": null,
   "metadata": {
    "colab": {
     "base_uri": "https://localhost:8080/"
    },
    "id": "uXXFf7L6Ec3s",
    "outputId": "4c3dd7fa-308b-41d5-8d5e-c89c2d67174c"
   },
   "outputs": [
    {
     "data": {
      "text/plain": [
       "{'alpha': 0.0001, 'max_iter': 1000}"
      ]
     },
     "execution_count": 86,
     "metadata": {
      "tags": []
     },
     "output_type": "execute_result"
    }
   ],
   "source": [
    "cv.best_params_"
   ]
  },
  {
   "cell_type": "code",
   "execution_count": null,
   "metadata": {
    "colab": {
     "base_uri": "https://localhost:8080/"
    },
    "id": "J8LRPzhFEc3t",
    "outputId": "31806860-a320-4d49-8145-c6827c7ee12a"
   },
   "outputs": [
    {
     "data": {
      "text/plain": [
       "1672.541736078684"
      ]
     },
     "execution_count": 87,
     "metadata": {
      "tags": []
     },
     "output_type": "execute_result"
    }
   ],
   "source": [
    "model=Lasso(alpha=0.0001,max_iter=1000)\n",
    "model.fit(train_tfidf,y_train_minmax.ravel())\n",
    "y_pred=model.predict(test_tfidf)\n",
    "y_pred1=(y_pred*y_train.max())-y_train.min()\n",
    "mean_squared_error(y_test,y_pred1)"
   ]
  },
  {
   "cell_type": "markdown",
   "metadata": {
    "id": "pSE85KY-Ec3t"
   },
   "source": [
    "### on word2vec data"
   ]
  },
  {
   "cell_type": "code",
   "execution_count": null,
   "metadata": {
    "colab": {
     "base_uri": "https://localhost:8080/"
    },
    "id": "WT1LmCsDEc3t",
    "outputId": "bdbe0157-a280-431e-dcbc-3ca80c2afe56"
   },
   "outputs": [
    {
     "data": {
      "text/plain": [
       "GridSearchCV(cv=None, error_score=nan,\n",
       "             estimator=Lasso(alpha=1.0, copy_X=True, fit_intercept=True,\n",
       "                             max_iter=1000, normalize=False, positive=False,\n",
       "                             precompute=False, random_state=None,\n",
       "                             selection='cyclic', tol=0.0001, warm_start=False),\n",
       "             iid='deprecated', n_jobs=None,\n",
       "             param_grid={'alpha': [0.0001, 0.001, 0.1, 1],\n",
       "                         'max_iter': [1000, 2000, 3000, 4000, 5000]},\n",
       "             pre_dispatch='2*n_jobs', refit=True, return_train_score=False,\n",
       "             scoring=None, verbose=0)"
      ]
     },
     "execution_count": 88,
     "metadata": {
      "tags": []
     },
     "output_type": "execute_result"
    }
   ],
   "source": [
    "model1=Lasso()\n",
    "parameters={'alpha':[0.0001,0.001,0.1,1],'max_iter':[1000,2000,3000,4000,5000]}\n",
    "cv=GridSearchCV(model1,parameters)\n",
    "cv.fit(train_w2v,y_train_minmax.ravel())"
   ]
  },
  {
   "cell_type": "code",
   "execution_count": null,
   "metadata": {
    "colab": {
     "base_uri": "https://localhost:8080/"
    },
    "id": "T1p6ctKyEc3t",
    "outputId": "2faab6aa-951c-4be9-9834-f57469cff465"
   },
   "outputs": [
    {
     "data": {
      "text/plain": [
       "{'alpha': 0.0001, 'max_iter': 1000}"
      ]
     },
     "execution_count": 89,
     "metadata": {
      "tags": []
     },
     "output_type": "execute_result"
    }
   ],
   "source": [
    "cv.best_params_"
   ]
  },
  {
   "cell_type": "code",
   "execution_count": null,
   "metadata": {
    "colab": {
     "base_uri": "https://localhost:8080/"
    },
    "id": "2H9dFrNpEc3t",
    "outputId": "d7d727b8-316b-4427-f9f5-ee946321711b"
   },
   "outputs": [
    {
     "data": {
      "text/plain": [
       "Lasso(alpha=0.0001, copy_X=True, fit_intercept=True, max_iter=2000,\n",
       "      normalize=False, positive=False, precompute=False, random_state=None,\n",
       "      selection='cyclic', tol=0.0001, warm_start=False)"
      ]
     },
     "execution_count": 90,
     "metadata": {
      "tags": []
     },
     "output_type": "execute_result"
    }
   ],
   "source": [
    "model1=Lasso(alpha=0.0001,max_iter=2000)\n",
    "model1.fit(train_w2v,y_train_minmax.ravel())"
   ]
  },
  {
   "cell_type": "code",
   "execution_count": null,
   "metadata": {
    "colab": {
     "base_uri": "https://localhost:8080/"
    },
    "id": "AiTGeIbnEc3u",
    "outputId": "9cfc9cd0-d08a-4f12-f536-ed13ea87bb98"
   },
   "outputs": [
    {
     "data": {
      "text/plain": [
       "1644.802402975319"
      ]
     },
     "execution_count": 91,
     "metadata": {
      "tags": []
     },
     "output_type": "execute_result"
    }
   ],
   "source": [
    "y_pred=model1.predict(test_w2v)\n",
    "y_pred1=(y_pred*y_train.max())-y_train.min()\n",
    "mean_squared_error(y_test,y_pred1)"
   ]
  },
  {
   "cell_type": "code",
   "execution_count": null,
   "metadata": {
    "id": "WR60n4T5Ec3u"
   },
   "outputs": [],
   "source": []
  },
  {
   "cell_type": "markdown",
   "metadata": {
    "id": "QElnTw3lFANL"
   },
   "source": [
    "## XGBRegressor model"
   ]
  },
  {
   "cell_type": "markdown",
   "metadata": {
    "id": "8w0hzYGJFANN"
   },
   "source": [
    "### on one_hot_encoded data"
   ]
  },
  {
   "cell_type": "code",
   "execution_count": 6,
   "metadata": {
    "colab": {
     "base_uri": "https://localhost:8080/"
    },
    "id": "uN-7N9NMFANN",
    "outputId": "e07dff95-4e11-49de-f032-f313c61caf8c"
   },
   "outputs": [
    {
     "name": "stdout",
     "output_type": "stream",
     "text": [
      "[08:01:58] WARNING: src/objective/regression_obj.cu:152: reg:linear is now deprecated in favor of reg:squarederror.\n",
      "[08:03:19] WARNING: src/objective/regression_obj.cu:152: reg:linear is now deprecated in favor of reg:squarederror.\n",
      "[08:04:32] WARNING: src/objective/regression_obj.cu:152: reg:linear is now deprecated in favor of reg:squarederror.\n",
      "[08:05:45] WARNING: src/objective/regression_obj.cu:152: reg:linear is now deprecated in favor of reg:squarederror.\n",
      "[08:06:58] WARNING: src/objective/regression_obj.cu:152: reg:linear is now deprecated in favor of reg:squarederror.\n",
      "[08:08:12] WARNING: src/objective/regression_obj.cu:152: reg:linear is now deprecated in favor of reg:squarederror.\n",
      "[08:09:48] WARNING: src/objective/regression_obj.cu:152: reg:linear is now deprecated in favor of reg:squarederror.\n",
      "[08:11:24] WARNING: src/objective/regression_obj.cu:152: reg:linear is now deprecated in favor of reg:squarederror.\n",
      "[08:13:01] WARNING: src/objective/regression_obj.cu:152: reg:linear is now deprecated in favor of reg:squarederror.\n",
      "[08:14:38] WARNING: src/objective/regression_obj.cu:152: reg:linear is now deprecated in favor of reg:squarederror.\n",
      "[08:16:14] WARNING: src/objective/regression_obj.cu:152: reg:linear is now deprecated in favor of reg:squarederror.\n",
      "[08:18:28] WARNING: src/objective/regression_obj.cu:152: reg:linear is now deprecated in favor of reg:squarederror.\n",
      "[08:21:05] WARNING: src/objective/regression_obj.cu:152: reg:linear is now deprecated in favor of reg:squarederror.\n",
      "[08:23:41] WARNING: src/objective/regression_obj.cu:152: reg:linear is now deprecated in favor of reg:squarederror.\n",
      "[08:26:20] WARNING: src/objective/regression_obj.cu:152: reg:linear is now deprecated in favor of reg:squarederror.\n",
      "[08:28:51] WARNING: src/objective/regression_obj.cu:152: reg:linear is now deprecated in favor of reg:squarederror.\n",
      "[08:30:49] WARNING: src/objective/regression_obj.cu:152: reg:linear is now deprecated in favor of reg:squarederror.\n",
      "[08:32:46] WARNING: src/objective/regression_obj.cu:152: reg:linear is now deprecated in favor of reg:squarederror.\n",
      "[08:34:43] WARNING: src/objective/regression_obj.cu:152: reg:linear is now deprecated in favor of reg:squarederror.\n",
      "[08:36:30] WARNING: src/objective/regression_obj.cu:152: reg:linear is now deprecated in favor of reg:squarederror.\n",
      "[08:38:21] WARNING: src/objective/regression_obj.cu:152: reg:linear is now deprecated in favor of reg:squarederror.\n",
      "[08:40:56] WARNING: src/objective/regression_obj.cu:152: reg:linear is now deprecated in favor of reg:squarederror.\n",
      "[08:43:15] WARNING: src/objective/regression_obj.cu:152: reg:linear is now deprecated in favor of reg:squarederror.\n",
      "[08:45:34] WARNING: src/objective/regression_obj.cu:152: reg:linear is now deprecated in favor of reg:squarederror.\n",
      "[08:48:02] WARNING: src/objective/regression_obj.cu:152: reg:linear is now deprecated in favor of reg:squarederror.\n",
      "[08:50:24] WARNING: src/objective/regression_obj.cu:152: reg:linear is now deprecated in favor of reg:squarederror.\n",
      "[08:53:26] WARNING: src/objective/regression_obj.cu:152: reg:linear is now deprecated in favor of reg:squarederror.\n",
      "[08:56:29] WARNING: src/objective/regression_obj.cu:152: reg:linear is now deprecated in favor of reg:squarederror.\n",
      "[08:59:27] WARNING: src/objective/regression_obj.cu:152: reg:linear is now deprecated in favor of reg:squarederror.\n",
      "[09:02:32] WARNING: src/objective/regression_obj.cu:152: reg:linear is now deprecated in favor of reg:squarederror.\n",
      "[09:05:38] WARNING: src/objective/regression_obj.cu:152: reg:linear is now deprecated in favor of reg:squarederror.\n",
      "[09:07:37] WARNING: src/objective/regression_obj.cu:152: reg:linear is now deprecated in favor of reg:squarederror.\n",
      "[09:09:31] WARNING: src/objective/regression_obj.cu:152: reg:linear is now deprecated in favor of reg:squarederror.\n",
      "[09:11:27] WARNING: src/objective/regression_obj.cu:152: reg:linear is now deprecated in favor of reg:squarederror.\n",
      "[09:13:23] WARNING: src/objective/regression_obj.cu:152: reg:linear is now deprecated in favor of reg:squarederror.\n",
      "[09:15:17] WARNING: src/objective/regression_obj.cu:152: reg:linear is now deprecated in favor of reg:squarederror.\n",
      "[09:17:52] WARNING: src/objective/regression_obj.cu:152: reg:linear is now deprecated in favor of reg:squarederror.\n",
      "[09:20:27] WARNING: src/objective/regression_obj.cu:152: reg:linear is now deprecated in favor of reg:squarederror.\n",
      "[09:23:01] WARNING: src/objective/regression_obj.cu:152: reg:linear is now deprecated in favor of reg:squarederror.\n",
      "[09:25:37] WARNING: src/objective/regression_obj.cu:152: reg:linear is now deprecated in favor of reg:squarederror.\n",
      "[09:28:01] WARNING: src/objective/regression_obj.cu:152: reg:linear is now deprecated in favor of reg:squarederror.\n",
      "[09:31:05] WARNING: src/objective/regression_obj.cu:152: reg:linear is now deprecated in favor of reg:squarederror.\n",
      "[09:34:20] WARNING: src/objective/regression_obj.cu:152: reg:linear is now deprecated in favor of reg:squarederror.\n",
      "[09:37:34] WARNING: src/objective/regression_obj.cu:152: reg:linear is now deprecated in favor of reg:squarederror.\n",
      "[09:40:49] WARNING: src/objective/regression_obj.cu:152: reg:linear is now deprecated in favor of reg:squarederror.\n",
      "[09:44:05] WARNING: src/objective/regression_obj.cu:152: reg:linear is now deprecated in favor of reg:squarederror.\n",
      "[09:45:30] WARNING: src/objective/regression_obj.cu:152: reg:linear is now deprecated in favor of reg:squarederror.\n",
      "[09:46:56] WARNING: src/objective/regression_obj.cu:152: reg:linear is now deprecated in favor of reg:squarederror.\n",
      "[09:48:24] WARNING: src/objective/regression_obj.cu:152: reg:linear is now deprecated in favor of reg:squarederror.\n",
      "[09:49:51] WARNING: src/objective/regression_obj.cu:152: reg:linear is now deprecated in favor of reg:squarederror.\n",
      "[09:51:14] WARNING: src/objective/regression_obj.cu:152: reg:linear is now deprecated in favor of reg:squarederror.\n",
      "[09:53:05] WARNING: src/objective/regression_obj.cu:152: reg:linear is now deprecated in favor of reg:squarederror.\n",
      "[09:54:55] WARNING: src/objective/regression_obj.cu:152: reg:linear is now deprecated in favor of reg:squarederror.\n",
      "[09:56:47] WARNING: src/objective/regression_obj.cu:152: reg:linear is now deprecated in favor of reg:squarederror.\n",
      "[09:58:37] WARNING: src/objective/regression_obj.cu:152: reg:linear is now deprecated in favor of reg:squarederror.\n",
      "[10:00:28] WARNING: src/objective/regression_obj.cu:152: reg:linear is now deprecated in favor of reg:squarederror.\n",
      "[10:02:44] WARNING: src/objective/regression_obj.cu:152: reg:linear is now deprecated in favor of reg:squarederror.\n",
      "[10:05:03] WARNING: src/objective/regression_obj.cu:152: reg:linear is now deprecated in favor of reg:squarederror.\n",
      "[10:07:22] WARNING: src/objective/regression_obj.cu:152: reg:linear is now deprecated in favor of reg:squarederror.\n",
      "[10:09:39] WARNING: src/objective/regression_obj.cu:152: reg:linear is now deprecated in favor of reg:squarederror.\n",
      "[10:11:58] WARNING: src/objective/regression_obj.cu:152: reg:linear is now deprecated in favor of reg:squarederror.\n",
      "[10:13:38] WARNING: src/objective/regression_obj.cu:152: reg:linear is now deprecated in favor of reg:squarederror.\n",
      "[10:15:18] WARNING: src/objective/regression_obj.cu:152: reg:linear is now deprecated in favor of reg:squarederror.\n",
      "[10:16:57] WARNING: src/objective/regression_obj.cu:152: reg:linear is now deprecated in favor of reg:squarederror.\n",
      "[10:18:37] WARNING: src/objective/regression_obj.cu:152: reg:linear is now deprecated in favor of reg:squarederror.\n",
      "[10:20:16] WARNING: src/objective/regression_obj.cu:152: reg:linear is now deprecated in favor of reg:squarederror.\n",
      "[10:22:28] WARNING: src/objective/regression_obj.cu:152: reg:linear is now deprecated in favor of reg:squarederror.\n",
      "[10:24:40] WARNING: src/objective/regression_obj.cu:152: reg:linear is now deprecated in favor of reg:squarederror.\n",
      "[10:26:52] WARNING: src/objective/regression_obj.cu:152: reg:linear is now deprecated in favor of reg:squarederror.\n",
      "[10:29:04] WARNING: src/objective/regression_obj.cu:152: reg:linear is now deprecated in favor of reg:squarederror.\n",
      "[10:31:14] WARNING: src/objective/regression_obj.cu:152: reg:linear is now deprecated in favor of reg:squarederror.\n"
     ]
    },
    {
     "name": "stdout",
     "output_type": "stream",
     "text": [
      "[10:33:58] WARNING: src/objective/regression_obj.cu:152: reg:linear is now deprecated in favor of reg:squarederror.\n",
      "[10:36:41] WARNING: src/objective/regression_obj.cu:152: reg:linear is now deprecated in favor of reg:squarederror.\n",
      "[10:39:25] WARNING: src/objective/regression_obj.cu:152: reg:linear is now deprecated in favor of reg:squarederror.\n",
      "[10:41:58] WARNING: src/objective/regression_obj.cu:152: reg:linear is now deprecated in favor of reg:squarederror.\n",
      "[10:44:32] WARNING: src/objective/regression_obj.cu:152: reg:linear is now deprecated in favor of reg:squarederror.\n",
      "[10:46:21] WARNING: src/objective/regression_obj.cu:152: reg:linear is now deprecated in favor of reg:squarederror.\n",
      "[10:48:14] WARNING: src/objective/regression_obj.cu:152: reg:linear is now deprecated in favor of reg:squarederror.\n",
      "[10:50:09] WARNING: src/objective/regression_obj.cu:152: reg:linear is now deprecated in favor of reg:squarederror.\n",
      "[10:52:05] WARNING: src/objective/regression_obj.cu:152: reg:linear is now deprecated in favor of reg:squarederror.\n",
      "[10:53:59] WARNING: src/objective/regression_obj.cu:152: reg:linear is now deprecated in favor of reg:squarederror.\n",
      "[10:56:33] WARNING: src/objective/regression_obj.cu:152: reg:linear is now deprecated in favor of reg:squarederror.\n",
      "[10:59:07] WARNING: src/objective/regression_obj.cu:152: reg:linear is now deprecated in favor of reg:squarederror.\n",
      "[11:01:41] WARNING: src/objective/regression_obj.cu:152: reg:linear is now deprecated in favor of reg:squarederror.\n",
      "[11:04:13] WARNING: src/objective/regression_obj.cu:152: reg:linear is now deprecated in favor of reg:squarederror.\n",
      "[11:06:46] WARNING: src/objective/regression_obj.cu:152: reg:linear is now deprecated in favor of reg:squarederror.\n",
      "[11:09:57] WARNING: src/objective/regression_obj.cu:152: reg:linear is now deprecated in favor of reg:squarederror.\n",
      "[11:13:06] WARNING: src/objective/regression_obj.cu:152: reg:linear is now deprecated in favor of reg:squarederror.\n",
      "[11:16:18] WARNING: src/objective/regression_obj.cu:152: reg:linear is now deprecated in favor of reg:squarederror.\n",
      "[11:19:30] WARNING: src/objective/regression_obj.cu:152: reg:linear is now deprecated in favor of reg:squarederror.\n",
      "[11:22:41] WARNING: src/objective/regression_obj.cu:152: reg:linear is now deprecated in favor of reg:squarederror.\n",
      "[11:24:06] WARNING: src/objective/regression_obj.cu:152: reg:linear is now deprecated in favor of reg:squarederror.\n",
      "[11:25:32] WARNING: src/objective/regression_obj.cu:152: reg:linear is now deprecated in favor of reg:squarederror.\n",
      "[11:26:56] WARNING: src/objective/regression_obj.cu:152: reg:linear is now deprecated in favor of reg:squarederror.\n",
      "[11:28:21] WARNING: src/objective/regression_obj.cu:152: reg:linear is now deprecated in favor of reg:squarederror.\n",
      "[11:29:46] WARNING: src/objective/regression_obj.cu:152: reg:linear is now deprecated in favor of reg:squarederror.\n",
      "[11:31:38] WARNING: src/objective/regression_obj.cu:152: reg:linear is now deprecated in favor of reg:squarederror.\n",
      "[11:33:31] WARNING: src/objective/regression_obj.cu:152: reg:linear is now deprecated in favor of reg:squarederror.\n",
      "[11:35:23] WARNING: src/objective/regression_obj.cu:152: reg:linear is now deprecated in favor of reg:squarederror.\n",
      "[11:37:13] WARNING: src/objective/regression_obj.cu:152: reg:linear is now deprecated in favor of reg:squarederror.\n",
      "[11:39:06] WARNING: src/objective/regression_obj.cu:152: reg:linear is now deprecated in favor of reg:squarederror.\n",
      "[11:41:25] WARNING: src/objective/regression_obj.cu:152: reg:linear is now deprecated in favor of reg:squarederror.\n",
      "[11:43:43] WARNING: src/objective/regression_obj.cu:152: reg:linear is now deprecated in favor of reg:squarederror.\n",
      "[11:46:01] WARNING: src/objective/regression_obj.cu:152: reg:linear is now deprecated in favor of reg:squarederror.\n",
      "[11:48:18] WARNING: src/objective/regression_obj.cu:152: reg:linear is now deprecated in favor of reg:squarederror.\n",
      "[11:50:37] WARNING: src/objective/regression_obj.cu:152: reg:linear is now deprecated in favor of reg:squarederror.\n",
      "[11:52:27] WARNING: src/objective/regression_obj.cu:152: reg:linear is now deprecated in favor of reg:squarederror.\n",
      "[11:54:16] WARNING: src/objective/regression_obj.cu:152: reg:linear is now deprecated in favor of reg:squarederror.\n",
      "[11:55:59] WARNING: src/objective/regression_obj.cu:152: reg:linear is now deprecated in favor of reg:squarederror.\n",
      "[11:57:42] WARNING: src/objective/regression_obj.cu:152: reg:linear is now deprecated in favor of reg:squarederror.\n",
      "[11:59:24] WARNING: src/objective/regression_obj.cu:152: reg:linear is now deprecated in favor of reg:squarederror.\n",
      "[12:01:37] WARNING: src/objective/regression_obj.cu:152: reg:linear is now deprecated in favor of reg:squarederror.\n",
      "[12:03:52] WARNING: src/objective/regression_obj.cu:152: reg:linear is now deprecated in favor of reg:squarederror.\n",
      "[12:06:05] WARNING: src/objective/regression_obj.cu:152: reg:linear is now deprecated in favor of reg:squarederror.\n",
      "[12:08:19] WARNING: src/objective/regression_obj.cu:152: reg:linear is now deprecated in favor of reg:squarederror.\n",
      "[12:10:34] WARNING: src/objective/regression_obj.cu:152: reg:linear is now deprecated in favor of reg:squarederror.\n",
      "[12:13:21] WARNING: src/objective/regression_obj.cu:152: reg:linear is now deprecated in favor of reg:squarederror.\n",
      "[12:16:00] WARNING: src/objective/regression_obj.cu:152: reg:linear is now deprecated in favor of reg:squarederror.\n",
      "[12:18:44] WARNING: src/objective/regression_obj.cu:152: reg:linear is now deprecated in favor of reg:squarederror.\n",
      "[12:21:19] WARNING: src/objective/regression_obj.cu:152: reg:linear is now deprecated in favor of reg:squarederror.\n",
      "[12:23:53] WARNING: src/objective/regression_obj.cu:152: reg:linear is now deprecated in favor of reg:squarederror.\n",
      "[12:25:43] WARNING: src/objective/regression_obj.cu:152: reg:linear is now deprecated in favor of reg:squarederror.\n",
      "[12:27:31] WARNING: src/objective/regression_obj.cu:152: reg:linear is now deprecated in favor of reg:squarederror.\n",
      "[12:29:21] WARNING: src/objective/regression_obj.cu:152: reg:linear is now deprecated in favor of reg:squarederror.\n",
      "[12:31:09] WARNING: src/objective/regression_obj.cu:152: reg:linear is now deprecated in favor of reg:squarederror.\n",
      "[12:32:44] WARNING: src/objective/regression_obj.cu:152: reg:linear is now deprecated in favor of reg:squarederror.\n",
      "[12:34:51] WARNING: src/objective/regression_obj.cu:152: reg:linear is now deprecated in favor of reg:squarederror.\n",
      "[12:37:07] WARNING: src/objective/regression_obj.cu:152: reg:linear is now deprecated in favor of reg:squarederror.\n",
      "[12:39:31] WARNING: src/objective/regression_obj.cu:152: reg:linear is now deprecated in favor of reg:squarederror.\n",
      "[12:41:54] WARNING: src/objective/regression_obj.cu:152: reg:linear is now deprecated in favor of reg:squarederror.\n",
      "[12:44:18] WARNING: src/objective/regression_obj.cu:152: reg:linear is now deprecated in favor of reg:squarederror.\n",
      "[12:47:22] WARNING: src/objective/regression_obj.cu:152: reg:linear is now deprecated in favor of reg:squarederror.\n",
      "[12:50:28] WARNING: src/objective/regression_obj.cu:152: reg:linear is now deprecated in favor of reg:squarederror.\n",
      "[12:53:33] WARNING: src/objective/regression_obj.cu:152: reg:linear is now deprecated in favor of reg:squarederror.\n",
      "[12:56:38] WARNING: src/objective/regression_obj.cu:152: reg:linear is now deprecated in favor of reg:squarederror.\n",
      "[12:59:42] WARNING: src/objective/regression_obj.cu:152: reg:linear is now deprecated in favor of reg:squarederror.\n"
     ]
    },
    {
     "data": {
      "text/plain": [
       "GridSearchCV(estimator=XGBRegressor(),\n",
       "             param_grid={'learning_rate': [0.01, 0.001, 0.0001],\n",
       "                         'max_depth': [5, 6, 7],\n",
       "                         'n_estimators': [300, 400, 500], 'nthread': [4]})"
      ]
     },
     "execution_count": 6,
     "metadata": {},
     "output_type": "execute_result"
    }
   ],
   "source": [
    "model1=XGBRegressor()\n",
    "# parameters={\n",
    "    \n",
    "#     'n_estimators':[100,150,200],\n",
    "#     'min_samples_leaf':[20,40,60],\n",
    "#     'max_depth':[5,6,7,8],\n",
    "    \n",
    "# }\n",
    "\n",
    "parameters = {'nthread':[4],\n",
    "              'learning_rate': [.01, 0.001, .0001],\n",
    "              'max_depth': [5, 6, 7],\n",
    "              'n_estimators': [300,400,500]\n",
    "              }\n",
    "\n",
    "cv=GridSearchCV(model1,parameters)\n",
    "cv.fit(train_OHE,y_train_minmax.ravel())"
   ]
  },
  {
   "cell_type": "code",
   "execution_count": 7,
   "metadata": {
    "id": "Q3TLnLvLFANO"
   },
   "outputs": [
    {
     "data": {
      "text/plain": [
       "{'learning_rate': 0.01, 'max_depth': 7, 'n_estimators': 500, 'nthread': 4}"
      ]
     },
     "execution_count": 7,
     "metadata": {},
     "output_type": "execute_result"
    }
   ],
   "source": [
    "cv.best_params_"
   ]
  },
  {
   "cell_type": "code",
   "execution_count": 11,
   "metadata": {},
   "outputs": [
    {
     "data": {
      "text/plain": [
       "1210.476005732331"
      ]
     },
     "execution_count": 11,
     "metadata": {},
     "output_type": "execute_result"
    }
   ],
   "source": [
    "model1=XGBRegressor(n_estimators=500,learning_rate=0.01,max_depth=7)\n",
    "model1.fit(train_OHE,y_train_minmax.ravel())\n",
    "y_pred=model1.predict(test_OHE)\n",
    "y_pred1=(y_pred*y_train.max())-y_train.min()\n",
    "mean_squared_error(y_test,y_pred1)"
   ]
  },
  {
   "cell_type": "code",
   "execution_count": null,
   "metadata": {},
   "outputs": [],
   "source": []
  },
  {
   "cell_type": "markdown",
   "metadata": {
    "id": "OLUAZPNJFANP"
   },
   "source": [
    "### on tfidf data"
   ]
  },
  {
   "cell_type": "code",
   "execution_count": 12,
   "metadata": {
    "id": "V2HtLOlwFANP",
    "outputId": "837b1c8d-a188-48ab-cbea-3f3ede231c97",
    "scrolled": false
   },
   "outputs": [
    {
     "name": "stdout",
     "output_type": "stream",
     "text": [
      "[13:17:45] WARNING: src/objective/regression_obj.cu:152: reg:linear is now deprecated in favor of reg:squarederror.\n",
      "[13:19:45] WARNING: src/objective/regression_obj.cu:152: reg:linear is now deprecated in favor of reg:squarederror.\n",
      "[13:21:55] WARNING: src/objective/regression_obj.cu:152: reg:linear is now deprecated in favor of reg:squarederror.\n",
      "[13:24:06] WARNING: src/objective/regression_obj.cu:152: reg:linear is now deprecated in favor of reg:squarederror.\n",
      "[13:26:20] WARNING: src/objective/regression_obj.cu:152: reg:linear is now deprecated in favor of reg:squarederror.\n",
      "[13:28:35] WARNING: src/objective/regression_obj.cu:152: reg:linear is now deprecated in favor of reg:squarederror.\n",
      "[13:31:33] WARNING: src/objective/regression_obj.cu:152: reg:linear is now deprecated in favor of reg:squarederror.\n",
      "[13:34:32] WARNING: src/objective/regression_obj.cu:152: reg:linear is now deprecated in favor of reg:squarederror.\n",
      "[13:37:30] WARNING: src/objective/regression_obj.cu:152: reg:linear is now deprecated in favor of reg:squarederror.\n",
      "[13:40:32] WARNING: src/objective/regression_obj.cu:152: reg:linear is now deprecated in favor of reg:squarederror.\n",
      "[13:43:30] WARNING: src/objective/regression_obj.cu:152: reg:linear is now deprecated in favor of reg:squarederror.\n",
      "[13:47:15] WARNING: src/objective/regression_obj.cu:152: reg:linear is now deprecated in favor of reg:squarederror.\n",
      "[13:51:03] WARNING: src/objective/regression_obj.cu:152: reg:linear is now deprecated in favor of reg:squarederror.\n",
      "[13:54:47] WARNING: src/objective/regression_obj.cu:152: reg:linear is now deprecated in favor of reg:squarederror.\n",
      "[13:58:27] WARNING: src/objective/regression_obj.cu:152: reg:linear is now deprecated in favor of reg:squarederror.\n",
      "[14:02:08] WARNING: src/objective/regression_obj.cu:152: reg:linear is now deprecated in favor of reg:squarederror.\n",
      "[14:04:45] WARNING: src/objective/regression_obj.cu:152: reg:linear is now deprecated in favor of reg:squarederror.\n",
      "[14:07:39] WARNING: src/objective/regression_obj.cu:152: reg:linear is now deprecated in favor of reg:squarederror.\n",
      "[14:10:15] WARNING: src/objective/regression_obj.cu:152: reg:linear is now deprecated in favor of reg:squarederror.\n",
      "[14:12:58] WARNING: src/objective/regression_obj.cu:152: reg:linear is now deprecated in favor of reg:squarederror.\n",
      "[14:15:44] WARNING: src/objective/regression_obj.cu:152: reg:linear is now deprecated in favor of reg:squarederror.\n",
      "[14:19:22] WARNING: src/objective/regression_obj.cu:152: reg:linear is now deprecated in favor of reg:squarederror.\n",
      "[14:23:02] WARNING: src/objective/regression_obj.cu:152: reg:linear is now deprecated in favor of reg:squarederror.\n",
      "[14:27:12] WARNING: src/objective/regression_obj.cu:152: reg:linear is now deprecated in favor of reg:squarederror.\n",
      "[14:30:50] WARNING: src/objective/regression_obj.cu:152: reg:linear is now deprecated in favor of reg:squarederror.\n",
      "[14:34:35] WARNING: src/objective/regression_obj.cu:152: reg:linear is now deprecated in favor of reg:squarederror.\n",
      "[14:39:13] WARNING: src/objective/regression_obj.cu:152: reg:linear is now deprecated in favor of reg:squarederror.\n",
      "[14:43:52] WARNING: src/objective/regression_obj.cu:152: reg:linear is now deprecated in favor of reg:squarederror.\n",
      "[14:48:30] WARNING: src/objective/regression_obj.cu:152: reg:linear is now deprecated in favor of reg:squarederror.\n",
      "[14:53:09] WARNING: src/objective/regression_obj.cu:152: reg:linear is now deprecated in favor of reg:squarederror.\n",
      "[14:57:48] WARNING: src/objective/regression_obj.cu:152: reg:linear is now deprecated in favor of reg:squarederror.\n",
      "[15:01:01] WARNING: src/objective/regression_obj.cu:152: reg:linear is now deprecated in favor of reg:squarederror.\n",
      "[15:04:16] WARNING: src/objective/regression_obj.cu:152: reg:linear is now deprecated in favor of reg:squarederror.\n",
      "[15:07:30] WARNING: src/objective/regression_obj.cu:152: reg:linear is now deprecated in favor of reg:squarederror.\n",
      "[15:10:44] WARNING: src/objective/regression_obj.cu:152: reg:linear is now deprecated in favor of reg:squarederror.\n",
      "[15:13:58] WARNING: src/objective/regression_obj.cu:152: reg:linear is now deprecated in favor of reg:squarederror.\n",
      "[15:18:14] WARNING: src/objective/regression_obj.cu:152: reg:linear is now deprecated in favor of reg:squarederror.\n",
      "[15:22:35] WARNING: src/objective/regression_obj.cu:152: reg:linear is now deprecated in favor of reg:squarederror.\n",
      "[15:26:52] WARNING: src/objective/regression_obj.cu:152: reg:linear is now deprecated in favor of reg:squarederror.\n",
      "[15:31:12] WARNING: src/objective/regression_obj.cu:152: reg:linear is now deprecated in favor of reg:squarederror.\n",
      "[15:35:34] WARNING: src/objective/regression_obj.cu:152: reg:linear is now deprecated in favor of reg:squarederror.\n",
      "[15:40:53] WARNING: src/objective/regression_obj.cu:152: reg:linear is now deprecated in favor of reg:squarederror.\n",
      "[15:46:14] WARNING: src/objective/regression_obj.cu:152: reg:linear is now deprecated in favor of reg:squarederror.\n",
      "[15:51:37] WARNING: src/objective/regression_obj.cu:152: reg:linear is now deprecated in favor of reg:squarederror.\n",
      "[15:57:04] WARNING: src/objective/regression_obj.cu:152: reg:linear is now deprecated in favor of reg:squarederror.\n",
      "[16:02:25] WARNING: src/objective/regression_obj.cu:152: reg:linear is now deprecated in favor of reg:squarederror.\n",
      "[16:04:47] WARNING: src/objective/regression_obj.cu:152: reg:linear is now deprecated in favor of reg:squarederror.\n",
      "[16:07:07] WARNING: src/objective/regression_obj.cu:152: reg:linear is now deprecated in favor of reg:squarederror.\n",
      "[16:09:29] WARNING: src/objective/regression_obj.cu:152: reg:linear is now deprecated in favor of reg:squarederror.\n",
      "[16:11:51] WARNING: src/objective/regression_obj.cu:152: reg:linear is now deprecated in favor of reg:squarederror.\n",
      "[16:14:13] WARNING: src/objective/regression_obj.cu:152: reg:linear is now deprecated in favor of reg:squarederror.\n",
      "[16:17:21] WARNING: src/objective/regression_obj.cu:152: reg:linear is now deprecated in favor of reg:squarederror.\n",
      "[16:20:26] WARNING: src/objective/regression_obj.cu:152: reg:linear is now deprecated in favor of reg:squarederror.\n",
      "[16:23:33] WARNING: src/objective/regression_obj.cu:152: reg:linear is now deprecated in favor of reg:squarederror.\n",
      "[16:26:38] WARNING: src/objective/regression_obj.cu:152: reg:linear is now deprecated in favor of reg:squarederror.\n",
      "[16:29:44] WARNING: src/objective/regression_obj.cu:152: reg:linear is now deprecated in favor of reg:squarederror.\n",
      "[16:33:35] WARNING: src/objective/regression_obj.cu:152: reg:linear is now deprecated in favor of reg:squarederror.\n",
      "[16:37:19] WARNING: src/objective/regression_obj.cu:152: reg:linear is now deprecated in favor of reg:squarederror.\n",
      "[16:40:57] WARNING: src/objective/regression_obj.cu:152: reg:linear is now deprecated in favor of reg:squarederror.\n",
      "[16:44:42] WARNING: src/objective/regression_obj.cu:152: reg:linear is now deprecated in favor of reg:squarederror.\n",
      "[16:48:21] WARNING: src/objective/regression_obj.cu:152: reg:linear is now deprecated in favor of reg:squarederror.\n",
      "[16:51:01] WARNING: src/objective/regression_obj.cu:152: reg:linear is now deprecated in favor of reg:squarederror.\n",
      "[16:53:41] WARNING: src/objective/regression_obj.cu:152: reg:linear is now deprecated in favor of reg:squarederror.\n",
      "[16:56:23] WARNING: src/objective/regression_obj.cu:152: reg:linear is now deprecated in favor of reg:squarederror.\n",
      "[16:59:03] WARNING: src/objective/regression_obj.cu:152: reg:linear is now deprecated in favor of reg:squarederror.\n",
      "[17:01:43] WARNING: src/objective/regression_obj.cu:152: reg:linear is now deprecated in favor of reg:squarederror.\n",
      "[17:05:15] WARNING: src/objective/regression_obj.cu:152: reg:linear is now deprecated in favor of reg:squarederror.\n",
      "[17:08:48] WARNING: src/objective/regression_obj.cu:152: reg:linear is now deprecated in favor of reg:squarederror.\n",
      "[17:12:23] WARNING: src/objective/regression_obj.cu:152: reg:linear is now deprecated in favor of reg:squarederror.\n",
      "[17:15:54] WARNING: src/objective/regression_obj.cu:152: reg:linear is now deprecated in favor of reg:squarederror.\n",
      "[17:19:31] WARNING: src/objective/regression_obj.cu:152: reg:linear is now deprecated in favor of reg:squarederror.\n"
     ]
    },
    {
     "name": "stdout",
     "output_type": "stream",
     "text": [
      "[17:23:57] WARNING: src/objective/regression_obj.cu:152: reg:linear is now deprecated in favor of reg:squarederror.\n",
      "[17:28:27] WARNING: src/objective/regression_obj.cu:152: reg:linear is now deprecated in favor of reg:squarederror.\n",
      "[17:32:38] WARNING: src/objective/regression_obj.cu:152: reg:linear is now deprecated in favor of reg:squarederror.\n",
      "[17:36:45] WARNING: src/objective/regression_obj.cu:152: reg:linear is now deprecated in favor of reg:squarederror.\n",
      "[17:40:36] WARNING: src/objective/regression_obj.cu:152: reg:linear is now deprecated in favor of reg:squarederror.\n",
      "[17:43:18] WARNING: src/objective/regression_obj.cu:152: reg:linear is now deprecated in favor of reg:squarederror.\n",
      "[17:46:07] WARNING: src/objective/regression_obj.cu:152: reg:linear is now deprecated in favor of reg:squarederror.\n",
      "[17:49:12] WARNING: src/objective/regression_obj.cu:152: reg:linear is now deprecated in favor of reg:squarederror.\n",
      "[17:52:21] WARNING: src/objective/regression_obj.cu:152: reg:linear is now deprecated in favor of reg:squarederror.\n",
      "[17:55:27] WARNING: src/objective/regression_obj.cu:152: reg:linear is now deprecated in favor of reg:squarederror.\n",
      "[17:59:38] WARNING: src/objective/regression_obj.cu:152: reg:linear is now deprecated in favor of reg:squarederror.\n",
      "[18:03:53] WARNING: src/objective/regression_obj.cu:152: reg:linear is now deprecated in favor of reg:squarederror.\n",
      "[18:08:04] WARNING: src/objective/regression_obj.cu:152: reg:linear is now deprecated in favor of reg:squarederror.\n",
      "[18:12:12] WARNING: src/objective/regression_obj.cu:152: reg:linear is now deprecated in favor of reg:squarederror.\n",
      "[18:16:26] WARNING: src/objective/regression_obj.cu:152: reg:linear is now deprecated in favor of reg:squarederror.\n",
      "[18:21:38] WARNING: src/objective/regression_obj.cu:152: reg:linear is now deprecated in favor of reg:squarederror.\n",
      "[18:26:46] WARNING: src/objective/regression_obj.cu:152: reg:linear is now deprecated in favor of reg:squarederror.\n",
      "[18:31:59] WARNING: src/objective/regression_obj.cu:152: reg:linear is now deprecated in favor of reg:squarederror.\n",
      "[18:37:09] WARNING: src/objective/regression_obj.cu:152: reg:linear is now deprecated in favor of reg:squarederror.\n",
      "[18:42:06] WARNING: src/objective/regression_obj.cu:152: reg:linear is now deprecated in favor of reg:squarederror.\n",
      "[18:44:15] WARNING: src/objective/regression_obj.cu:152: reg:linear is now deprecated in favor of reg:squarederror.\n",
      "[18:46:36] WARNING: src/objective/regression_obj.cu:152: reg:linear is now deprecated in favor of reg:squarederror.\n",
      "[18:48:49] WARNING: src/objective/regression_obj.cu:152: reg:linear is now deprecated in favor of reg:squarederror.\n",
      "[18:51:08] WARNING: src/objective/regression_obj.cu:152: reg:linear is now deprecated in favor of reg:squarederror.\n",
      "[18:53:27] WARNING: src/objective/regression_obj.cu:152: reg:linear is now deprecated in favor of reg:squarederror.\n",
      "[18:56:30] WARNING: src/objective/regression_obj.cu:152: reg:linear is now deprecated in favor of reg:squarederror.\n",
      "[18:59:40] WARNING: src/objective/regression_obj.cu:152: reg:linear is now deprecated in favor of reg:squarederror.\n",
      "[19:02:42] WARNING: src/objective/regression_obj.cu:152: reg:linear is now deprecated in favor of reg:squarederror.\n",
      "[19:05:50] WARNING: src/objective/regression_obj.cu:152: reg:linear is now deprecated in favor of reg:squarederror.\n",
      "[19:09:08] WARNING: src/objective/regression_obj.cu:152: reg:linear is now deprecated in favor of reg:squarederror.\n",
      "[19:13:03] WARNING: src/objective/regression_obj.cu:152: reg:linear is now deprecated in favor of reg:squarederror.\n",
      "[19:16:54] WARNING: src/objective/regression_obj.cu:152: reg:linear is now deprecated in favor of reg:squarederror.\n",
      "[19:20:43] WARNING: src/objective/regression_obj.cu:152: reg:linear is now deprecated in favor of reg:squarederror.\n",
      "[19:24:35] WARNING: src/objective/regression_obj.cu:152: reg:linear is now deprecated in favor of reg:squarederror.\n",
      "[19:28:27] WARNING: src/objective/regression_obj.cu:152: reg:linear is now deprecated in favor of reg:squarederror.\n",
      "[19:31:12] WARNING: src/objective/regression_obj.cu:152: reg:linear is now deprecated in favor of reg:squarederror.\n",
      "[19:34:00] WARNING: src/objective/regression_obj.cu:152: reg:linear is now deprecated in favor of reg:squarederror.\n",
      "[19:36:44] WARNING: src/objective/regression_obj.cu:152: reg:linear is now deprecated in favor of reg:squarederror.\n",
      "[19:39:30] WARNING: src/objective/regression_obj.cu:152: reg:linear is now deprecated in favor of reg:squarederror.\n",
      "[19:42:17] WARNING: src/objective/regression_obj.cu:152: reg:linear is now deprecated in favor of reg:squarederror.\n",
      "[19:45:56] WARNING: src/objective/regression_obj.cu:152: reg:linear is now deprecated in favor of reg:squarederror.\n",
      "[19:49:36] WARNING: src/objective/regression_obj.cu:152: reg:linear is now deprecated in favor of reg:squarederror.\n",
      "[19:53:15] WARNING: src/objective/regression_obj.cu:152: reg:linear is now deprecated in favor of reg:squarederror.\n",
      "[19:56:58] WARNING: src/objective/regression_obj.cu:152: reg:linear is now deprecated in favor of reg:squarederror.\n",
      "[20:00:40] WARNING: src/objective/regression_obj.cu:152: reg:linear is now deprecated in favor of reg:squarederror.\n",
      "[20:05:12] WARNING: src/objective/regression_obj.cu:152: reg:linear is now deprecated in favor of reg:squarederror.\n",
      "[20:09:47] WARNING: src/objective/regression_obj.cu:152: reg:linear is now deprecated in favor of reg:squarederror.\n",
      "[20:14:15] WARNING: src/objective/regression_obj.cu:152: reg:linear is now deprecated in favor of reg:squarederror.\n",
      "[20:18:44] WARNING: src/objective/regression_obj.cu:152: reg:linear is now deprecated in favor of reg:squarederror.\n",
      "[20:23:13] WARNING: src/objective/regression_obj.cu:152: reg:linear is now deprecated in favor of reg:squarederror.\n",
      "[20:26:22] WARNING: src/objective/regression_obj.cu:152: reg:linear is now deprecated in favor of reg:squarederror.\n",
      "[20:29:32] WARNING: src/objective/regression_obj.cu:152: reg:linear is now deprecated in favor of reg:squarederror.\n",
      "[20:32:40] WARNING: src/objective/regression_obj.cu:152: reg:linear is now deprecated in favor of reg:squarederror.\n",
      "[20:35:54] WARNING: src/objective/regression_obj.cu:152: reg:linear is now deprecated in favor of reg:squarederror.\n",
      "[20:39:04] WARNING: src/objective/regression_obj.cu:152: reg:linear is now deprecated in favor of reg:squarederror.\n",
      "[20:43:13] WARNING: src/objective/regression_obj.cu:152: reg:linear is now deprecated in favor of reg:squarederror.\n",
      "[20:47:24] WARNING: src/objective/regression_obj.cu:152: reg:linear is now deprecated in favor of reg:squarederror.\n",
      "[20:51:42] WARNING: src/objective/regression_obj.cu:152: reg:linear is now deprecated in favor of reg:squarederror.\n",
      "[20:55:53] WARNING: src/objective/regression_obj.cu:152: reg:linear is now deprecated in favor of reg:squarederror.\n",
      "[21:00:07] WARNING: src/objective/regression_obj.cu:152: reg:linear is now deprecated in favor of reg:squarederror.\n",
      "[21:05:17] WARNING: src/objective/regression_obj.cu:152: reg:linear is now deprecated in favor of reg:squarederror.\n",
      "[21:10:32] WARNING: src/objective/regression_obj.cu:152: reg:linear is now deprecated in favor of reg:squarederror.\n",
      "[21:15:44] WARNING: src/objective/regression_obj.cu:152: reg:linear is now deprecated in favor of reg:squarederror.\n",
      "[21:21:01] WARNING: src/objective/regression_obj.cu:152: reg:linear is now deprecated in favor of reg:squarederror.\n",
      "[21:26:12] WARNING: src/objective/regression_obj.cu:152: reg:linear is now deprecated in favor of reg:squarederror.\n"
     ]
    },
    {
     "data": {
      "text/plain": [
       "GridSearchCV(estimator=XGBRegressor(),\n",
       "             param_grid={'learning_rate': [0.01, 0.001, 0.0001],\n",
       "                         'max_depth': [5, 6, 7],\n",
       "                         'n_estimators': [300, 400, 500], 'nthread': [4]})"
      ]
     },
     "execution_count": 12,
     "metadata": {},
     "output_type": "execute_result"
    }
   ],
   "source": [
    "model1=XGBRegressor()\n",
    "parameters = {'nthread':[4],\n",
    "              'learning_rate': [.01, 0.001, .0001],\n",
    "              'max_depth': [5, 6, 7],\n",
    "              'n_estimators': [300,400,500]\n",
    "              }\n",
    "cv=GridSearchCV(model1,parameters)\n",
    "cv.fit(train_tfidf,y_train_minmax.ravel())"
   ]
  },
  {
   "cell_type": "code",
   "execution_count": 13,
   "metadata": {
    "id": "Z9yFNe1NFANP",
    "outputId": "9fbabb10-58f6-4db2-c357-f49a25869967"
   },
   "outputs": [
    {
     "data": {
      "text/plain": [
       "{'learning_rate': 0.01, 'max_depth': 7, 'n_estimators': 500, 'nthread': 4}"
      ]
     },
     "execution_count": 13,
     "metadata": {},
     "output_type": "execute_result"
    }
   ],
   "source": [
    "cv.best_params_"
   ]
  },
  {
   "cell_type": "code",
   "execution_count": 14,
   "metadata": {
    "id": "rPsPrjXUFANP",
    "outputId": "825c466e-329e-48bf-ddb8-39f0c07c17a8"
   },
   "outputs": [
    {
     "name": "stdout",
     "output_type": "stream",
     "text": [
      "[22:16:23] WARNING: src/objective/regression_obj.cu:152: reg:linear is now deprecated in favor of reg:squarederror.\n"
     ]
    },
    {
     "data": {
      "text/plain": [
       "1236.6808717395438"
      ]
     },
     "execution_count": 14,
     "metadata": {},
     "output_type": "execute_result"
    }
   ],
   "source": [
    "model=XGBRegressor(n_estimators=500,learning_rate=0.01,max_depth=7)\n",
    "model.fit(train_tfidf,y_train_minmax.ravel())\n",
    "y_pred=model.predict(test_tfidf)\n",
    "y_pred1=(y_pred*y_train.max())-y_train.min()\n",
    "mean_squared_error(y_test,y_pred1)"
   ]
  },
  {
   "cell_type": "markdown",
   "metadata": {
    "id": "xrmJ76dkFANP"
   },
   "source": [
    "### on word2vec data"
   ]
  },
  {
   "cell_type": "code",
   "execution_count": null,
   "metadata": {
    "id": "Z8Nr7ZhRFANQ",
    "outputId": "2d3fbb0b-68de-4d6b-eb08-b6f1643f117a"
   },
   "outputs": [
    {
     "name": "stdout",
     "output_type": "stream",
     "text": [
      "[22:39:18] WARNING: src/objective/regression_obj.cu:152: reg:linear is now deprecated in favor of reg:squarederror.\n",
      "[23:05:13] WARNING: src/objective/regression_obj.cu:152: reg:linear is now deprecated in favor of reg:squarederror.\n",
      "[23:31:32] WARNING: src/objective/regression_obj.cu:152: reg:linear is now deprecated in favor of reg:squarederror.\n",
      "[23:57:43] WARNING: src/objective/regression_obj.cu:152: reg:linear is now deprecated in favor of reg:squarederror.\n",
      "[00:37:42] WARNING: src/objective/regression_obj.cu:152: reg:linear is now deprecated in favor of reg:squarederror.\n",
      "[01:03:03] WARNING: src/objective/regression_obj.cu:152: reg:linear is now deprecated in favor of reg:squarederror.\n",
      "[01:36:27] WARNING: src/objective/regression_obj.cu:152: reg:linear is now deprecated in favor of reg:squarederror.\n",
      "[02:09:49] WARNING: src/objective/regression_obj.cu:152: reg:linear is now deprecated in favor of reg:squarederror.\n",
      "[02:43:00] WARNING: src/objective/regression_obj.cu:152: reg:linear is now deprecated in favor of reg:squarederror.\n",
      "[03:16:05] WARNING: src/objective/regression_obj.cu:152: reg:linear is now deprecated in favor of reg:squarederror.\n",
      "[03:49:18] WARNING: src/objective/regression_obj.cu:152: reg:linear is now deprecated in favor of reg:squarederror.\n",
      "[04:30:34] WARNING: src/objective/regression_obj.cu:152: reg:linear is now deprecated in favor of reg:squarederror.\n",
      "[05:11:54] WARNING: src/objective/regression_obj.cu:152: reg:linear is now deprecated in favor of reg:squarederror.\n",
      "[05:52:58] WARNING: src/objective/regression_obj.cu:152: reg:linear is now deprecated in favor of reg:squarederror.\n",
      "[06:34:10] WARNING: src/objective/regression_obj.cu:152: reg:linear is now deprecated in favor of reg:squarederror.\n",
      "[07:15:24] WARNING: src/objective/regression_obj.cu:152: reg:linear is now deprecated in favor of reg:squarederror.\n",
      "[07:45:07] WARNING: src/objective/regression_obj.cu:152: reg:linear is now deprecated in favor of reg:squarederror.\n",
      "[08:15:01] WARNING: src/objective/regression_obj.cu:152: reg:linear is now deprecated in favor of reg:squarederror.\n",
      "[08:44:42] WARNING: src/objective/regression_obj.cu:152: reg:linear is now deprecated in favor of reg:squarederror.\n",
      "[09:14:20] WARNING: src/objective/regression_obj.cu:152: reg:linear is now deprecated in favor of reg:squarederror.\n",
      "[09:44:05] WARNING: src/objective/regression_obj.cu:152: reg:linear is now deprecated in favor of reg:squarederror.\n",
      "[10:23:27] WARNING: src/objective/regression_obj.cu:152: reg:linear is now deprecated in favor of reg:squarederror.\n",
      "[11:02:49] WARNING: src/objective/regression_obj.cu:152: reg:linear is now deprecated in favor of reg:squarederror.\n",
      "[11:42:22] WARNING: src/objective/regression_obj.cu:152: reg:linear is now deprecated in favor of reg:squarederror.\n",
      "[12:22:00] WARNING: src/objective/regression_obj.cu:152: reg:linear is now deprecated in favor of reg:squarederror.\n",
      "[13:01:45] WARNING: src/objective/regression_obj.cu:152: reg:linear is now deprecated in favor of reg:squarederror.\n",
      "[13:51:12] WARNING: src/objective/regression_obj.cu:152: reg:linear is now deprecated in favor of reg:squarederror.\n",
      "[14:40:44] WARNING: src/objective/regression_obj.cu:152: reg:linear is now deprecated in favor of reg:squarederror.\n",
      "[15:30:13] WARNING: src/objective/regression_obj.cu:152: reg:linear is now deprecated in favor of reg:squarederror.\n",
      "[16:19:45] WARNING: src/objective/regression_obj.cu:152: reg:linear is now deprecated in favor of reg:squarederror.\n",
      "[17:09:32] WARNING: src/objective/regression_obj.cu:152: reg:linear is now deprecated in favor of reg:squarederror.\n",
      "[17:44:26] WARNING: src/objective/regression_obj.cu:152: reg:linear is now deprecated in favor of reg:squarederror.\n",
      "[18:19:27] WARNING: src/objective/regression_obj.cu:152: reg:linear is now deprecated in favor of reg:squarederror.\n",
      "[18:54:30] WARNING: src/objective/regression_obj.cu:152: reg:linear is now deprecated in favor of reg:squarederror.\n",
      "[19:29:37] WARNING: src/objective/regression_obj.cu:152: reg:linear is now deprecated in favor of reg:squarederror.\n",
      "[20:10:37] WARNING: src/objective/regression_obj.cu:152: reg:linear is now deprecated in favor of reg:squarederror.\n",
      "[21:02:33] WARNING: src/objective/regression_obj.cu:152: reg:linear is now deprecated in favor of reg:squarederror.\n",
      "[21:51:56] WARNING: src/objective/regression_obj.cu:152: reg:linear is now deprecated in favor of reg:squarederror.\n",
      "[22:45:40] WARNING: src/objective/regression_obj.cu:152: reg:linear is now deprecated in favor of reg:squarederror.\n",
      "[23:39:17] WARNING: src/objective/regression_obj.cu:152: reg:linear is now deprecated in favor of reg:squarederror.\n",
      "[00:32:32] WARNING: src/objective/regression_obj.cu:152: reg:linear is now deprecated in favor of reg:squarederror.\n",
      "[01:40:27] WARNING: src/objective/regression_obj.cu:152: reg:linear is now deprecated in favor of reg:squarederror.\n",
      "[02:46:12] WARNING: src/objective/regression_obj.cu:152: reg:linear is now deprecated in favor of reg:squarederror.\n",
      "[03:51:43] WARNING: src/objective/regression_obj.cu:152: reg:linear is now deprecated in favor of reg:squarederror.\n"
     ]
    }
   ],
   "source": [
    "model1=XGBRegressor()\n",
    "parameters = {'nthread':[4],\n",
    "              'learning_rate': [.01, 0.001, .0001],\n",
    "              'max_depth': [5, 6, 7],\n",
    "              'n_estimators': [300,400,500]\n",
    "              }\n",
    "cv=GridSearchCV(model1,parameters)\n",
    "cv.fit(train_w2v,y_train_minmax.ravel())"
   ]
  },
  {
   "cell_type": "code",
   "execution_count": 41,
   "metadata": {
    "id": "xY-fHXh9FANQ",
    "outputId": "244c7f3a-da13-4292-9c95-e90cd73d6d4e"
   },
   "outputs": [
    {
     "name": "stdout",
     "output_type": "stream",
     "text": [
      "{'learning_rate': 0.01, 'max_depth': 7, 'n_estimators': 500, 'nthread': 4}\n"
     ]
    }
   ],
   "source": [
    "cv.best_params_"
   ]
  },
  {
   "cell_type": "code",
   "execution_count": 38,
   "metadata": {
    "id": "PKM8hdejFANQ",
    "outputId": "9ebd75b6-c8f5-410a-bc9b-2eeddc3372cd"
   },
   "outputs": [
    {
     "name": "stdout",
     "output_type": "stream",
     "text": [
      "[12:58:31] WARNING: src/objective/regression_obj.cu:152: reg:linear is now deprecated in favor of reg:squarederror.\n"
     ]
    },
    {
     "data": {
      "text/plain": [
       "XGBRegressor(learning_rate=0.01, max_depth=7, n_estimators=500)"
      ]
     },
     "execution_count": 38,
     "metadata": {},
     "output_type": "execute_result"
    }
   ],
   "source": [
    "model1=XGBRegressor(n_estimators=500,learning_rate=0.01,max_depth=7)\n",
    "\n",
    "model1.fit(train_w2v,y_train_minmax.ravel())"
   ]
  },
  {
   "cell_type": "code",
   "execution_count": 39,
   "metadata": {
    "id": "Uhe9zunJFANQ",
    "outputId": "586e9899-a906-4a63-f312-412a11fa6279"
   },
   "outputs": [
    {
     "data": {
      "text/plain": [
       "1278.6872506528741"
      ]
     },
     "execution_count": 39,
     "metadata": {},
     "output_type": "execute_result"
    }
   ],
   "source": [
    "y_pred=model1.predict(test_w2v)\n",
    "y_pred1=(y_pred*y_train.max())-y_train.min()\n",
    "mean_squared_error(y_test,y_pred1)"
   ]
  },
  {
   "cell_type": "code",
   "execution_count": 97,
   "metadata": {},
   "outputs": [],
   "source": [
    "conclusion_table=[]\n",
    "# conclusion_table.append(['Model', 'Feature INFO','Hyperparameter','mean_squared_error'])\n",
    "conclusion_table.extend([['SGDRegressor', 'One_hot_encoded',\"{'alpha': 0.0001, 'max_iter': 1000, 'penalty': 'l2'}\",1185.9232737978691],\n",
    "                ['SGDRegressor', 'tf_idf',\"{'alpha': 0.0001, 'max_iter': 2000, 'penalty': 'l2'}\",1263.6086742356529],\n",
    "                ['SGDRegressor', 'word2vec',\"{'alpha': 0.0001, 'max_iter': 2000, 'penalty': 'l2'}\",1366.0221819213325],\n",
    "                \n",
    "                ['LGBMRegressor', 'One_hot_encoded',\"{'alpha': 0.0001, 'max_iter': 2000, 'penalty': 'l2'}\",1041.8287375206562],\n",
    "                ['LGBMRegressor', 'tf_idf',\"{'boosting_type': 'gbdt','learning_rate': 0.1,'max_depth': 8,'n_estimators': 200,'num_leaves': 60}\",1002.4700899534373],\n",
    "                ['LGBMRegressor', 'word2vec',\"{'boosting_type': 'gbdt','learning_rate': 0.1,'max_depth': 8,'n_estimators': 200,'num_leaves': 60}\",1065.7670587612715],\n",
    "                \n",
    "                ['RideRegression', 'One_hot_encoded',\"{'alpha': 1, 'max_iter': 1000}\",1108.1823044828038],\n",
    "                ['RideRegression', 'tf_idf',\"{'alpha': 1, 'max_iter': 1000}\",1157.3765013362556],\n",
    "                ['RideRegression', 'word2vec',\"{'alpha': 1, 'max_iter': 1000}\",1303.9030920207463],\n",
    "                \n",
    "                ['LassoRegression', 'One_hot_encoded',\"{'alpha': 0.0001, 'max_iter': 1000}\",1592.7692487645227],\n",
    "                ['LassoRegression', 'tf_idf',\"{'alpha': 0.0001, 'max_iter': 1000}\",1672.541736078684],\n",
    "                ['LassoRegression', 'word2vec',\"{'alpha': 0.0001, 'max_iter': 1000}\",1644.802402975319],\n",
    "                \n",
    "                ['XGBRegressor', 'One_hot_encoded',\"{'learning_rate': 0.01, 'max_depth': 7, 'n_estimators': 500, 'nthread': 4}\",1210.476005732331],\n",
    "                ['XGBRegressor', 'tf_idf',\"{'learning_rate': 0.01, 'max_depth': 7, 'n_estimators': 500, 'nthread': 4}\",1236.6808717395438],\n",
    "                ['XGBRegressor', 'word2vec',\"{'learning_rate': 0.01, 'max_depth': 7, 'n_estimators': 500, 'nthread': 4}\",1278.6872506528741],\n",
    "               \n",
    "               \n",
    "               ])\n"
   ]
  },
  {
   "cell_type": "code",
   "execution_count": 94,
   "metadata": {},
   "outputs": [],
   "source": [
    "pd.options.display.max_colwidth = 100"
   ]
  },
  {
   "cell_type": "code",
   "execution_count": 95,
   "metadata": {},
   "outputs": [],
   "source": [
    "df3=pd.DataFrame(conclusion_table,columns=['Model', 'Feature INFO','Hyperparameter','mean_squared_error'])"
   ]
  },
  {
   "cell_type": "code",
   "execution_count": 96,
   "metadata": {},
   "outputs": [
    {
     "data": {
      "text/html": [
       "<div>\n",
       "<style scoped>\n",
       "    .dataframe tbody tr th:only-of-type {\n",
       "        vertical-align: middle;\n",
       "    }\n",
       "\n",
       "    .dataframe tbody tr th {\n",
       "        vertical-align: top;\n",
       "    }\n",
       "\n",
       "    .dataframe thead th {\n",
       "        text-align: right;\n",
       "    }\n",
       "</style>\n",
       "<table border=\"1\" class=\"dataframe\">\n",
       "  <thead>\n",
       "    <tr style=\"text-align: right;\">\n",
       "      <th></th>\n",
       "      <th>Model</th>\n",
       "      <th>Feature INFO</th>\n",
       "      <th>Hyperparameter</th>\n",
       "      <th>mean_squared_error</th>\n",
       "    </tr>\n",
       "  </thead>\n",
       "  <tbody>\n",
       "    <tr>\n",
       "      <th>0</th>\n",
       "      <td>SGDRegressor</td>\n",
       "      <td>One_hot_encoded</td>\n",
       "      <td>{'alpha': 0.0001, 'max_iter': 1000, 'penalty': 'l2'}</td>\n",
       "      <td>1185.923274</td>\n",
       "    </tr>\n",
       "    <tr>\n",
       "      <th>1</th>\n",
       "      <td>SGDRegressor</td>\n",
       "      <td>tf_idf</td>\n",
       "      <td>{'alpha': 0.0001, 'max_iter': 2000, 'penalty': 'l2'}</td>\n",
       "      <td>1263.608674</td>\n",
       "    </tr>\n",
       "    <tr>\n",
       "      <th>2</th>\n",
       "      <td>SGDRegressor</td>\n",
       "      <td>word2vec</td>\n",
       "      <td>{'alpha': 0.0001, 'max_iter': 2000, 'penalty': 'l2'}</td>\n",
       "      <td>1366.022182</td>\n",
       "    </tr>\n",
       "    <tr>\n",
       "      <th>3</th>\n",
       "      <td>LGBMRegressor</td>\n",
       "      <td>One_hot_encoded</td>\n",
       "      <td>{'alpha': 0.0001, 'max_iter': 2000, 'penalty': 'l2'}</td>\n",
       "      <td>1041.828738</td>\n",
       "    </tr>\n",
       "    <tr>\n",
       "      <th>4</th>\n",
       "      <td>LGBMRegressor</td>\n",
       "      <td>tf_idf</td>\n",
       "      <td>{'boosting_type': 'gbdt','learning_rate': 0.1,'max_depth': 8,'n_estimators': 200,'num_leaves': 60}</td>\n",
       "      <td>1002.470090</td>\n",
       "    </tr>\n",
       "    <tr>\n",
       "      <th>5</th>\n",
       "      <td>LGBMRegressor</td>\n",
       "      <td>word2vec</td>\n",
       "      <td>{'boosting_type': 'gbdt','learning_rate': 0.1,'max_depth': 8,'n_estimators': 200,'num_leaves': 60}</td>\n",
       "      <td>1065.767059</td>\n",
       "    </tr>\n",
       "    <tr>\n",
       "      <th>6</th>\n",
       "      <td>RideRegression</td>\n",
       "      <td>One_hot_encoded</td>\n",
       "      <td>{'alpha': 1, 'max_iter': 1000}</td>\n",
       "      <td>1108.182304</td>\n",
       "    </tr>\n",
       "    <tr>\n",
       "      <th>7</th>\n",
       "      <td>RideRegression</td>\n",
       "      <td>tf_idf</td>\n",
       "      <td>{'alpha': 1, 'max_iter': 1000}</td>\n",
       "      <td>1157.376501</td>\n",
       "    </tr>\n",
       "    <tr>\n",
       "      <th>8</th>\n",
       "      <td>RideRegression</td>\n",
       "      <td>word2vec</td>\n",
       "      <td>{'alpha': 1, 'max_iter': 1000}</td>\n",
       "      <td>1303.903092</td>\n",
       "    </tr>\n",
       "    <tr>\n",
       "      <th>9</th>\n",
       "      <td>LassoRegression</td>\n",
       "      <td>One_hot_encoded</td>\n",
       "      <td>{'alpha': 0.0001, 'max_iter': 1000}</td>\n",
       "      <td>1592.769249</td>\n",
       "    </tr>\n",
       "    <tr>\n",
       "      <th>10</th>\n",
       "      <td>LassoRegression</td>\n",
       "      <td>tf_idf</td>\n",
       "      <td>{'alpha': 0.0001, 'max_iter': 1000}</td>\n",
       "      <td>1672.541736</td>\n",
       "    </tr>\n",
       "    <tr>\n",
       "      <th>11</th>\n",
       "      <td>LassoRegression</td>\n",
       "      <td>word2vec</td>\n",
       "      <td>{'alpha': 0.0001, 'max_iter': 1000}</td>\n",
       "      <td>1644.802403</td>\n",
       "    </tr>\n",
       "    <tr>\n",
       "      <th>12</th>\n",
       "      <td>XGBRegressor</td>\n",
       "      <td>One_hot_encoded</td>\n",
       "      <td>{'learning_rate': 0.01, 'max_depth': 7, 'n_estimators': 500, 'nthread': 4}</td>\n",
       "      <td>1210.476006</td>\n",
       "    </tr>\n",
       "    <tr>\n",
       "      <th>13</th>\n",
       "      <td>XGBRegressor</td>\n",
       "      <td>tf_idf</td>\n",
       "      <td>{'learning_rate': 0.01, 'max_depth': 7, 'n_estimators': 500, 'nthread': 4}</td>\n",
       "      <td>1236.680872</td>\n",
       "    </tr>\n",
       "    <tr>\n",
       "      <th>14</th>\n",
       "      <td>XGBRegressor</td>\n",
       "      <td>word2vec</td>\n",
       "      <td>{'learning_rate': 0.01, 'max_depth': 7, 'n_estimators': 500, 'nthread': 4}</td>\n",
       "      <td>1278.687251</td>\n",
       "    </tr>\n",
       "  </tbody>\n",
       "</table>\n",
       "</div>"
      ],
      "text/plain": [
       "              Model     Feature INFO  \\\n",
       "0      SGDRegressor  One_hot_encoded   \n",
       "1      SGDRegressor           tf_idf   \n",
       "2      SGDRegressor         word2vec   \n",
       "3     LGBMRegressor  One_hot_encoded   \n",
       "4     LGBMRegressor           tf_idf   \n",
       "5     LGBMRegressor         word2vec   \n",
       "6    RideRegression  One_hot_encoded   \n",
       "7    RideRegression           tf_idf   \n",
       "8    RideRegression         word2vec   \n",
       "9   LassoRegression  One_hot_encoded   \n",
       "10  LassoRegression           tf_idf   \n",
       "11  LassoRegression         word2vec   \n",
       "12     XGBRegressor  One_hot_encoded   \n",
       "13     XGBRegressor           tf_idf   \n",
       "14     XGBRegressor         word2vec   \n",
       "\n",
       "                                                                                        Hyperparameter  \\\n",
       "0                                                 {'alpha': 0.0001, 'max_iter': 1000, 'penalty': 'l2'}   \n",
       "1                                                 {'alpha': 0.0001, 'max_iter': 2000, 'penalty': 'l2'}   \n",
       "2                                                 {'alpha': 0.0001, 'max_iter': 2000, 'penalty': 'l2'}   \n",
       "3                                                 {'alpha': 0.0001, 'max_iter': 2000, 'penalty': 'l2'}   \n",
       "4   {'boosting_type': 'gbdt','learning_rate': 0.1,'max_depth': 8,'n_estimators': 200,'num_leaves': 60}   \n",
       "5   {'boosting_type': 'gbdt','learning_rate': 0.1,'max_depth': 8,'n_estimators': 200,'num_leaves': 60}   \n",
       "6                                                                       {'alpha': 1, 'max_iter': 1000}   \n",
       "7                                                                       {'alpha': 1, 'max_iter': 1000}   \n",
       "8                                                                       {'alpha': 1, 'max_iter': 1000}   \n",
       "9                                                                  {'alpha': 0.0001, 'max_iter': 1000}   \n",
       "10                                                                 {'alpha': 0.0001, 'max_iter': 1000}   \n",
       "11                                                                 {'alpha': 0.0001, 'max_iter': 1000}   \n",
       "12                          {'learning_rate': 0.01, 'max_depth': 7, 'n_estimators': 500, 'nthread': 4}   \n",
       "13                          {'learning_rate': 0.01, 'max_depth': 7, 'n_estimators': 500, 'nthread': 4}   \n",
       "14                          {'learning_rate': 0.01, 'max_depth': 7, 'n_estimators': 500, 'nthread': 4}   \n",
       "\n",
       "    mean_squared_error  \n",
       "0          1185.923274  \n",
       "1          1263.608674  \n",
       "2          1366.022182  \n",
       "3          1041.828738  \n",
       "4          1002.470090  \n",
       "5          1065.767059  \n",
       "6          1108.182304  \n",
       "7          1157.376501  \n",
       "8          1303.903092  \n",
       "9          1592.769249  \n",
       "10         1672.541736  \n",
       "11         1644.802403  \n",
       "12         1210.476006  \n",
       "13         1236.680872  \n",
       "14         1278.687251  "
      ]
     },
     "execution_count": 96,
     "metadata": {},
     "output_type": "execute_result"
    }
   ],
   "source": [
    "df3"
   ]
  },
  {
   "cell_type": "markdown",
   "metadata": {},
   "source": [
    "# Ensemble Technique"
   ]
  },
  {
   "cell_type": "code",
   "execution_count": 95,
   "metadata": {},
   "outputs": [],
   "source": [
    "import random\n",
    "from tqdm import tqdm\n",
    "\n",
    "# ensembling parameters:------\n",
    "#                           each_sample_size---->sample size when we create samples from d1\n",
    "#                           base_models_list----->base models list\n",
    "#                           x_train--------->train_data which we split in d1 and d2\n",
    "#                           y_train_minmax--------->y_train data(minmax vectorized)\n",
    "#                           meta_model---------->model on which we fit the predicted values fro base models\n",
    "#                           x_test------------>test data for evaluating the model\n",
    "#                           y_test-------------> y_test(without minmax scaled)\n",
    "#                           y_train----------->y_train(without minmax scaled)\n",
    "\n",
    "\n",
    "def ensembling(each_sample_size, base_models_list, x_train, y_train_minmax, meta_model, x_test, y_test,y_train):\n",
    "    # splitting data into 50 50\n",
    "    X_d1, X_d2, y_d1, y_d2 = train_test_split(x_train, y_train_minmax, test_size=0.5, random_state=42)\n",
    "    # making empty dataframe to keep predicting price\n",
    "    predicted_df = pd.DataFrame()\n",
    "    \n",
    "    k = len(base_models_list)\n",
    "    \n",
    "    for i in range(k):\n",
    "        # data=[]\n",
    "        # choosing random index\n",
    "        index = random.sample(range(0, X_d1.shape[0]), each_sample_size)\n",
    "        # fitting data on models\n",
    "        base_models_list[i].fit( X_d1[index] , y_d1[index].ravel() )\n",
    "        # prdicting output for remaining 50% data\n",
    "        pred = base_models_list[i].predict(X_d2)\n",
    "        # inserting predicted value as a column in predicted_df\n",
    "        predicted_df['model'+str(i)] = pred\n",
    "    # fitting predicted values on meta model    \n",
    "    meta_model.fit(predicted_df,y_d2.ravel())\n",
    "\n",
    "    # evaluation of the model\n",
    "    eval_df = pd.DataFrame()\n",
    "    for i in range(k):\n",
    "        pred = base_models_list[i].predict(x_test)\n",
    "        eval_df['model'+str(i)] = pred\n",
    "    y_predicted = meta_model.predict(eval_df)\n",
    "    y_pred1=(y_predicted*y_train.max())-y_train.min()\n",
    "    return mean_squared_error(y_test,y_pred1)\n",
    "            \n",
    "\n",
    "    \n",
    "    \n",
    "def hyperparameter_tuning(parameters,each_sample_size,x_train, y_train_minmax, meta_model, x_test, y_test,y_train):\n",
    "    results=pd.DataFrame(columns=['meta model','each_sample_size','base_models','mse'])\n",
    "    for meta_m in parameters['meta_models']:\n",
    "        for base_m in parameters['base_models']:\n",
    "            for sample_size in parameters['each_sample_size']:\n",
    "                mse=ensembling(sample_size, parameters['base_models'][base_m], x_train, y_train_minmax,\n",
    "                               parameters['meta_models'][meta_m], x_test, y_test,y_train)\n",
    "                results=results.append({'meta model':meta_m,'each_sample_size':sample_size,'base_models':base_m,\n",
    "                                        'mse':mse},ignore_index=True)\n",
    "    return results\n",
    "    "
   ]
  },
  {
   "cell_type": "code",
   "execution_count": 97,
   "metadata": {},
   "outputs": [],
   "source": [
    "def hyperparameter_results(train_data_80,test_data_80):\n",
    "    model_sgd=SGDRegressor(alpha=0.0001,max_iter= 1000, penalty= 'l2')\n",
    "    model_lgbm=LGBMRegressor(alpha=0.0001,max_iter= 1000, penalty= 'l2')\n",
    "    model_ridge=Ridge(alpha=0.0001,max_iter= 1000)\n",
    "    model_lasso=Lasso(alpha=0.0001,max_iter= 1000)\n",
    "\n",
    "    meta_model_sgd=SGDRegressor(alpha=0.0001,max_iter= 1000, penalty= 'l2')\n",
    "    meta_model_lgbm=LGBMRegressor(alpha=0.0001,max_iter= 1000, penalty= 'l2')\n",
    "    meta_model_ridge=Ridge(alpha=0.0001,max_iter= 1000)\n",
    "    meta_model_lasso=Lasso(alpha=0.0001,max_iter= 1000)\n",
    "\n",
    "    parameters={\n",
    "        'base_models':{\n",
    "            'sgd_lgbm':[model_sgd,model_lgbm],\n",
    "            'sgd_lgbm_ridge':[model_sgd,model_lgbm,model_ridge],\n",
    "            'sgd_lgbm_ridge_lasso':[model_sgd,model_lgbm,model_ridge,model_lasso]\n",
    "        },\n",
    "        'meta_models':{\n",
    "            'meta_model_sgd':meta_model_sgd,\n",
    "            'meta_model_lgbm':meta_model_lgbm,\n",
    "            'meta_model_ridge':meta_model_ridge,\n",
    "            'meta_model_lasso':meta_model_lasso\n",
    "        },\n",
    "        'each_sample_size':[200000,250000]\n",
    "\n",
    "    }\n",
    "\n",
    "\n",
    "    final_mse=hyperparameter_tuning(parameters,200000,train_data_80,y_train_minmax,meta_model,test_data_80,y_test,y_train)\n",
    "    return final_mse"
   ]
  },
  {
   "cell_type": "code",
   "execution_count": null,
   "metadata": {},
   "outputs": [],
   "source": [
    "final_mse=hyperparameter_results(train_OHE,test_OHE)"
   ]
  },
  {
   "cell_type": "code",
   "execution_count": 104,
   "metadata": {},
   "outputs": [
    {
     "data": {
      "text/html": [
       "<div>\n",
       "<style scoped>\n",
       "    .dataframe tbody tr th:only-of-type {\n",
       "        vertical-align: middle;\n",
       "    }\n",
       "\n",
       "    .dataframe tbody tr th {\n",
       "        vertical-align: top;\n",
       "    }\n",
       "\n",
       "    .dataframe thead th {\n",
       "        text-align: right;\n",
       "    }\n",
       "</style>\n",
       "<table border=\"1\" class=\"dataframe\">\n",
       "  <thead>\n",
       "    <tr style=\"text-align: right;\">\n",
       "      <th></th>\n",
       "      <th>meta model</th>\n",
       "      <th>each_sample_size</th>\n",
       "      <th>base_models</th>\n",
       "      <th>mse</th>\n",
       "    </tr>\n",
       "  </thead>\n",
       "  <tbody>\n",
       "    <tr>\n",
       "      <th>17</th>\n",
       "      <td>meta_model_ridge</td>\n",
       "      <td>250000</td>\n",
       "      <td>sgd_lgbm_ridge_lasso</td>\n",
       "      <td>1009.779511</td>\n",
       "    </tr>\n",
       "    <tr>\n",
       "      <th>16</th>\n",
       "      <td>meta_model_ridge</td>\n",
       "      <td>200000</td>\n",
       "      <td>sgd_lgbm_ridge_lasso</td>\n",
       "      <td>1019.612640</td>\n",
       "    </tr>\n",
       "    <tr>\n",
       "      <th>15</th>\n",
       "      <td>meta_model_ridge</td>\n",
       "      <td>250000</td>\n",
       "      <td>sgd_lgbm_ridge</td>\n",
       "      <td>1023.752949</td>\n",
       "    </tr>\n",
       "    <tr>\n",
       "      <th>14</th>\n",
       "      <td>meta_model_ridge</td>\n",
       "      <td>200000</td>\n",
       "      <td>sgd_lgbm_ridge</td>\n",
       "      <td>1043.702154</td>\n",
       "    </tr>\n",
       "    <tr>\n",
       "      <th>10</th>\n",
       "      <td>meta_model_lgbm</td>\n",
       "      <td>200000</td>\n",
       "      <td>sgd_lgbm_ridge_lasso</td>\n",
       "      <td>1049.167338</td>\n",
       "    </tr>\n",
       "    <tr>\n",
       "      <th>11</th>\n",
       "      <td>meta_model_lgbm</td>\n",
       "      <td>250000</td>\n",
       "      <td>sgd_lgbm_ridge_lasso</td>\n",
       "      <td>1054.001585</td>\n",
       "    </tr>\n",
       "    <tr>\n",
       "      <th>9</th>\n",
       "      <td>meta_model_lgbm</td>\n",
       "      <td>250000</td>\n",
       "      <td>sgd_lgbm_ridge</td>\n",
       "      <td>1056.228020</td>\n",
       "    </tr>\n",
       "    <tr>\n",
       "      <th>8</th>\n",
       "      <td>meta_model_lgbm</td>\n",
       "      <td>200000</td>\n",
       "      <td>sgd_lgbm_ridge</td>\n",
       "      <td>1058.171564</td>\n",
       "    </tr>\n",
       "    <tr>\n",
       "      <th>13</th>\n",
       "      <td>meta_model_ridge</td>\n",
       "      <td>250000</td>\n",
       "      <td>sgd_lgbm</td>\n",
       "      <td>1060.725545</td>\n",
       "    </tr>\n",
       "    <tr>\n",
       "      <th>12</th>\n",
       "      <td>meta_model_ridge</td>\n",
       "      <td>200000</td>\n",
       "      <td>sgd_lgbm</td>\n",
       "      <td>1084.761373</td>\n",
       "    </tr>\n",
       "    <tr>\n",
       "      <th>7</th>\n",
       "      <td>meta_model_lgbm</td>\n",
       "      <td>250000</td>\n",
       "      <td>sgd_lgbm</td>\n",
       "      <td>1102.494124</td>\n",
       "    </tr>\n",
       "    <tr>\n",
       "      <th>6</th>\n",
       "      <td>meta_model_lgbm</td>\n",
       "      <td>200000</td>\n",
       "      <td>sgd_lgbm</td>\n",
       "      <td>1113.612606</td>\n",
       "    </tr>\n",
       "    <tr>\n",
       "      <th>21</th>\n",
       "      <td>meta_model_lasso</td>\n",
       "      <td>250000</td>\n",
       "      <td>sgd_lgbm_ridge</td>\n",
       "      <td>1242.695642</td>\n",
       "    </tr>\n",
       "    <tr>\n",
       "      <th>23</th>\n",
       "      <td>meta_model_lasso</td>\n",
       "      <td>250000</td>\n",
       "      <td>sgd_lgbm_ridge_lasso</td>\n",
       "      <td>1248.720253</td>\n",
       "    </tr>\n",
       "    <tr>\n",
       "      <th>22</th>\n",
       "      <td>meta_model_lasso</td>\n",
       "      <td>200000</td>\n",
       "      <td>sgd_lgbm_ridge_lasso</td>\n",
       "      <td>1262.334234</td>\n",
       "    </tr>\n",
       "    <tr>\n",
       "      <th>20</th>\n",
       "      <td>meta_model_lasso</td>\n",
       "      <td>200000</td>\n",
       "      <td>sgd_lgbm_ridge</td>\n",
       "      <td>1262.425347</td>\n",
       "    </tr>\n",
       "    <tr>\n",
       "      <th>19</th>\n",
       "      <td>meta_model_lasso</td>\n",
       "      <td>250000</td>\n",
       "      <td>sgd_lgbm</td>\n",
       "      <td>1285.381483</td>\n",
       "    </tr>\n",
       "    <tr>\n",
       "      <th>18</th>\n",
       "      <td>meta_model_lasso</td>\n",
       "      <td>200000</td>\n",
       "      <td>sgd_lgbm</td>\n",
       "      <td>1291.967982</td>\n",
       "    </tr>\n",
       "    <tr>\n",
       "      <th>5</th>\n",
       "      <td>meta_model_sgd</td>\n",
       "      <td>250000</td>\n",
       "      <td>sgd_lgbm_ridge_lasso</td>\n",
       "      <td>1548.214259</td>\n",
       "    </tr>\n",
       "    <tr>\n",
       "      <th>4</th>\n",
       "      <td>meta_model_sgd</td>\n",
       "      <td>200000</td>\n",
       "      <td>sgd_lgbm_ridge_lasso</td>\n",
       "      <td>1559.399979</td>\n",
       "    </tr>\n",
       "    <tr>\n",
       "      <th>3</th>\n",
       "      <td>meta_model_sgd</td>\n",
       "      <td>250000</td>\n",
       "      <td>sgd_lgbm_ridge</td>\n",
       "      <td>1568.067191</td>\n",
       "    </tr>\n",
       "    <tr>\n",
       "      <th>2</th>\n",
       "      <td>meta_model_sgd</td>\n",
       "      <td>200000</td>\n",
       "      <td>sgd_lgbm_ridge</td>\n",
       "      <td>1570.012632</td>\n",
       "    </tr>\n",
       "    <tr>\n",
       "      <th>1</th>\n",
       "      <td>meta_model_sgd</td>\n",
       "      <td>250000</td>\n",
       "      <td>sgd_lgbm</td>\n",
       "      <td>1719.478955</td>\n",
       "    </tr>\n",
       "    <tr>\n",
       "      <th>0</th>\n",
       "      <td>meta_model_sgd</td>\n",
       "      <td>200000</td>\n",
       "      <td>sgd_lgbm</td>\n",
       "      <td>1720.574883</td>\n",
       "    </tr>\n",
       "  </tbody>\n",
       "</table>\n",
       "</div>"
      ],
      "text/plain": [
       "          meta model each_sample_size           base_models          mse\n",
       "17  meta_model_ridge           250000  sgd_lgbm_ridge_lasso  1009.779511\n",
       "16  meta_model_ridge           200000  sgd_lgbm_ridge_lasso  1019.612640\n",
       "15  meta_model_ridge           250000        sgd_lgbm_ridge  1023.752949\n",
       "14  meta_model_ridge           200000        sgd_lgbm_ridge  1043.702154\n",
       "10   meta_model_lgbm           200000  sgd_lgbm_ridge_lasso  1049.167338\n",
       "11   meta_model_lgbm           250000  sgd_lgbm_ridge_lasso  1054.001585\n",
       "9    meta_model_lgbm           250000        sgd_lgbm_ridge  1056.228020\n",
       "8    meta_model_lgbm           200000        sgd_lgbm_ridge  1058.171564\n",
       "13  meta_model_ridge           250000              sgd_lgbm  1060.725545\n",
       "12  meta_model_ridge           200000              sgd_lgbm  1084.761373\n",
       "7    meta_model_lgbm           250000              sgd_lgbm  1102.494124\n",
       "6    meta_model_lgbm           200000              sgd_lgbm  1113.612606\n",
       "21  meta_model_lasso           250000        sgd_lgbm_ridge  1242.695642\n",
       "23  meta_model_lasso           250000  sgd_lgbm_ridge_lasso  1248.720253\n",
       "22  meta_model_lasso           200000  sgd_lgbm_ridge_lasso  1262.334234\n",
       "20  meta_model_lasso           200000        sgd_lgbm_ridge  1262.425347\n",
       "19  meta_model_lasso           250000              sgd_lgbm  1285.381483\n",
       "18  meta_model_lasso           200000              sgd_lgbm  1291.967982\n",
       "5     meta_model_sgd           250000  sgd_lgbm_ridge_lasso  1548.214259\n",
       "4     meta_model_sgd           200000  sgd_lgbm_ridge_lasso  1559.399979\n",
       "3     meta_model_sgd           250000        sgd_lgbm_ridge  1568.067191\n",
       "2     meta_model_sgd           200000        sgd_lgbm_ridge  1570.012632\n",
       "1     meta_model_sgd           250000              sgd_lgbm  1719.478955\n",
       "0     meta_model_sgd           200000              sgd_lgbm  1720.574883"
      ]
     },
     "execution_count": 104,
     "metadata": {},
     "output_type": "execute_result"
    }
   ],
   "source": [
    "final_mse.sort_values(by='mse')"
   ]
  },
  {
   "cell_type": "code",
   "execution_count": 100,
   "metadata": {},
   "outputs": [
    {
     "name": "stderr",
     "output_type": "stream",
     "text": [
      "C:\\Users\\vishw\\anaconda3\\envs\\tf-gpu-1\\lib\\site-packages\\lightgbm\\basic.py:497: UserWarning: Converting data to scipy sparse matrix.\n",
      "  warnings.warn('Converting data to scipy sparse matrix.')\n",
      "C:\\Users\\vishw\\anaconda3\\envs\\tf-gpu-1\\lib\\site-packages\\lightgbm\\basic.py:497: UserWarning: Converting data to scipy sparse matrix.\n",
      "  warnings.warn('Converting data to scipy sparse matrix.')\n",
      "C:\\Users\\vishw\\anaconda3\\envs\\tf-gpu-1\\lib\\site-packages\\lightgbm\\basic.py:497: UserWarning: Converting data to scipy sparse matrix.\n",
      "  warnings.warn('Converting data to scipy sparse matrix.')\n",
      "C:\\Users\\vishw\\anaconda3\\envs\\tf-gpu-1\\lib\\site-packages\\lightgbm\\basic.py:497: UserWarning: Converting data to scipy sparse matrix.\n",
      "  warnings.warn('Converting data to scipy sparse matrix.')\n",
      "C:\\Users\\vishw\\anaconda3\\envs\\tf-gpu-1\\lib\\site-packages\\lightgbm\\basic.py:497: UserWarning: Converting data to scipy sparse matrix.\n",
      "  warnings.warn('Converting data to scipy sparse matrix.')\n",
      "C:\\Users\\vishw\\anaconda3\\envs\\tf-gpu-1\\lib\\site-packages\\lightgbm\\basic.py:497: UserWarning: Converting data to scipy sparse matrix.\n",
      "  warnings.warn('Converting data to scipy sparse matrix.')\n",
      "C:\\Users\\vishw\\anaconda3\\envs\\tf-gpu-1\\lib\\site-packages\\lightgbm\\basic.py:497: UserWarning: Converting data to scipy sparse matrix.\n",
      "  warnings.warn('Converting data to scipy sparse matrix.')\n",
      "C:\\Users\\vishw\\anaconda3\\envs\\tf-gpu-1\\lib\\site-packages\\lightgbm\\basic.py:497: UserWarning: Converting data to scipy sparse matrix.\n",
      "  warnings.warn('Converting data to scipy sparse matrix.')\n",
      "C:\\Users\\vishw\\anaconda3\\envs\\tf-gpu-1\\lib\\site-packages\\lightgbm\\basic.py:497: UserWarning: Converting data to scipy sparse matrix.\n",
      "  warnings.warn('Converting data to scipy sparse matrix.')\n",
      "C:\\Users\\vishw\\anaconda3\\envs\\tf-gpu-1\\lib\\site-packages\\lightgbm\\basic.py:497: UserWarning: Converting data to scipy sparse matrix.\n",
      "  warnings.warn('Converting data to scipy sparse matrix.')\n",
      "C:\\Users\\vishw\\anaconda3\\envs\\tf-gpu-1\\lib\\site-packages\\lightgbm\\basic.py:497: UserWarning: Converting data to scipy sparse matrix.\n",
      "  warnings.warn('Converting data to scipy sparse matrix.')\n",
      "C:\\Users\\vishw\\anaconda3\\envs\\tf-gpu-1\\lib\\site-packages\\lightgbm\\basic.py:497: UserWarning: Converting data to scipy sparse matrix.\n",
      "  warnings.warn('Converting data to scipy sparse matrix.')\n",
      "C:\\Users\\vishw\\anaconda3\\envs\\tf-gpu-1\\lib\\site-packages\\lightgbm\\basic.py:497: UserWarning: Converting data to scipy sparse matrix.\n",
      "  warnings.warn('Converting data to scipy sparse matrix.')\n",
      "C:\\Users\\vishw\\anaconda3\\envs\\tf-gpu-1\\lib\\site-packages\\lightgbm\\basic.py:497: UserWarning: Converting data to scipy sparse matrix.\n",
      "  warnings.warn('Converting data to scipy sparse matrix.')\n",
      "C:\\Users\\vishw\\anaconda3\\envs\\tf-gpu-1\\lib\\site-packages\\lightgbm\\basic.py:497: UserWarning: Converting data to scipy sparse matrix.\n",
      "  warnings.warn('Converting data to scipy sparse matrix.')\n",
      "C:\\Users\\vishw\\anaconda3\\envs\\tf-gpu-1\\lib\\site-packages\\lightgbm\\basic.py:497: UserWarning: Converting data to scipy sparse matrix.\n",
      "  warnings.warn('Converting data to scipy sparse matrix.')\n",
      "C:\\Users\\vishw\\anaconda3\\envs\\tf-gpu-1\\lib\\site-packages\\lightgbm\\basic.py:497: UserWarning: Converting data to scipy sparse matrix.\n",
      "  warnings.warn('Converting data to scipy sparse matrix.')\n",
      "C:\\Users\\vishw\\anaconda3\\envs\\tf-gpu-1\\lib\\site-packages\\lightgbm\\basic.py:497: UserWarning: Converting data to scipy sparse matrix.\n",
      "  warnings.warn('Converting data to scipy sparse matrix.')\n",
      "C:\\Users\\vishw\\anaconda3\\envs\\tf-gpu-1\\lib\\site-packages\\lightgbm\\basic.py:497: UserWarning: Converting data to scipy sparse matrix.\n",
      "  warnings.warn('Converting data to scipy sparse matrix.')\n",
      "C:\\Users\\vishw\\anaconda3\\envs\\tf-gpu-1\\lib\\site-packages\\lightgbm\\basic.py:497: UserWarning: Converting data to scipy sparse matrix.\n",
      "  warnings.warn('Converting data to scipy sparse matrix.')\n",
      "C:\\Users\\vishw\\anaconda3\\envs\\tf-gpu-1\\lib\\site-packages\\lightgbm\\basic.py:497: UserWarning: Converting data to scipy sparse matrix.\n",
      "  warnings.warn('Converting data to scipy sparse matrix.')\n",
      "C:\\Users\\vishw\\anaconda3\\envs\\tf-gpu-1\\lib\\site-packages\\lightgbm\\basic.py:497: UserWarning: Converting data to scipy sparse matrix.\n",
      "  warnings.warn('Converting data to scipy sparse matrix.')\n",
      "C:\\Users\\vishw\\anaconda3\\envs\\tf-gpu-1\\lib\\site-packages\\lightgbm\\basic.py:497: UserWarning: Converting data to scipy sparse matrix.\n",
      "  warnings.warn('Converting data to scipy sparse matrix.')\n",
      "C:\\Users\\vishw\\anaconda3\\envs\\tf-gpu-1\\lib\\site-packages\\lightgbm\\basic.py:497: UserWarning: Converting data to scipy sparse matrix.\n",
      "  warnings.warn('Converting data to scipy sparse matrix.')\n"
     ]
    }
   ],
   "source": [
    "final_mse1 = hyperparameter_results(train_tfidf,test_tfidf)"
   ]
  },
  {
   "cell_type": "code",
   "execution_count": 105,
   "metadata": {},
   "outputs": [
    {
     "data": {
      "text/html": [
       "<div>\n",
       "<style scoped>\n",
       "    .dataframe tbody tr th:only-of-type {\n",
       "        vertical-align: middle;\n",
       "    }\n",
       "\n",
       "    .dataframe tbody tr th {\n",
       "        vertical-align: top;\n",
       "    }\n",
       "\n",
       "    .dataframe thead th {\n",
       "        text-align: right;\n",
       "    }\n",
       "</style>\n",
       "<table border=\"1\" class=\"dataframe\">\n",
       "  <thead>\n",
       "    <tr style=\"text-align: right;\">\n",
       "      <th></th>\n",
       "      <th>meta model</th>\n",
       "      <th>each_sample_size</th>\n",
       "      <th>base_models</th>\n",
       "      <th>mse</th>\n",
       "    </tr>\n",
       "  </thead>\n",
       "  <tbody>\n",
       "    <tr>\n",
       "      <th>17</th>\n",
       "      <td>meta_model_ridge</td>\n",
       "      <td>250000</td>\n",
       "      <td>sgd_lgbm_ridge_lasso</td>\n",
       "      <td>1052.236208</td>\n",
       "    </tr>\n",
       "    <tr>\n",
       "      <th>15</th>\n",
       "      <td>meta_model_ridge</td>\n",
       "      <td>250000</td>\n",
       "      <td>sgd_lgbm_ridge</td>\n",
       "      <td>1052.936873</td>\n",
       "    </tr>\n",
       "    <tr>\n",
       "      <th>16</th>\n",
       "      <td>meta_model_ridge</td>\n",
       "      <td>200000</td>\n",
       "      <td>sgd_lgbm_ridge_lasso</td>\n",
       "      <td>1056.282485</td>\n",
       "    </tr>\n",
       "    <tr>\n",
       "      <th>11</th>\n",
       "      <td>meta_model_lgbm</td>\n",
       "      <td>250000</td>\n",
       "      <td>sgd_lgbm_ridge_lasso</td>\n",
       "      <td>1061.386569</td>\n",
       "    </tr>\n",
       "    <tr>\n",
       "      <th>14</th>\n",
       "      <td>meta_model_ridge</td>\n",
       "      <td>200000</td>\n",
       "      <td>sgd_lgbm_ridge</td>\n",
       "      <td>1064.736545</td>\n",
       "    </tr>\n",
       "    <tr>\n",
       "      <th>9</th>\n",
       "      <td>meta_model_lgbm</td>\n",
       "      <td>250000</td>\n",
       "      <td>sgd_lgbm_ridge</td>\n",
       "      <td>1071.922884</td>\n",
       "    </tr>\n",
       "    <tr>\n",
       "      <th>10</th>\n",
       "      <td>meta_model_lgbm</td>\n",
       "      <td>200000</td>\n",
       "      <td>sgd_lgbm_ridge_lasso</td>\n",
       "      <td>1071.969042</td>\n",
       "    </tr>\n",
       "    <tr>\n",
       "      <th>8</th>\n",
       "      <td>meta_model_lgbm</td>\n",
       "      <td>200000</td>\n",
       "      <td>sgd_lgbm_ridge</td>\n",
       "      <td>1083.219407</td>\n",
       "    </tr>\n",
       "    <tr>\n",
       "      <th>13</th>\n",
       "      <td>meta_model_ridge</td>\n",
       "      <td>250000</td>\n",
       "      <td>sgd_lgbm</td>\n",
       "      <td>1089.745127</td>\n",
       "    </tr>\n",
       "    <tr>\n",
       "      <th>12</th>\n",
       "      <td>meta_model_ridge</td>\n",
       "      <td>200000</td>\n",
       "      <td>sgd_lgbm</td>\n",
       "      <td>1112.165480</td>\n",
       "    </tr>\n",
       "    <tr>\n",
       "      <th>7</th>\n",
       "      <td>meta_model_lgbm</td>\n",
       "      <td>250000</td>\n",
       "      <td>sgd_lgbm</td>\n",
       "      <td>1127.963999</td>\n",
       "    </tr>\n",
       "    <tr>\n",
       "      <th>6</th>\n",
       "      <td>meta_model_lgbm</td>\n",
       "      <td>200000</td>\n",
       "      <td>sgd_lgbm</td>\n",
       "      <td>1152.380009</td>\n",
       "    </tr>\n",
       "    <tr>\n",
       "      <th>21</th>\n",
       "      <td>meta_model_lasso</td>\n",
       "      <td>250000</td>\n",
       "      <td>sgd_lgbm_ridge</td>\n",
       "      <td>1274.345783</td>\n",
       "    </tr>\n",
       "    <tr>\n",
       "      <th>23</th>\n",
       "      <td>meta_model_lasso</td>\n",
       "      <td>250000</td>\n",
       "      <td>sgd_lgbm_ridge_lasso</td>\n",
       "      <td>1276.691623</td>\n",
       "    </tr>\n",
       "    <tr>\n",
       "      <th>20</th>\n",
       "      <td>meta_model_lasso</td>\n",
       "      <td>200000</td>\n",
       "      <td>sgd_lgbm_ridge</td>\n",
       "      <td>1301.437224</td>\n",
       "    </tr>\n",
       "    <tr>\n",
       "      <th>22</th>\n",
       "      <td>meta_model_lasso</td>\n",
       "      <td>200000</td>\n",
       "      <td>sgd_lgbm_ridge_lasso</td>\n",
       "      <td>1301.950227</td>\n",
       "    </tr>\n",
       "    <tr>\n",
       "      <th>19</th>\n",
       "      <td>meta_model_lasso</td>\n",
       "      <td>250000</td>\n",
       "      <td>sgd_lgbm</td>\n",
       "      <td>1320.649327</td>\n",
       "    </tr>\n",
       "    <tr>\n",
       "      <th>18</th>\n",
       "      <td>meta_model_lasso</td>\n",
       "      <td>200000</td>\n",
       "      <td>sgd_lgbm</td>\n",
       "      <td>1333.848120</td>\n",
       "    </tr>\n",
       "    <tr>\n",
       "      <th>5</th>\n",
       "      <td>meta_model_sgd</td>\n",
       "      <td>250000</td>\n",
       "      <td>sgd_lgbm_ridge_lasso</td>\n",
       "      <td>1605.936617</td>\n",
       "    </tr>\n",
       "    <tr>\n",
       "      <th>3</th>\n",
       "      <td>meta_model_sgd</td>\n",
       "      <td>250000</td>\n",
       "      <td>sgd_lgbm_ridge</td>\n",
       "      <td>1611.903509</td>\n",
       "    </tr>\n",
       "    <tr>\n",
       "      <th>4</th>\n",
       "      <td>meta_model_sgd</td>\n",
       "      <td>200000</td>\n",
       "      <td>sgd_lgbm_ridge_lasso</td>\n",
       "      <td>1614.301279</td>\n",
       "    </tr>\n",
       "    <tr>\n",
       "      <th>2</th>\n",
       "      <td>meta_model_sgd</td>\n",
       "      <td>200000</td>\n",
       "      <td>sgd_lgbm_ridge</td>\n",
       "      <td>1625.275443</td>\n",
       "    </tr>\n",
       "    <tr>\n",
       "      <th>1</th>\n",
       "      <td>meta_model_sgd</td>\n",
       "      <td>250000</td>\n",
       "      <td>sgd_lgbm</td>\n",
       "      <td>1762.797626</td>\n",
       "    </tr>\n",
       "    <tr>\n",
       "      <th>0</th>\n",
       "      <td>meta_model_sgd</td>\n",
       "      <td>200000</td>\n",
       "      <td>sgd_lgbm</td>\n",
       "      <td>1771.066809</td>\n",
       "    </tr>\n",
       "  </tbody>\n",
       "</table>\n",
       "</div>"
      ],
      "text/plain": [
       "          meta model each_sample_size           base_models          mse\n",
       "17  meta_model_ridge           250000  sgd_lgbm_ridge_lasso  1052.236208\n",
       "15  meta_model_ridge           250000        sgd_lgbm_ridge  1052.936873\n",
       "16  meta_model_ridge           200000  sgd_lgbm_ridge_lasso  1056.282485\n",
       "11   meta_model_lgbm           250000  sgd_lgbm_ridge_lasso  1061.386569\n",
       "14  meta_model_ridge           200000        sgd_lgbm_ridge  1064.736545\n",
       "9    meta_model_lgbm           250000        sgd_lgbm_ridge  1071.922884\n",
       "10   meta_model_lgbm           200000  sgd_lgbm_ridge_lasso  1071.969042\n",
       "8    meta_model_lgbm           200000        sgd_lgbm_ridge  1083.219407\n",
       "13  meta_model_ridge           250000              sgd_lgbm  1089.745127\n",
       "12  meta_model_ridge           200000              sgd_lgbm  1112.165480\n",
       "7    meta_model_lgbm           250000              sgd_lgbm  1127.963999\n",
       "6    meta_model_lgbm           200000              sgd_lgbm  1152.380009\n",
       "21  meta_model_lasso           250000        sgd_lgbm_ridge  1274.345783\n",
       "23  meta_model_lasso           250000  sgd_lgbm_ridge_lasso  1276.691623\n",
       "20  meta_model_lasso           200000        sgd_lgbm_ridge  1301.437224\n",
       "22  meta_model_lasso           200000  sgd_lgbm_ridge_lasso  1301.950227\n",
       "19  meta_model_lasso           250000              sgd_lgbm  1320.649327\n",
       "18  meta_model_lasso           200000              sgd_lgbm  1333.848120\n",
       "5     meta_model_sgd           250000  sgd_lgbm_ridge_lasso  1605.936617\n",
       "3     meta_model_sgd           250000        sgd_lgbm_ridge  1611.903509\n",
       "4     meta_model_sgd           200000  sgd_lgbm_ridge_lasso  1614.301279\n",
       "2     meta_model_sgd           200000        sgd_lgbm_ridge  1625.275443\n",
       "1     meta_model_sgd           250000              sgd_lgbm  1762.797626\n",
       "0     meta_model_sgd           200000              sgd_lgbm  1771.066809"
      ]
     },
     "execution_count": 105,
     "metadata": {},
     "output_type": "execute_result"
    }
   ],
   "source": [
    "final_mse1.sort_values(by='mse')"
   ]
  },
  {
   "cell_type": "code",
   "execution_count": null,
   "metadata": {},
   "outputs": [],
   "source": []
  },
  {
   "cell_type": "code",
   "execution_count": 102,
   "metadata": {},
   "outputs": [
    {
     "name": "stderr",
     "output_type": "stream",
     "text": [
      "C:\\Users\\vishw\\anaconda3\\envs\\tf-gpu-1\\lib\\site-packages\\lightgbm\\basic.py:497: UserWarning: Converting data to scipy sparse matrix.\n",
      "  warnings.warn('Converting data to scipy sparse matrix.')\n",
      "C:\\Users\\vishw\\anaconda3\\envs\\tf-gpu-1\\lib\\site-packages\\lightgbm\\basic.py:497: UserWarning: Converting data to scipy sparse matrix.\n",
      "  warnings.warn('Converting data to scipy sparse matrix.')\n",
      "C:\\Users\\vishw\\anaconda3\\envs\\tf-gpu-1\\lib\\site-packages\\lightgbm\\basic.py:497: UserWarning: Converting data to scipy sparse matrix.\n",
      "  warnings.warn('Converting data to scipy sparse matrix.')\n",
      "C:\\Users\\vishw\\anaconda3\\envs\\tf-gpu-1\\lib\\site-packages\\lightgbm\\basic.py:497: UserWarning: Converting data to scipy sparse matrix.\n",
      "  warnings.warn('Converting data to scipy sparse matrix.')\n",
      "C:\\Users\\vishw\\anaconda3\\envs\\tf-gpu-1\\lib\\site-packages\\lightgbm\\basic.py:497: UserWarning: Converting data to scipy sparse matrix.\n",
      "  warnings.warn('Converting data to scipy sparse matrix.')\n",
      "C:\\Users\\vishw\\anaconda3\\envs\\tf-gpu-1\\lib\\site-packages\\lightgbm\\basic.py:497: UserWarning: Converting data to scipy sparse matrix.\n",
      "  warnings.warn('Converting data to scipy sparse matrix.')\n",
      "C:\\Users\\vishw\\anaconda3\\envs\\tf-gpu-1\\lib\\site-packages\\lightgbm\\basic.py:497: UserWarning: Converting data to scipy sparse matrix.\n",
      "  warnings.warn('Converting data to scipy sparse matrix.')\n",
      "C:\\Users\\vishw\\anaconda3\\envs\\tf-gpu-1\\lib\\site-packages\\lightgbm\\basic.py:497: UserWarning: Converting data to scipy sparse matrix.\n",
      "  warnings.warn('Converting data to scipy sparse matrix.')\n",
      "C:\\Users\\vishw\\anaconda3\\envs\\tf-gpu-1\\lib\\site-packages\\lightgbm\\basic.py:497: UserWarning: Converting data to scipy sparse matrix.\n",
      "  warnings.warn('Converting data to scipy sparse matrix.')\n",
      "C:\\Users\\vishw\\anaconda3\\envs\\tf-gpu-1\\lib\\site-packages\\lightgbm\\basic.py:497: UserWarning: Converting data to scipy sparse matrix.\n",
      "  warnings.warn('Converting data to scipy sparse matrix.')\n",
      "C:\\Users\\vishw\\anaconda3\\envs\\tf-gpu-1\\lib\\site-packages\\lightgbm\\basic.py:497: UserWarning: Converting data to scipy sparse matrix.\n",
      "  warnings.warn('Converting data to scipy sparse matrix.')\n",
      "C:\\Users\\vishw\\anaconda3\\envs\\tf-gpu-1\\lib\\site-packages\\lightgbm\\basic.py:497: UserWarning: Converting data to scipy sparse matrix.\n",
      "  warnings.warn('Converting data to scipy sparse matrix.')\n",
      "C:\\Users\\vishw\\anaconda3\\envs\\tf-gpu-1\\lib\\site-packages\\lightgbm\\basic.py:497: UserWarning: Converting data to scipy sparse matrix.\n",
      "  warnings.warn('Converting data to scipy sparse matrix.')\n",
      "C:\\Users\\vishw\\anaconda3\\envs\\tf-gpu-1\\lib\\site-packages\\lightgbm\\basic.py:497: UserWarning: Converting data to scipy sparse matrix.\n",
      "  warnings.warn('Converting data to scipy sparse matrix.')\n",
      "C:\\Users\\vishw\\anaconda3\\envs\\tf-gpu-1\\lib\\site-packages\\lightgbm\\basic.py:497: UserWarning: Converting data to scipy sparse matrix.\n",
      "  warnings.warn('Converting data to scipy sparse matrix.')\n",
      "C:\\Users\\vishw\\anaconda3\\envs\\tf-gpu-1\\lib\\site-packages\\lightgbm\\basic.py:497: UserWarning: Converting data to scipy sparse matrix.\n",
      "  warnings.warn('Converting data to scipy sparse matrix.')\n",
      "C:\\Users\\vishw\\anaconda3\\envs\\tf-gpu-1\\lib\\site-packages\\lightgbm\\basic.py:497: UserWarning: Converting data to scipy sparse matrix.\n",
      "  warnings.warn('Converting data to scipy sparse matrix.')\n",
      "C:\\Users\\vishw\\anaconda3\\envs\\tf-gpu-1\\lib\\site-packages\\lightgbm\\basic.py:497: UserWarning: Converting data to scipy sparse matrix.\n",
      "  warnings.warn('Converting data to scipy sparse matrix.')\n",
      "C:\\Users\\vishw\\anaconda3\\envs\\tf-gpu-1\\lib\\site-packages\\lightgbm\\basic.py:497: UserWarning: Converting data to scipy sparse matrix.\n",
      "  warnings.warn('Converting data to scipy sparse matrix.')\n",
      "C:\\Users\\vishw\\anaconda3\\envs\\tf-gpu-1\\lib\\site-packages\\lightgbm\\basic.py:497: UserWarning: Converting data to scipy sparse matrix.\n",
      "  warnings.warn('Converting data to scipy sparse matrix.')\n",
      "C:\\Users\\vishw\\anaconda3\\envs\\tf-gpu-1\\lib\\site-packages\\lightgbm\\basic.py:497: UserWarning: Converting data to scipy sparse matrix.\n",
      "  warnings.warn('Converting data to scipy sparse matrix.')\n",
      "C:\\Users\\vishw\\anaconda3\\envs\\tf-gpu-1\\lib\\site-packages\\lightgbm\\basic.py:497: UserWarning: Converting data to scipy sparse matrix.\n",
      "  warnings.warn('Converting data to scipy sparse matrix.')\n",
      "C:\\Users\\vishw\\anaconda3\\envs\\tf-gpu-1\\lib\\site-packages\\lightgbm\\basic.py:497: UserWarning: Converting data to scipy sparse matrix.\n",
      "  warnings.warn('Converting data to scipy sparse matrix.')\n",
      "C:\\Users\\vishw\\anaconda3\\envs\\tf-gpu-1\\lib\\site-packages\\lightgbm\\basic.py:497: UserWarning: Converting data to scipy sparse matrix.\n",
      "  warnings.warn('Converting data to scipy sparse matrix.')\n"
     ]
    }
   ],
   "source": [
    "final_mse2 = hyperparameter_results(train_w2v,test_w2v)"
   ]
  },
  {
   "cell_type": "code",
   "execution_count": 106,
   "metadata": {},
   "outputs": [
    {
     "data": {
      "text/html": [
       "<div>\n",
       "<style scoped>\n",
       "    .dataframe tbody tr th:only-of-type {\n",
       "        vertical-align: middle;\n",
       "    }\n",
       "\n",
       "    .dataframe tbody tr th {\n",
       "        vertical-align: top;\n",
       "    }\n",
       "\n",
       "    .dataframe thead th {\n",
       "        text-align: right;\n",
       "    }\n",
       "</style>\n",
       "<table border=\"1\" class=\"dataframe\">\n",
       "  <thead>\n",
       "    <tr style=\"text-align: right;\">\n",
       "      <th></th>\n",
       "      <th>meta model</th>\n",
       "      <th>each_sample_size</th>\n",
       "      <th>base_models</th>\n",
       "      <th>mse</th>\n",
       "    </tr>\n",
       "  </thead>\n",
       "  <tbody>\n",
       "    <tr>\n",
       "      <th>17</th>\n",
       "      <td>meta_model_ridge</td>\n",
       "      <td>250000</td>\n",
       "      <td>sgd_lgbm_ridge_lasso</td>\n",
       "      <td>1122.443442</td>\n",
       "    </tr>\n",
       "    <tr>\n",
       "      <th>16</th>\n",
       "      <td>meta_model_ridge</td>\n",
       "      <td>200000</td>\n",
       "      <td>sgd_lgbm_ridge_lasso</td>\n",
       "      <td>1128.621806</td>\n",
       "    </tr>\n",
       "    <tr>\n",
       "      <th>15</th>\n",
       "      <td>meta_model_ridge</td>\n",
       "      <td>250000</td>\n",
       "      <td>sgd_lgbm_ridge</td>\n",
       "      <td>1132.099941</td>\n",
       "    </tr>\n",
       "    <tr>\n",
       "      <th>11</th>\n",
       "      <td>meta_model_lgbm</td>\n",
       "      <td>250000</td>\n",
       "      <td>sgd_lgbm_ridge_lasso</td>\n",
       "      <td>1134.107540</td>\n",
       "    </tr>\n",
       "    <tr>\n",
       "      <th>14</th>\n",
       "      <td>meta_model_ridge</td>\n",
       "      <td>200000</td>\n",
       "      <td>sgd_lgbm_ridge</td>\n",
       "      <td>1137.773658</td>\n",
       "    </tr>\n",
       "    <tr>\n",
       "      <th>9</th>\n",
       "      <td>meta_model_lgbm</td>\n",
       "      <td>250000</td>\n",
       "      <td>sgd_lgbm_ridge</td>\n",
       "      <td>1138.136325</td>\n",
       "    </tr>\n",
       "    <tr>\n",
       "      <th>10</th>\n",
       "      <td>meta_model_lgbm</td>\n",
       "      <td>200000</td>\n",
       "      <td>sgd_lgbm_ridge_lasso</td>\n",
       "      <td>1151.018406</td>\n",
       "    </tr>\n",
       "    <tr>\n",
       "      <th>13</th>\n",
       "      <td>meta_model_ridge</td>\n",
       "      <td>250000</td>\n",
       "      <td>sgd_lgbm</td>\n",
       "      <td>1152.647325</td>\n",
       "    </tr>\n",
       "    <tr>\n",
       "      <th>8</th>\n",
       "      <td>meta_model_lgbm</td>\n",
       "      <td>200000</td>\n",
       "      <td>sgd_lgbm_ridge</td>\n",
       "      <td>1152.897645</td>\n",
       "    </tr>\n",
       "    <tr>\n",
       "      <th>12</th>\n",
       "      <td>meta_model_ridge</td>\n",
       "      <td>200000</td>\n",
       "      <td>sgd_lgbm</td>\n",
       "      <td>1170.437003</td>\n",
       "    </tr>\n",
       "    <tr>\n",
       "      <th>7</th>\n",
       "      <td>meta_model_lgbm</td>\n",
       "      <td>250000</td>\n",
       "      <td>sgd_lgbm</td>\n",
       "      <td>1186.548522</td>\n",
       "    </tr>\n",
       "    <tr>\n",
       "      <th>6</th>\n",
       "      <td>meta_model_lgbm</td>\n",
       "      <td>200000</td>\n",
       "      <td>sgd_lgbm</td>\n",
       "      <td>1209.323197</td>\n",
       "    </tr>\n",
       "    <tr>\n",
       "      <th>19</th>\n",
       "      <td>meta_model_lasso</td>\n",
       "      <td>250000</td>\n",
       "      <td>sgd_lgbm</td>\n",
       "      <td>1389.851410</td>\n",
       "    </tr>\n",
       "    <tr>\n",
       "      <th>23</th>\n",
       "      <td>meta_model_lasso</td>\n",
       "      <td>250000</td>\n",
       "      <td>sgd_lgbm_ridge_lasso</td>\n",
       "      <td>1392.080265</td>\n",
       "    </tr>\n",
       "    <tr>\n",
       "      <th>21</th>\n",
       "      <td>meta_model_lasso</td>\n",
       "      <td>250000</td>\n",
       "      <td>sgd_lgbm_ridge</td>\n",
       "      <td>1400.521568</td>\n",
       "    </tr>\n",
       "    <tr>\n",
       "      <th>20</th>\n",
       "      <td>meta_model_lasso</td>\n",
       "      <td>200000</td>\n",
       "      <td>sgd_lgbm_ridge</td>\n",
       "      <td>1401.209609</td>\n",
       "    </tr>\n",
       "    <tr>\n",
       "      <th>22</th>\n",
       "      <td>meta_model_lasso</td>\n",
       "      <td>200000</td>\n",
       "      <td>sgd_lgbm_ridge_lasso</td>\n",
       "      <td>1402.142665</td>\n",
       "    </tr>\n",
       "    <tr>\n",
       "      <th>18</th>\n",
       "      <td>meta_model_lasso</td>\n",
       "      <td>200000</td>\n",
       "      <td>sgd_lgbm</td>\n",
       "      <td>1404.328406</td>\n",
       "    </tr>\n",
       "    <tr>\n",
       "      <th>5</th>\n",
       "      <td>meta_model_sgd</td>\n",
       "      <td>250000</td>\n",
       "      <td>sgd_lgbm_ridge_lasso</td>\n",
       "      <td>1683.817495</td>\n",
       "    </tr>\n",
       "    <tr>\n",
       "      <th>4</th>\n",
       "      <td>meta_model_sgd</td>\n",
       "      <td>200000</td>\n",
       "      <td>sgd_lgbm_ridge_lasso</td>\n",
       "      <td>1687.856540</td>\n",
       "    </tr>\n",
       "    <tr>\n",
       "      <th>3</th>\n",
       "      <td>meta_model_sgd</td>\n",
       "      <td>250000</td>\n",
       "      <td>sgd_lgbm_ridge</td>\n",
       "      <td>1698.691780</td>\n",
       "    </tr>\n",
       "    <tr>\n",
       "      <th>2</th>\n",
       "      <td>meta_model_sgd</td>\n",
       "      <td>200000</td>\n",
       "      <td>sgd_lgbm_ridge</td>\n",
       "      <td>1700.446320</td>\n",
       "    </tr>\n",
       "    <tr>\n",
       "      <th>1</th>\n",
       "      <td>meta_model_sgd</td>\n",
       "      <td>250000</td>\n",
       "      <td>sgd_lgbm</td>\n",
       "      <td>1802.329075</td>\n",
       "    </tr>\n",
       "    <tr>\n",
       "      <th>0</th>\n",
       "      <td>meta_model_sgd</td>\n",
       "      <td>200000</td>\n",
       "      <td>sgd_lgbm</td>\n",
       "      <td>1808.278153</td>\n",
       "    </tr>\n",
       "  </tbody>\n",
       "</table>\n",
       "</div>"
      ],
      "text/plain": [
       "          meta model each_sample_size           base_models          mse\n",
       "17  meta_model_ridge           250000  sgd_lgbm_ridge_lasso  1122.443442\n",
       "16  meta_model_ridge           200000  sgd_lgbm_ridge_lasso  1128.621806\n",
       "15  meta_model_ridge           250000        sgd_lgbm_ridge  1132.099941\n",
       "11   meta_model_lgbm           250000  sgd_lgbm_ridge_lasso  1134.107540\n",
       "14  meta_model_ridge           200000        sgd_lgbm_ridge  1137.773658\n",
       "9    meta_model_lgbm           250000        sgd_lgbm_ridge  1138.136325\n",
       "10   meta_model_lgbm           200000  sgd_lgbm_ridge_lasso  1151.018406\n",
       "13  meta_model_ridge           250000              sgd_lgbm  1152.647325\n",
       "8    meta_model_lgbm           200000        sgd_lgbm_ridge  1152.897645\n",
       "12  meta_model_ridge           200000              sgd_lgbm  1170.437003\n",
       "7    meta_model_lgbm           250000              sgd_lgbm  1186.548522\n",
       "6    meta_model_lgbm           200000              sgd_lgbm  1209.323197\n",
       "19  meta_model_lasso           250000              sgd_lgbm  1389.851410\n",
       "23  meta_model_lasso           250000  sgd_lgbm_ridge_lasso  1392.080265\n",
       "21  meta_model_lasso           250000        sgd_lgbm_ridge  1400.521568\n",
       "20  meta_model_lasso           200000        sgd_lgbm_ridge  1401.209609\n",
       "22  meta_model_lasso           200000  sgd_lgbm_ridge_lasso  1402.142665\n",
       "18  meta_model_lasso           200000              sgd_lgbm  1404.328406\n",
       "5     meta_model_sgd           250000  sgd_lgbm_ridge_lasso  1683.817495\n",
       "4     meta_model_sgd           200000  sgd_lgbm_ridge_lasso  1687.856540\n",
       "3     meta_model_sgd           250000        sgd_lgbm_ridge  1698.691780\n",
       "2     meta_model_sgd           200000        sgd_lgbm_ridge  1700.446320\n",
       "1     meta_model_sgd           250000              sgd_lgbm  1802.329075\n",
       "0     meta_model_sgd           200000              sgd_lgbm  1808.278153"
      ]
     },
     "execution_count": 106,
     "metadata": {},
     "output_type": "execute_result"
    }
   ],
   "source": [
    "final_mse2.sort_values(by='mse')"
   ]
  },
  {
   "cell_type": "markdown",
   "metadata": {},
   "source": [
    "# implementing StackingCVRegressor"
   ]
  },
  {
   "cell_type": "code",
   "execution_count": 97,
   "metadata": {},
   "outputs": [],
   "source": [
    "from mlxtend.regressor import StackingCVRegressor\n",
    "def ensembling_s(base_models_list, x_train, y_train_minmax, meta_model, x_test, y_test,y_train):\n",
    "    stack = StackingCVRegressor(regressors=base_models_list,\n",
    "                            meta_regressor=meta_model,\n",
    "                            random_state=42)\n",
    "    stack.fit(x_train, y_train_minmax.ravel())\n",
    "    y_predicted = stack.predict(x_test)\n",
    "    y_pred1=(y_predicted*y_train.max())-y_train.min()\n",
    "    return mean_squared_error(y_test,y_pred1)\n",
    "            \n",
    "\n",
    "    \n",
    "    \n",
    "def hyperparameter_tuning_s(parameters,x_train, y_train_minmax, x_test, y_test,y_train):\n",
    "    results=pd.DataFrame(columns=['meta model','base_models','mse'])\n",
    "    for meta_m in parameters['meta_models']:\n",
    "        for base_m in parameters['base_models']:\n",
    "            \n",
    "                mse=ensembling_s(parameters['base_models'][base_m], x_train, y_train_minmax,\n",
    "                                 parameters['meta_models'][meta_m], x_test, y_test,y_train)\n",
    "                results=results.append({'meta model':meta_m,'base_models':base_m,'mse':mse},ignore_index=True)\n",
    "    return results\n",
    "    "
   ]
  },
  {
   "cell_type": "code",
   "execution_count": 98,
   "metadata": {},
   "outputs": [],
   "source": [
    "def hyperparameter_results_s(train_data_80,test_data_80):\n",
    "    model_sgd=SGDRegressor(alpha=0.0001,max_iter= 1000, penalty= 'l2')\n",
    "    model_lgbm=LGBMRegressor(alpha=0.0001,max_iter= 1000, penalty= 'l2')\n",
    "    model_ridge=Ridge(alpha=0.0001,max_iter= 1000)\n",
    "    model_lasso=Lasso(alpha=0.0001,max_iter= 1000)\n",
    "\n",
    "    meta_model_sgd=SGDRegressor(alpha=0.0001,max_iter= 1000, penalty= 'l2')\n",
    "    meta_model_lgbm=LGBMRegressor(alpha=0.0001,max_iter= 1000, penalty= 'l2')\n",
    "    meta_model_ridge=Ridge(alpha=0.0001,max_iter= 1000)\n",
    "    meta_model_lasso=Lasso(alpha=0.0001,max_iter= 1000)\n",
    "\n",
    "    parameters={\n",
    "        'base_models':{\n",
    "            'sgd_lgbm':[model_sgd,model_lgbm],\n",
    "            'sgd_lgbm_ridge':[model_sgd,model_lgbm,model_ridge],\n",
    "            'sgd_lgbm_ridge_lasso':[model_sgd,model_lgbm,model_ridge,model_lasso]\n",
    "        },\n",
    "        'meta_models':{\n",
    "            'meta_model_sgd':meta_model_sgd,\n",
    "            'meta_model_lgbm':meta_model_lgbm,\n",
    "            'meta_model_ridge':meta_model_ridge,\n",
    "            'meta_model_lasso':meta_model_lasso\n",
    "        },\n",
    "        'each_sample_size':[200000,250000]\n",
    "\n",
    "    }\n",
    "\n",
    "    final_mse=hyperparameter_tuning_s(parameters,train_data_80,y_train_minmax,test_data_80,y_test,y_train)\n",
    "    return final_mse"
   ]
  },
  {
   "cell_type": "code",
   "execution_count": 94,
   "metadata": {},
   "outputs": [
    {
     "name": "stderr",
     "output_type": "stream",
     "text": [
      "C:\\Users\\vishw\\anaconda3\\envs\\gpu\\lib\\site-packages\\sklearn\\utils\\validation.py:72: DataConversionWarning: A column-vector y was passed when a 1d array was expected. Please change the shape of y to (n_samples, ), for example using ravel().\n",
      "  return f(**kwargs)\n",
      "C:\\Users\\vishw\\anaconda3\\envs\\gpu\\lib\\site-packages\\lightgbm\\basic.py:497: UserWarning: Converting data to scipy sparse matrix.\n",
      "  warnings.warn('Converting data to scipy sparse matrix.')\n",
      "C:\\Users\\vishw\\anaconda3\\envs\\gpu\\lib\\site-packages\\sklearn\\utils\\validation.py:72: DataConversionWarning: A column-vector y was passed when a 1d array was expected. Please change the shape of y to (n_samples, ), for example using ravel().\n",
      "  return f(**kwargs)\n",
      "C:\\Users\\vishw\\anaconda3\\envs\\gpu\\lib\\site-packages\\lightgbm\\basic.py:497: UserWarning: Converting data to scipy sparse matrix.\n",
      "  warnings.warn('Converting data to scipy sparse matrix.')\n",
      "C:\\Users\\vishw\\anaconda3\\envs\\gpu\\lib\\site-packages\\sklearn\\utils\\validation.py:72: DataConversionWarning: A column-vector y was passed when a 1d array was expected. Please change the shape of y to (n_samples, ), for example using ravel().\n",
      "  return f(**kwargs)\n",
      "C:\\Users\\vishw\\anaconda3\\envs\\gpu\\lib\\site-packages\\lightgbm\\basic.py:497: UserWarning: Converting data to scipy sparse matrix.\n",
      "  warnings.warn('Converting data to scipy sparse matrix.')\n",
      "C:\\Users\\vishw\\anaconda3\\envs\\gpu\\lib\\site-packages\\sklearn\\utils\\validation.py:72: DataConversionWarning: A column-vector y was passed when a 1d array was expected. Please change the shape of y to (n_samples, ), for example using ravel().\n",
      "  return f(**kwargs)\n",
      "C:\\Users\\vishw\\anaconda3\\envs\\gpu\\lib\\site-packages\\lightgbm\\basic.py:497: UserWarning: Converting data to scipy sparse matrix.\n",
      "  warnings.warn('Converting data to scipy sparse matrix.')\n",
      "C:\\Users\\vishw\\anaconda3\\envs\\gpu\\lib\\site-packages\\sklearn\\utils\\validation.py:72: DataConversionWarning: A column-vector y was passed when a 1d array was expected. Please change the shape of y to (n_samples, ), for example using ravel().\n",
      "  return f(**kwargs)\n",
      "C:\\Users\\vishw\\anaconda3\\envs\\gpu\\lib\\site-packages\\lightgbm\\basic.py:497: UserWarning: Converting data to scipy sparse matrix.\n",
      "  warnings.warn('Converting data to scipy sparse matrix.')\n",
      "C:\\Users\\vishw\\anaconda3\\envs\\gpu\\lib\\site-packages\\sklearn\\utils\\validation.py:72: DataConversionWarning: A column-vector y was passed when a 1d array was expected. Please change the shape of y to (n_samples, ), for example using ravel().\n",
      "  return f(**kwargs)\n",
      "C:\\Users\\vishw\\anaconda3\\envs\\gpu\\lib\\site-packages\\lightgbm\\basic.py:497: UserWarning: Converting data to scipy sparse matrix.\n",
      "  warnings.warn('Converting data to scipy sparse matrix.')\n",
      "C:\\Users\\vishw\\anaconda3\\envs\\gpu\\lib\\site-packages\\sklearn\\utils\\validation.py:72: DataConversionWarning: A column-vector y was passed when a 1d array was expected. Please change the shape of y to (n_samples, ), for example using ravel().\n",
      "  return f(**kwargs)\n",
      "C:\\Users\\vishw\\anaconda3\\envs\\gpu\\lib\\site-packages\\lightgbm\\basic.py:497: UserWarning: Converting data to scipy sparse matrix.\n",
      "  warnings.warn('Converting data to scipy sparse matrix.')\n",
      "C:\\Users\\vishw\\anaconda3\\envs\\gpu\\lib\\site-packages\\sklearn\\utils\\validation.py:72: DataConversionWarning: A column-vector y was passed when a 1d array was expected. Please change the shape of y to (n_samples, ), for example using ravel().\n",
      "  return f(**kwargs)\n",
      "C:\\Users\\vishw\\anaconda3\\envs\\gpu\\lib\\site-packages\\lightgbm\\basic.py:497: UserWarning: Converting data to scipy sparse matrix.\n",
      "  warnings.warn('Converting data to scipy sparse matrix.')\n",
      "C:\\Users\\vishw\\anaconda3\\envs\\gpu\\lib\\site-packages\\sklearn\\utils\\validation.py:72: DataConversionWarning: A column-vector y was passed when a 1d array was expected. Please change the shape of y to (n_samples, ), for example using ravel().\n",
      "  return f(**kwargs)\n",
      "C:\\Users\\vishw\\anaconda3\\envs\\gpu\\lib\\site-packages\\lightgbm\\basic.py:497: UserWarning: Converting data to scipy sparse matrix.\n",
      "  warnings.warn('Converting data to scipy sparse matrix.')\n",
      "C:\\Users\\vishw\\anaconda3\\envs\\gpu\\lib\\site-packages\\sklearn\\utils\\validation.py:72: DataConversionWarning: A column-vector y was passed when a 1d array was expected. Please change the shape of y to (n_samples, ), for example using ravel().\n",
      "  return f(**kwargs)\n",
      "C:\\Users\\vishw\\anaconda3\\envs\\gpu\\lib\\site-packages\\lightgbm\\basic.py:497: UserWarning: Converting data to scipy sparse matrix.\n",
      "  warnings.warn('Converting data to scipy sparse matrix.')\n",
      "C:\\Users\\vishw\\anaconda3\\envs\\gpu\\lib\\site-packages\\sklearn\\utils\\validation.py:72: DataConversionWarning: A column-vector y was passed when a 1d array was expected. Please change the shape of y to (n_samples, ), for example using ravel().\n",
      "  return f(**kwargs)\n",
      "C:\\Users\\vishw\\anaconda3\\envs\\gpu\\lib\\site-packages\\lightgbm\\basic.py:497: UserWarning: Converting data to scipy sparse matrix.\n",
      "  warnings.warn('Converting data to scipy sparse matrix.')\n",
      "C:\\Users\\vishw\\anaconda3\\envs\\gpu\\lib\\site-packages\\sklearn\\utils\\validation.py:72: DataConversionWarning: A column-vector y was passed when a 1d array was expected. Please change the shape of y to (n_samples, ), for example using ravel().\n",
      "  return f(**kwargs)\n",
      "C:\\Users\\vishw\\anaconda3\\envs\\gpu\\lib\\site-packages\\lightgbm\\basic.py:497: UserWarning: Converting data to scipy sparse matrix.\n",
      "  warnings.warn('Converting data to scipy sparse matrix.')\n"
     ]
    }
   ],
   "source": [
    "final_mse_s1=hyperparameter_results_s(train_OHE,test_OHE)"
   ]
  },
  {
   "cell_type": "code",
   "execution_count": 96,
   "metadata": {},
   "outputs": [
    {
     "data": {
      "text/html": [
       "<div>\n",
       "<style scoped>\n",
       "    .dataframe tbody tr th:only-of-type {\n",
       "        vertical-align: middle;\n",
       "    }\n",
       "\n",
       "    .dataframe tbody tr th {\n",
       "        vertical-align: top;\n",
       "    }\n",
       "\n",
       "    .dataframe thead th {\n",
       "        text-align: right;\n",
       "    }\n",
       "</style>\n",
       "<table border=\"1\" class=\"dataframe\">\n",
       "  <thead>\n",
       "    <tr style=\"text-align: right;\">\n",
       "      <th></th>\n",
       "      <th>meta model</th>\n",
       "      <th>base_models</th>\n",
       "      <th>mse</th>\n",
       "    </tr>\n",
       "  </thead>\n",
       "  <tbody>\n",
       "    <tr>\n",
       "      <th>8</th>\n",
       "      <td>meta_model_ridge</td>\n",
       "      <td>sgd_lgbm_ridge_lasso</td>\n",
       "      <td>982.167888</td>\n",
       "    </tr>\n",
       "    <tr>\n",
       "      <th>7</th>\n",
       "      <td>meta_model_ridge</td>\n",
       "      <td>sgd_lgbm_ridge</td>\n",
       "      <td>991.684755</td>\n",
       "    </tr>\n",
       "    <tr>\n",
       "      <th>6</th>\n",
       "      <td>meta_model_ridge</td>\n",
       "      <td>sgd_lgbm</td>\n",
       "      <td>1017.579778</td>\n",
       "    </tr>\n",
       "    <tr>\n",
       "      <th>5</th>\n",
       "      <td>meta_model_lgbm</td>\n",
       "      <td>sgd_lgbm_ridge_lasso</td>\n",
       "      <td>1031.217792</td>\n",
       "    </tr>\n",
       "    <tr>\n",
       "      <th>4</th>\n",
       "      <td>meta_model_lgbm</td>\n",
       "      <td>sgd_lgbm_ridge</td>\n",
       "      <td>1032.221621</td>\n",
       "    </tr>\n",
       "    <tr>\n",
       "      <th>3</th>\n",
       "      <td>meta_model_lgbm</td>\n",
       "      <td>sgd_lgbm</td>\n",
       "      <td>1081.331105</td>\n",
       "    </tr>\n",
       "    <tr>\n",
       "      <th>11</th>\n",
       "      <td>meta_model_lasso</td>\n",
       "      <td>sgd_lgbm_ridge_lasso</td>\n",
       "      <td>1230.293398</td>\n",
       "    </tr>\n",
       "    <tr>\n",
       "      <th>10</th>\n",
       "      <td>meta_model_lasso</td>\n",
       "      <td>sgd_lgbm_ridge</td>\n",
       "      <td>1230.293576</td>\n",
       "    </tr>\n",
       "    <tr>\n",
       "      <th>9</th>\n",
       "      <td>meta_model_lasso</td>\n",
       "      <td>sgd_lgbm</td>\n",
       "      <td>1260.594229</td>\n",
       "    </tr>\n",
       "    <tr>\n",
       "      <th>2</th>\n",
       "      <td>meta_model_sgd</td>\n",
       "      <td>sgd_lgbm_ridge_lasso</td>\n",
       "      <td>1356.640974</td>\n",
       "    </tr>\n",
       "    <tr>\n",
       "      <th>1</th>\n",
       "      <td>meta_model_sgd</td>\n",
       "      <td>sgd_lgbm_ridge</td>\n",
       "      <td>1370.753350</td>\n",
       "    </tr>\n",
       "    <tr>\n",
       "      <th>0</th>\n",
       "      <td>meta_model_sgd</td>\n",
       "      <td>sgd_lgbm</td>\n",
       "      <td>1545.530602</td>\n",
       "    </tr>\n",
       "  </tbody>\n",
       "</table>\n",
       "</div>"
      ],
      "text/plain": [
       "          meta model           base_models          mse\n",
       "8   meta_model_ridge  sgd_lgbm_ridge_lasso   982.167888\n",
       "7   meta_model_ridge        sgd_lgbm_ridge   991.684755\n",
       "6   meta_model_ridge              sgd_lgbm  1017.579778\n",
       "5    meta_model_lgbm  sgd_lgbm_ridge_lasso  1031.217792\n",
       "4    meta_model_lgbm        sgd_lgbm_ridge  1032.221621\n",
       "3    meta_model_lgbm              sgd_lgbm  1081.331105\n",
       "11  meta_model_lasso  sgd_lgbm_ridge_lasso  1230.293398\n",
       "10  meta_model_lasso        sgd_lgbm_ridge  1230.293576\n",
       "9   meta_model_lasso              sgd_lgbm  1260.594229\n",
       "2     meta_model_sgd  sgd_lgbm_ridge_lasso  1356.640974\n",
       "1     meta_model_sgd        sgd_lgbm_ridge  1370.753350\n",
       "0     meta_model_sgd              sgd_lgbm  1545.530602"
      ]
     },
     "execution_count": 96,
     "metadata": {},
     "output_type": "execute_result"
    }
   ],
   "source": [
    "final_mse_s1.sort_values(by='mse')"
   ]
  },
  {
   "cell_type": "code",
   "execution_count": 99,
   "metadata": {},
   "outputs": [
    {
     "name": "stderr",
     "output_type": "stream",
     "text": [
      "C:\\Users\\vishw\\anaconda3\\envs\\gpu\\lib\\site-packages\\lightgbm\\basic.py:497: UserWarning: Converting data to scipy sparse matrix.\n",
      "  warnings.warn('Converting data to scipy sparse matrix.')\n",
      "C:\\Users\\vishw\\anaconda3\\envs\\gpu\\lib\\site-packages\\lightgbm\\basic.py:497: UserWarning: Converting data to scipy sparse matrix.\n",
      "  warnings.warn('Converting data to scipy sparse matrix.')\n",
      "C:\\Users\\vishw\\anaconda3\\envs\\gpu\\lib\\site-packages\\lightgbm\\basic.py:497: UserWarning: Converting data to scipy sparse matrix.\n",
      "  warnings.warn('Converting data to scipy sparse matrix.')\n",
      "C:\\Users\\vishw\\anaconda3\\envs\\gpu\\lib\\site-packages\\lightgbm\\basic.py:497: UserWarning: Converting data to scipy sparse matrix.\n",
      "  warnings.warn('Converting data to scipy sparse matrix.')\n",
      "C:\\Users\\vishw\\anaconda3\\envs\\gpu\\lib\\site-packages\\lightgbm\\basic.py:497: UserWarning: Converting data to scipy sparse matrix.\n",
      "  warnings.warn('Converting data to scipy sparse matrix.')\n",
      "C:\\Users\\vishw\\anaconda3\\envs\\gpu\\lib\\site-packages\\lightgbm\\basic.py:497: UserWarning: Converting data to scipy sparse matrix.\n",
      "  warnings.warn('Converting data to scipy sparse matrix.')\n",
      "C:\\Users\\vishw\\anaconda3\\envs\\gpu\\lib\\site-packages\\lightgbm\\basic.py:497: UserWarning: Converting data to scipy sparse matrix.\n",
      "  warnings.warn('Converting data to scipy sparse matrix.')\n",
      "C:\\Users\\vishw\\anaconda3\\envs\\gpu\\lib\\site-packages\\lightgbm\\basic.py:497: UserWarning: Converting data to scipy sparse matrix.\n",
      "  warnings.warn('Converting data to scipy sparse matrix.')\n",
      "C:\\Users\\vishw\\anaconda3\\envs\\gpu\\lib\\site-packages\\lightgbm\\basic.py:497: UserWarning: Converting data to scipy sparse matrix.\n",
      "  warnings.warn('Converting data to scipy sparse matrix.')\n",
      "C:\\Users\\vishw\\anaconda3\\envs\\gpu\\lib\\site-packages\\lightgbm\\basic.py:497: UserWarning: Converting data to scipy sparse matrix.\n",
      "  warnings.warn('Converting data to scipy sparse matrix.')\n",
      "C:\\Users\\vishw\\anaconda3\\envs\\gpu\\lib\\site-packages\\lightgbm\\basic.py:497: UserWarning: Converting data to scipy sparse matrix.\n",
      "  warnings.warn('Converting data to scipy sparse matrix.')\n",
      "C:\\Users\\vishw\\anaconda3\\envs\\gpu\\lib\\site-packages\\lightgbm\\basic.py:497: UserWarning: Converting data to scipy sparse matrix.\n",
      "  warnings.warn('Converting data to scipy sparse matrix.')\n"
     ]
    }
   ],
   "source": [
    "final_mse_s2=hyperparameter_results_s(train_tfidf,test_tfidf)"
   ]
  },
  {
   "cell_type": "code",
   "execution_count": 100,
   "metadata": {},
   "outputs": [
    {
     "data": {
      "text/html": [
       "<div>\n",
       "<style scoped>\n",
       "    .dataframe tbody tr th:only-of-type {\n",
       "        vertical-align: middle;\n",
       "    }\n",
       "\n",
       "    .dataframe tbody tr th {\n",
       "        vertical-align: top;\n",
       "    }\n",
       "\n",
       "    .dataframe thead th {\n",
       "        text-align: right;\n",
       "    }\n",
       "</style>\n",
       "<table border=\"1\" class=\"dataframe\">\n",
       "  <thead>\n",
       "    <tr style=\"text-align: right;\">\n",
       "      <th></th>\n",
       "      <th>meta model</th>\n",
       "      <th>base_models</th>\n",
       "      <th>mse</th>\n",
       "    </tr>\n",
       "  </thead>\n",
       "  <tbody>\n",
       "    <tr>\n",
       "      <th>8</th>\n",
       "      <td>meta_model_ridge</td>\n",
       "      <td>sgd_lgbm_ridge_lasso</td>\n",
       "      <td>1009.737740</td>\n",
       "    </tr>\n",
       "    <tr>\n",
       "      <th>7</th>\n",
       "      <td>meta_model_ridge</td>\n",
       "      <td>sgd_lgbm_ridge</td>\n",
       "      <td>1014.096671</td>\n",
       "    </tr>\n",
       "    <tr>\n",
       "      <th>5</th>\n",
       "      <td>meta_model_lgbm</td>\n",
       "      <td>sgd_lgbm_ridge_lasso</td>\n",
       "      <td>1035.535310</td>\n",
       "    </tr>\n",
       "    <tr>\n",
       "      <th>6</th>\n",
       "      <td>meta_model_ridge</td>\n",
       "      <td>sgd_lgbm</td>\n",
       "      <td>1042.549608</td>\n",
       "    </tr>\n",
       "    <tr>\n",
       "      <th>4</th>\n",
       "      <td>meta_model_lgbm</td>\n",
       "      <td>sgd_lgbm_ridge</td>\n",
       "      <td>1047.268042</td>\n",
       "    </tr>\n",
       "    <tr>\n",
       "      <th>3</th>\n",
       "      <td>meta_model_lgbm</td>\n",
       "      <td>sgd_lgbm</td>\n",
       "      <td>1094.110922</td>\n",
       "    </tr>\n",
       "    <tr>\n",
       "      <th>10</th>\n",
       "      <td>meta_model_lasso</td>\n",
       "      <td>sgd_lgbm_ridge</td>\n",
       "      <td>1262.329209</td>\n",
       "    </tr>\n",
       "    <tr>\n",
       "      <th>11</th>\n",
       "      <td>meta_model_lasso</td>\n",
       "      <td>sgd_lgbm_ridge_lasso</td>\n",
       "      <td>1262.329313</td>\n",
       "    </tr>\n",
       "    <tr>\n",
       "      <th>9</th>\n",
       "      <td>meta_model_lasso</td>\n",
       "      <td>sgd_lgbm</td>\n",
       "      <td>1284.344676</td>\n",
       "    </tr>\n",
       "    <tr>\n",
       "      <th>2</th>\n",
       "      <td>meta_model_sgd</td>\n",
       "      <td>sgd_lgbm_ridge_lasso</td>\n",
       "      <td>1414.059330</td>\n",
       "    </tr>\n",
       "    <tr>\n",
       "      <th>1</th>\n",
       "      <td>meta_model_sgd</td>\n",
       "      <td>sgd_lgbm_ridge</td>\n",
       "      <td>1424.207905</td>\n",
       "    </tr>\n",
       "    <tr>\n",
       "      <th>0</th>\n",
       "      <td>meta_model_sgd</td>\n",
       "      <td>sgd_lgbm</td>\n",
       "      <td>1592.403311</td>\n",
       "    </tr>\n",
       "  </tbody>\n",
       "</table>\n",
       "</div>"
      ],
      "text/plain": [
       "          meta model           base_models          mse\n",
       "8   meta_model_ridge  sgd_lgbm_ridge_lasso  1009.737740\n",
       "7   meta_model_ridge        sgd_lgbm_ridge  1014.096671\n",
       "5    meta_model_lgbm  sgd_lgbm_ridge_lasso  1035.535310\n",
       "6   meta_model_ridge              sgd_lgbm  1042.549608\n",
       "4    meta_model_lgbm        sgd_lgbm_ridge  1047.268042\n",
       "3    meta_model_lgbm              sgd_lgbm  1094.110922\n",
       "10  meta_model_lasso        sgd_lgbm_ridge  1262.329209\n",
       "11  meta_model_lasso  sgd_lgbm_ridge_lasso  1262.329313\n",
       "9   meta_model_lasso              sgd_lgbm  1284.344676\n",
       "2     meta_model_sgd  sgd_lgbm_ridge_lasso  1414.059330\n",
       "1     meta_model_sgd        sgd_lgbm_ridge  1424.207905\n",
       "0     meta_model_sgd              sgd_lgbm  1592.403311"
      ]
     },
     "execution_count": 100,
     "metadata": {},
     "output_type": "execute_result"
    }
   ],
   "source": [
    "final_mse_s2.sort_values(by='mse')"
   ]
  },
  {
   "cell_type": "code",
   "execution_count": 101,
   "metadata": {},
   "outputs": [
    {
     "name": "stderr",
     "output_type": "stream",
     "text": [
      "C:\\Users\\vishw\\anaconda3\\envs\\gpu\\lib\\site-packages\\lightgbm\\basic.py:497: UserWarning: Converting data to scipy sparse matrix.\n",
      "  warnings.warn('Converting data to scipy sparse matrix.')\n",
      "C:\\Users\\vishw\\anaconda3\\envs\\gpu\\lib\\site-packages\\lightgbm\\basic.py:497: UserWarning: Converting data to scipy sparse matrix.\n",
      "  warnings.warn('Converting data to scipy sparse matrix.')\n",
      "C:\\Users\\vishw\\anaconda3\\envs\\gpu\\lib\\site-packages\\lightgbm\\basic.py:497: UserWarning: Converting data to scipy sparse matrix.\n",
      "  warnings.warn('Converting data to scipy sparse matrix.')\n",
      "C:\\Users\\vishw\\anaconda3\\envs\\gpu\\lib\\site-packages\\lightgbm\\basic.py:497: UserWarning: Converting data to scipy sparse matrix.\n",
      "  warnings.warn('Converting data to scipy sparse matrix.')\n",
      "C:\\Users\\vishw\\anaconda3\\envs\\gpu\\lib\\site-packages\\lightgbm\\basic.py:497: UserWarning: Converting data to scipy sparse matrix.\n",
      "  warnings.warn('Converting data to scipy sparse matrix.')\n",
      "C:\\Users\\vishw\\anaconda3\\envs\\gpu\\lib\\site-packages\\lightgbm\\basic.py:497: UserWarning: Converting data to scipy sparse matrix.\n",
      "  warnings.warn('Converting data to scipy sparse matrix.')\n",
      "C:\\Users\\vishw\\anaconda3\\envs\\gpu\\lib\\site-packages\\lightgbm\\basic.py:497: UserWarning: Converting data to scipy sparse matrix.\n",
      "  warnings.warn('Converting data to scipy sparse matrix.')\n",
      "C:\\Users\\vishw\\anaconda3\\envs\\gpu\\lib\\site-packages\\lightgbm\\basic.py:497: UserWarning: Converting data to scipy sparse matrix.\n",
      "  warnings.warn('Converting data to scipy sparse matrix.')\n",
      "C:\\Users\\vishw\\anaconda3\\envs\\gpu\\lib\\site-packages\\lightgbm\\basic.py:497: UserWarning: Converting data to scipy sparse matrix.\n",
      "  warnings.warn('Converting data to scipy sparse matrix.')\n",
      "C:\\Users\\vishw\\anaconda3\\envs\\gpu\\lib\\site-packages\\lightgbm\\basic.py:497: UserWarning: Converting data to scipy sparse matrix.\n",
      "  warnings.warn('Converting data to scipy sparse matrix.')\n",
      "C:\\Users\\vishw\\anaconda3\\envs\\gpu\\lib\\site-packages\\lightgbm\\basic.py:497: UserWarning: Converting data to scipy sparse matrix.\n",
      "  warnings.warn('Converting data to scipy sparse matrix.')\n",
      "C:\\Users\\vishw\\anaconda3\\envs\\gpu\\lib\\site-packages\\lightgbm\\basic.py:497: UserWarning: Converting data to scipy sparse matrix.\n",
      "  warnings.warn('Converting data to scipy sparse matrix.')\n"
     ]
    }
   ],
   "source": [
    "final_mse_s3=hyperparameter_results_s(train_w2v,test_w2v)"
   ]
  },
  {
   "cell_type": "code",
   "execution_count": 102,
   "metadata": {},
   "outputs": [
    {
     "data": {
      "text/html": [
       "<div>\n",
       "<style scoped>\n",
       "    .dataframe tbody tr th:only-of-type {\n",
       "        vertical-align: middle;\n",
       "    }\n",
       "\n",
       "    .dataframe tbody tr th {\n",
       "        vertical-align: top;\n",
       "    }\n",
       "\n",
       "    .dataframe thead th {\n",
       "        text-align: right;\n",
       "    }\n",
       "</style>\n",
       "<table border=\"1\" class=\"dataframe\">\n",
       "  <thead>\n",
       "    <tr style=\"text-align: right;\">\n",
       "      <th></th>\n",
       "      <th>meta model</th>\n",
       "      <th>base_models</th>\n",
       "      <th>mse</th>\n",
       "    </tr>\n",
       "  </thead>\n",
       "  <tbody>\n",
       "    <tr>\n",
       "      <th>8</th>\n",
       "      <td>meta_model_ridge</td>\n",
       "      <td>sgd_lgbm_ridge_lasso</td>\n",
       "      <td>1082.029624</td>\n",
       "    </tr>\n",
       "    <tr>\n",
       "      <th>7</th>\n",
       "      <td>meta_model_ridge</td>\n",
       "      <td>sgd_lgbm_ridge</td>\n",
       "      <td>1089.554972</td>\n",
       "    </tr>\n",
       "    <tr>\n",
       "      <th>5</th>\n",
       "      <td>meta_model_lgbm</td>\n",
       "      <td>sgd_lgbm_ridge_lasso</td>\n",
       "      <td>1103.197762</td>\n",
       "    </tr>\n",
       "    <tr>\n",
       "      <th>6</th>\n",
       "      <td>meta_model_ridge</td>\n",
       "      <td>sgd_lgbm</td>\n",
       "      <td>1104.662538</td>\n",
       "    </tr>\n",
       "    <tr>\n",
       "      <th>4</th>\n",
       "      <td>meta_model_lgbm</td>\n",
       "      <td>sgd_lgbm_ridge</td>\n",
       "      <td>1118.008932</td>\n",
       "    </tr>\n",
       "    <tr>\n",
       "      <th>3</th>\n",
       "      <td>meta_model_lgbm</td>\n",
       "      <td>sgd_lgbm</td>\n",
       "      <td>1149.030540</td>\n",
       "    </tr>\n",
       "    <tr>\n",
       "      <th>10</th>\n",
       "      <td>meta_model_lasso</td>\n",
       "      <td>sgd_lgbm_ridge</td>\n",
       "      <td>1364.209749</td>\n",
       "    </tr>\n",
       "    <tr>\n",
       "      <th>11</th>\n",
       "      <td>meta_model_lasso</td>\n",
       "      <td>sgd_lgbm_ridge_lasso</td>\n",
       "      <td>1364.209749</td>\n",
       "    </tr>\n",
       "    <tr>\n",
       "      <th>9</th>\n",
       "      <td>meta_model_lasso</td>\n",
       "      <td>sgd_lgbm</td>\n",
       "      <td>1364.258924</td>\n",
       "    </tr>\n",
       "    <tr>\n",
       "      <th>2</th>\n",
       "      <td>meta_model_sgd</td>\n",
       "      <td>sgd_lgbm_ridge_lasso</td>\n",
       "      <td>1522.011256</td>\n",
       "    </tr>\n",
       "    <tr>\n",
       "      <th>1</th>\n",
       "      <td>meta_model_sgd</td>\n",
       "      <td>sgd_lgbm_ridge</td>\n",
       "      <td>1535.837001</td>\n",
       "    </tr>\n",
       "    <tr>\n",
       "      <th>0</th>\n",
       "      <td>meta_model_sgd</td>\n",
       "      <td>sgd_lgbm</td>\n",
       "      <td>1661.442997</td>\n",
       "    </tr>\n",
       "  </tbody>\n",
       "</table>\n",
       "</div>"
      ],
      "text/plain": [
       "          meta model           base_models          mse\n",
       "8   meta_model_ridge  sgd_lgbm_ridge_lasso  1082.029624\n",
       "7   meta_model_ridge        sgd_lgbm_ridge  1089.554972\n",
       "5    meta_model_lgbm  sgd_lgbm_ridge_lasso  1103.197762\n",
       "6   meta_model_ridge              sgd_lgbm  1104.662538\n",
       "4    meta_model_lgbm        sgd_lgbm_ridge  1118.008932\n",
       "3    meta_model_lgbm              sgd_lgbm  1149.030540\n",
       "10  meta_model_lasso        sgd_lgbm_ridge  1364.209749\n",
       "11  meta_model_lasso  sgd_lgbm_ridge_lasso  1364.209749\n",
       "9   meta_model_lasso              sgd_lgbm  1364.258924\n",
       "2     meta_model_sgd  sgd_lgbm_ridge_lasso  1522.011256\n",
       "1     meta_model_sgd        sgd_lgbm_ridge  1535.837001\n",
       "0     meta_model_sgd              sgd_lgbm  1661.442997"
      ]
     },
     "execution_count": 102,
     "metadata": {},
     "output_type": "execute_result"
    }
   ],
   "source": [
    "final_mse_s3.sort_values(by='mse')"
   ]
  },
  {
   "cell_type": "code",
   "execution_count": null,
   "metadata": {},
   "outputs": [],
   "source": []
  },
  {
   "cell_type": "markdown",
   "metadata": {},
   "source": [
    "# deep learning models"
   ]
  },
  {
   "cell_type": "code",
   "execution_count": 39,
   "metadata": {},
   "outputs": [],
   "source": [
    "\n",
    "class Dataset:\n",
    "    def __init__(self, train_d,y_train):\n",
    "        self.train_d=train_d\n",
    "        self.y_tr=np.array(y_train)\n",
    "        \n",
    "\n",
    "\n",
    "    def __getitem__(self, i):\n",
    "        \n",
    "        return self.train_d[i].toarray(),self.y_tr[i]\n",
    "\n",
    "    def __len__(self): # your model.fit_gen requires this function\n",
    "        return len(self.encoder_inps)\n",
    "\n",
    "    \n",
    "class Dataloder(tf.keras.utils.Sequence):    \n",
    "    def __init__(self, dataset, batch_size):\n",
    "        \n",
    "        self.dataset = dataset\n",
    "        self.batch_size = batch_size\n",
    "        self.indexes = np.arange(self.dataset.train_d.shape[0])\n",
    "        \n",
    "\n",
    "\n",
    "    def __getitem__(self, i):\n",
    "        \n",
    "        start = i * self.batch_size\n",
    "        stop = (i + 1) * self.batch_size\n",
    "        data = []\n",
    "        for j in range(start, stop):\n",
    "            \n",
    "            data.append(self.dataset[j])\n",
    "        \n",
    "        batch = [np.squeeze(np.stack(samples, axis=0)) for samples in zip(*data)]\n",
    "        \n",
    "        # we are creating data like ([italian, english_out]) these are already converted into seq\n",
    "        return tuple([batch[0],batch[1]])\n",
    "\n",
    "    def __len__(self):  # your model.fit_gen requires this function\n",
    "        return len(self.indexes) // self.batch_size\n",
    "\n",
    "    def on_epoch_end(self):\n",
    "        self.indexes = np.random.permutation(self.indexes)\n",
    "\n"
   ]
  },
  {
   "cell_type": "code",
   "execution_count": 40,
   "metadata": {},
   "outputs": [],
   "source": [
    "train_w2v1=train_w2v.asformat(format='csr')\n",
    "test_w2v1=test_w2v.asformat(format='csr')"
   ]
  },
  {
   "cell_type": "code",
   "execution_count": 41,
   "metadata": {},
   "outputs": [],
   "source": [
    "train_dataset = Dataset(train_w2v1,y_train)\n",
    "\n",
    "train_dataloader = Dataloder(train_dataset, batch_size=32)"
   ]
  },
  {
   "cell_type": "code",
   "execution_count": 42,
   "metadata": {},
   "outputs": [],
   "source": [
    "test_dataset = Dataset(test_w2v1,y_test)\n",
    "\n",
    "test_dataloader = Dataloder(test_dataset, batch_size=32)"
   ]
  },
  {
   "cell_type": "code",
   "execution_count": 43,
   "metadata": {},
   "outputs": [
    {
     "data": {
      "text/plain": [
       "(566423, 5266)"
      ]
     },
     "execution_count": 43,
     "metadata": {},
     "output_type": "execute_result"
    }
   ],
   "source": [
    "train_w2v1.shape"
   ]
  },
  {
   "cell_type": "code",
   "execution_count": 46,
   "metadata": {},
   "outputs": [
    {
     "name": "stdout",
     "output_type": "stream",
     "text": [
      "Epoch 1/20\n",
      "17700/17700 [==============================] - 232s 13ms/step - loss: 1186.3320 - val_loss: 1104.2594\n",
      "Epoch 2/20\n",
      "17700/17700 [==============================] - 234s 13ms/step - loss: 1040.3506 - val_loss: 1075.8232\n",
      "Epoch 3/20\n",
      "17700/17700 [==============================] - 238s 13ms/step - loss: 987.7437 - val_loss: 1062.6633\n",
      "Epoch 4/20\n",
      "17700/17700 [==============================] - 236s 13ms/step - loss: 947.9120 - val_loss: 1011.8458\n",
      "Epoch 5/20\n",
      "17700/17700 [==============================] - 234s 13ms/step - loss: 916.3477 - val_loss: 1070.7838\n",
      "Epoch 6/20\n",
      "17700/17700 [==============================] - 236s 13ms/step - loss: 880.0618 - val_loss: 1036.2427\n",
      "Epoch 7/20\n",
      "17700/17700 [==============================] - 236s 13ms/step - loss: 857.5319 - val_loss: 1046.3052\n",
      "Epoch 00007: early stopping\n"
     ]
    },
    {
     "data": {
      "text/plain": [
       "<tensorflow.python.keras.callbacks.History at 0x1e8de34b7c8>"
      ]
     },
     "execution_count": 46,
     "metadata": {},
     "output_type": "execute_result"
    }
   ],
   "source": [
    "# train_OHE1[0].toarray().shape\n",
    "\n",
    "input_1=Input(shape=(5266,))\n",
    "dense1=Dense(64,activation='relu',kernel_regularizer=l2(0.001))(input_1)\n",
    "# dropout1=Dropout(.5)(dense1)\n",
    "dense2=Dense(32,activation='relu',kernel_regularizer=l2(0.001))(dense1)\n",
    "# dropout2=Dropout(.5)(dense2)\n",
    "dense3=Dense(64,activation='relu',kernel_regularizer=l2(0.001))(dense2)\n",
    "output=Dense(1,activation=None)(dense3)\n",
    "\n",
    "model=tf.keras.Model(inputs=input_1,outputs=output)\n",
    "\n",
    "early_stop = EarlyStopping(monitor='val_loss', mode='min', verbose=1, patience=3)\n",
    "model_cp = ModelCheckpoint('best_model_deep1.h5', monitor='val_loss', mode='min', save_best_only=True)\n",
    "\n",
    "model.compile(optimizer='Adam',loss='mse')\n",
    "model.fit(train_dataloader,epochs=20,validation_data=test_dataloader,callbacks=[early_stop,model_cp])"
   ]
  },
  {
   "cell_type": "code",
   "execution_count": null,
   "metadata": {},
   "outputs": [],
   "source": [
    "# https://drive.google.com/file/d/184QqxpEe018y9Rrm8p4X4mtnNHZjjXKe/view?usp=sharing\n",
    "    \n",
    "#     https://drive.google.com/uc?export=download&id=184QqxpEe018y9Rrm8p4X4mtnNHZjjXKe\n",
    "        \n",
    "#         https://drive.google.com/file/d/184QqxpEe018y9Rrm8p4X4mtnNHZjjXKe/view?usp=sharing"
   ]
  },
  {
   "cell_type": "code",
   "execution_count": null,
   "metadata": {},
   "outputs": [],
   "source": [
    "test_OHE1.shape[0]/32"
   ]
  },
  {
   "cell_type": "code",
   "execution_count": null,
   "metadata": {},
   "outputs": [],
   "source": [
    "\n",
    "\n",
    "y_pred=[]\n",
    "for i in range(int(test_OHE1.shape[0]/32)):\n",
    "    da=test_dataloader[i]\n",
    "    #print(da[0])\n",
    "    pred=model.predict(da)\n",
    "    #print(list(pred.reshape(1,32)[0]))\n",
    "    y_pred.extend(list(pred.reshape(1,32)[0]))\n",
    "\n",
    "len(y_pred)\n",
    "\n",
    "y_test_d=y_test[0:len(y_pred)]\n",
    "\n"
   ]
  },
  {
   "cell_type": "code",
   "execution_count": null,
   "metadata": {},
   "outputs": [],
   "source": [
    "mean_squared_log_error(y_test_d,y_pred)"
   ]
  },
  {
   "cell_type": "code",
   "execution_count": null,
   "metadata": {},
   "outputs": [],
   "source": []
  },
  {
   "cell_type": "markdown",
   "metadata": {},
   "source": [
    "# with embedding layer"
   ]
  },
  {
   "cell_type": "code",
   "execution_count": 5,
   "metadata": {},
   "outputs": [],
   "source": [
    "from tensorflow.keras.preprocessing.text import Tokenizer\n",
    "from tensorflow.keras.preprocessing.sequence import pad_sequences"
   ]
  },
  {
   "cell_type": "markdown",
   "metadata": {},
   "source": [
    "## removing less occuring word in name column"
   ]
  },
  {
   "cell_type": "code",
   "execution_count": 86,
   "metadata": {},
   "outputs": [],
   "source": [
    "t=Tokenizer()\n",
    "t.fit_on_texts(X_train['name'].values)"
   ]
  },
  {
   "cell_type": "code",
   "execution_count": 87,
   "metadata": {},
   "outputs": [],
   "source": [
    "def removing_less_frequency_word(column_name,minimum_words,word_count_dict):\n",
    "    removed_values=[]\n",
    "    for i in X_train[column_name].values:\n",
    "        sen=[]\n",
    "        for word in i.split():\n",
    "            if word_count_dict[word]>=minimum_words:\n",
    "                sen.append(word)\n",
    "        removed_values.append(' '.join(sen))\n",
    "    return removed_values    "
   ]
  },
  {
   "cell_type": "code",
   "execution_count": 88,
   "metadata": {},
   "outputs": [],
   "source": [
    "X_train['name1']=removing_less_frequency_word('name',10,t.word_counts)"
   ]
  },
  {
   "cell_type": "markdown",
   "metadata": {},
   "source": [
    "## encoding and padding with tokenizer and pad_sequences name"
   ]
  },
  {
   "cell_type": "code",
   "execution_count": 93,
   "metadata": {},
   "outputs": [
    {
     "name": "stderr",
     "output_type": "stream",
     "text": [
      "C:\\Users\\vishw\\anaconda3\\envs\\gpu\\lib\\site-packages\\seaborn\\distributions.py:2551: FutureWarning: `distplot` is a deprecated function and will be removed in a future version. Please adapt your code to use either `displot` (a figure-level function with similar flexibility) or `kdeplot` (an axes-level function for kernel density plots).\n",
      "  warnings.warn(msg, FutureWarning)\n"
     ]
    },
    {
     "data": {
      "text/plain": [
       "<AxesSubplot:ylabel='Density'>"
      ]
     },
     "execution_count": 93,
     "metadata": {},
     "output_type": "execute_result"
    },
    {
     "data": {
      "image/png": "[encoded data removed]",
      "text/plain": [
       "<Figure size 432x288 with 1 Axes>"
      ]
     },
     "metadata": {
      "needs_background": "light"
     },
     "output_type": "display_data"
    }
   ],
   "source": [
    "name_len=X_train['name1'].apply(lambda x:len(x.split())).values\n",
    "sns.distplot(name_len,hist=False)"
   ]
  },
  {
   "cell_type": "code",
   "execution_count": null,
   "metadata": {},
   "outputs": [],
   "source": [
    "max_len_name=6"
   ]
  },
  {
   "cell_type": "code",
   "execution_count": 90,
   "metadata": {},
   "outputs": [],
   "source": [
    "t=Tokenizer()\n",
    "t.fit_on_texts(X_train['name1'].values)\n",
    "\n",
    "vocab_size_name=max(t.word_index.values())+1\n",
    "\n",
    "encoded_name_train = t.texts_to_sequences(X_train['name1'].values)\n",
    "encoded_name_test = t.texts_to_sequences(X_test['name'].values)\n",
    "\n",
    "padded_name_train=pad_sequences(encoded_name_train,maxlen=max_len_name,padding='post')\n",
    "padded_name_test=pad_sequences(encoded_name_test,maxlen=max_len_name,padding='post')"
   ]
  },
  {
   "cell_type": "code",
   "execution_count": 92,
   "metadata": {},
   "outputs": [
    {
     "data": {
      "text/plain": [
       "8245"
      ]
     },
     "execution_count": 92,
     "metadata": {},
     "output_type": "execute_result"
    }
   ],
   "source": [
    "vocab_size_name"
   ]
  },
  {
   "cell_type": "code",
   "execution_count": 91,
   "metadata": {},
   "outputs": [
    {
     "name": "stdout",
     "output_type": "stream",
     "text": [
      "435\n"
     ]
    }
   ],
   "source": [
    "a_num=0\n",
    "for i in t.word_counts.keys():\n",
    "    if t.word_counts[i]<=10:\n",
    "        a_num+=1\n",
    "print(a_num)"
   ]
  },
  {
   "cell_type": "markdown",
   "metadata": {},
   "source": [
    "## removing less occuring word from item_description column"
   ]
  },
  {
   "cell_type": "code",
   "execution_count": 96,
   "metadata": {},
   "outputs": [],
   "source": [
    "t=Tokenizer(filters='!\"#$%&()*+,-./:;<=>?@[\\\\]^`{|}~\\t\\n')\n",
    "t.fit_on_texts(X_train['item_description'].values)"
   ]
  },
  {
   "cell_type": "code",
   "execution_count": 97,
   "metadata": {},
   "outputs": [],
   "source": [
    "X_train['item_description1']=removing_less_frequency_word('item_description',10,t.word_counts)"
   ]
  },
  {
   "cell_type": "markdown",
   "metadata": {},
   "source": [
    "## tokenizing and padding item_description"
   ]
  },
  {
   "cell_type": "code",
   "execution_count": 98,
   "metadata": {},
   "outputs": [
    {
     "name": "stderr",
     "output_type": "stream",
     "text": [
      "C:\\Users\\vishw\\anaconda3\\envs\\gpu\\lib\\site-packages\\seaborn\\distributions.py:2551: FutureWarning: `distplot` is a deprecated function and will be removed in a future version. Please adapt your code to use either `displot` (a figure-level function with similar flexibility) or `kdeplot` (an axes-level function for kernel density plots).\n",
      "  warnings.warn(msg, FutureWarning)\n"
     ]
    },
    {
     "data": {
      "text/plain": [
       "<AxesSubplot:ylabel='Density'>"
      ]
     },
     "execution_count": 98,
     "metadata": {},
     "output_type": "execute_result"
    },
    {
     "data": {
      "image/png": "[encoded data removed]",
      "text/plain": [
       "<Figure size 432x288 with 1 Axes>"
      ]
     },
     "metadata": {
      "needs_background": "light"
     },
     "output_type": "display_data"
    }
   ],
   "source": [
    "name_len=X_train['item_description1'].apply(lambda x:len(x.split())).values\n",
    "sns.distplot(name_len,hist=False)"
   ]
  },
  {
   "cell_type": "code",
   "execution_count": 63,
   "metadata": {},
   "outputs": [],
   "source": [
    "max_len_item_desc=30"
   ]
  },
  {
   "cell_type": "code",
   "execution_count": 100,
   "metadata": {},
   "outputs": [],
   "source": [
    "t=Tokenizer()\n",
    "t.fit_on_texts(X_train['item_description1'].values)\n",
    "\n",
    "vocab_size_item_desc=max(t.word_index.values())+1\n",
    "\n",
    "encoded_item_description_train = t.texts_to_sequences(X_train['item_description1'].values)\n",
    "encoded_item_description_test = t.texts_to_sequences(X_test['item_description'].values)\n",
    "\n",
    "padded_item_description_train=pad_sequences(encoded_item_description_train,maxlen=max_len_item_desc,padding='post')\n",
    "padded_item_description_test=pad_sequences(encoded_item_description_test,maxlen=max_len_item_desc,padding='post')"
   ]
  },
  {
   "cell_type": "code",
   "execution_count": 101,
   "metadata": {},
   "outputs": [
    {
     "name": "stdout",
     "output_type": "stream",
     "text": [
      "702\n"
     ]
    }
   ],
   "source": [
    "a_num=0\n",
    "for i in t.word_counts.keys():\n",
    "    if t.word_counts[i]<=10:\n",
    "        a_num+=1\n",
    "print(a_num)"
   ]
  },
  {
   "cell_type": "code",
   "execution_count": 102,
   "metadata": {},
   "outputs": [
    {
     "data": {
      "text/plain": [
       "15084"
      ]
     },
     "execution_count": 102,
     "metadata": {},
     "output_type": "execute_result"
    }
   ],
   "source": [
    "vocab_size_item_desc"
   ]
  },
  {
   "cell_type": "markdown",
   "metadata": {},
   "source": [
    "## tokenizing brand_name"
   ]
  },
  {
   "cell_type": "code",
   "execution_count": 103,
   "metadata": {},
   "outputs": [],
   "source": [
    "t=Tokenizer(filters='',split='**',oov_token='unknown')\n",
    "t.fit_on_texts(X_train['brand_name'].values)\n",
    "\n",
    "vocab_size_br_name=max(t.word_index.values())+1\n",
    "\n",
    "encoded_br_name_train = t.texts_to_sequences(X_train['brand_name'].values)\n",
    "encoded_br_name_test = t.texts_to_sequences(X_test['brand_name'].values)"
   ]
  },
  {
   "cell_type": "code",
   "execution_count": 83,
   "metadata": {},
   "outputs": [
    {
     "data": {
      "text/plain": [
       "{1}"
      ]
     },
     "execution_count": 83,
     "metadata": {},
     "output_type": "execute_result"
    }
   ],
   "source": [
    "a=set()\n",
    "for i in encoded_br_name_test:\n",
    "    a.add(len(i))\n",
    "a    "
   ]
  },
  {
   "cell_type": "code",
   "execution_count": 104,
   "metadata": {},
   "outputs": [],
   "source": [
    "encoded_br_name_train = np.array(encoded_br_name_train)\n",
    "encoded_br_name_test = np.array(encoded_br_name_test)"
   ]
  },
  {
   "cell_type": "markdown",
   "metadata": {},
   "source": [
    "## tokenizing subcat1"
   ]
  },
  {
   "cell_type": "code",
   "execution_count": 105,
   "metadata": {},
   "outputs": [],
   "source": [
    "t=Tokenizer(filters='',split='**',oov_token='unknown')\n",
    "t.fit_on_texts(X_train['subcat1'].values)\n",
    "\n",
    "vocab_size_s1=max(t.word_index.values())+1\n",
    "\n",
    "encoded_s1_train = t.texts_to_sequences(X_train['subcat1'].values)\n",
    "encoded_s1_test = t.texts_to_sequences(X_test['subcat1'].values)"
   ]
  },
  {
   "cell_type": "code",
   "execution_count": 106,
   "metadata": {},
   "outputs": [],
   "source": [
    "encoded_s1_train = np.array(encoded_s1_train)\n",
    "encoded_s1_test = np.array(encoded_s1_test)"
   ]
  },
  {
   "cell_type": "markdown",
   "metadata": {},
   "source": [
    "## tokenizing subcat2"
   ]
  },
  {
   "cell_type": "code",
   "execution_count": 107,
   "metadata": {},
   "outputs": [],
   "source": [
    "t=Tokenizer(filters='',split='**',oov_token='unknown')\n",
    "t.fit_on_texts(X_train['subcat2'].values)\n",
    "\n",
    "vocab_size_s2=max(t.word_index.values())+1\n",
    "\n",
    "encoded_s2_train = t.texts_to_sequences(X_train['subcat2'].values)\n",
    "encoded_s2_test = t.texts_to_sequences(X_test['subcat2'].values)"
   ]
  },
  {
   "cell_type": "code",
   "execution_count": 108,
   "metadata": {},
   "outputs": [],
   "source": [
    "encoded_s2_train = np.array(encoded_s2_train)\n",
    "encoded_s2_test = np.array(encoded_s2_test)"
   ]
  },
  {
   "cell_type": "markdown",
   "metadata": {},
   "source": [
    "## tokenizing subcat3"
   ]
  },
  {
   "cell_type": "code",
   "execution_count": 109,
   "metadata": {},
   "outputs": [],
   "source": [
    "t=Tokenizer(filters='',split='**',oov_token='unknown')\n",
    "t.fit_on_texts(X_train['subcat3'].values)\n",
    "\n",
    "vocab_size_s3=max(t.word_index.values())+1\n",
    "\n",
    "encoded_s3_train = t.texts_to_sequences(X_train['subcat3'].values)\n",
    "encoded_s3_test = t.texts_to_sequences(X_test['subcat3'].values)"
   ]
  },
  {
   "cell_type": "code",
   "execution_count": 110,
   "metadata": {},
   "outputs": [],
   "source": [
    "encoded_s3_train = np.array(encoded_s3_train)\n",
    "encoded_s3_test = np.array(encoded_s3_test)"
   ]
  },
  {
   "cell_type": "markdown",
   "metadata": {},
   "source": [
    "## tokenizing subcat4"
   ]
  },
  {
   "cell_type": "code",
   "execution_count": 111,
   "metadata": {},
   "outputs": [],
   "source": [
    "t=Tokenizer(filters='',split='**',oov_token='unknown')\n",
    "t.fit_on_texts(X_train['subcat4'].values)\n",
    "\n",
    "vocab_size_s4=max(t.word_index.values())+1\n",
    "\n",
    "encoded_s4_train = t.texts_to_sequences(X_train['subcat4'].values)\n",
    "encoded_s4_test = t.texts_to_sequences(X_test['subcat4'].values)"
   ]
  },
  {
   "cell_type": "code",
   "execution_count": 112,
   "metadata": {},
   "outputs": [],
   "source": [
    "encoded_s4_train = np.array(encoded_s4_train)\n",
    "encoded_s4_test = np.array(encoded_s4_test)"
   ]
  },
  {
   "cell_type": "markdown",
   "metadata": {},
   "source": [
    "## tokenizing subcat5"
   ]
  },
  {
   "cell_type": "code",
   "execution_count": 113,
   "metadata": {},
   "outputs": [],
   "source": [
    "t=Tokenizer(filters='',split='**',oov_token='unknown')\n",
    "t.fit_on_texts(X_train['subcat5'].values)\n",
    "\n",
    "vocab_size_s5=max(t.word_index.values())+1\n",
    "\n",
    "encoded_s5_train = t.texts_to_sequences(X_train['subcat5'].values)\n",
    "encoded_s5_test = t.texts_to_sequences(X_test['subcat5'].values)"
   ]
  },
  {
   "cell_type": "code",
   "execution_count": 114,
   "metadata": {},
   "outputs": [],
   "source": [
    "encoded_s5_train = np.array(encoded_s5_train)\n",
    "encoded_s5_test = np.array(encoded_s5_test)"
   ]
  },
  {
   "cell_type": "markdown",
   "metadata": {},
   "source": [
    "## stacking numerical columns"
   ]
  },
  {
   "cell_type": "code",
   "execution_count": 115,
   "metadata": {
    "collapsed": true
   },
   "outputs": [
    {
     "ename": "NameError",
     "evalue": "name 'x_tr_category_name_len' is not defined",
     "output_type": "error",
     "traceback": [
      "\u001b[1;31m---------------------------------------------------------------------------\u001b[0m",
      "\u001b[1;31mNameError\u001b[0m                                 Traceback (most recent call last)",
      "\u001b[1;32m<ipython-input-115-fc5820b98379>\u001b[0m in \u001b[0;36m<module>\u001b[1;34m\u001b[0m\n\u001b[1;32m----> 1\u001b[1;33m \u001b[0mx_tr_inp_num\u001b[0m \u001b[1;33m=\u001b[0m \u001b[0msc\u001b[0m\u001b[1;33m.\u001b[0m\u001b[0msparse\u001b[0m\u001b[1;33m.\u001b[0m\u001b[0mhstack\u001b[0m\u001b[1;33m(\u001b[0m\u001b[1;33m(\u001b[0m\u001b[0msc\u001b[0m\u001b[1;33m.\u001b[0m\u001b[0msparse\u001b[0m\u001b[1;33m.\u001b[0m\u001b[0mcsr_matrix\u001b[0m\u001b[1;33m(\u001b[0m\u001b[0mx_tr_category_name_len\u001b[0m\u001b[1;33m)\u001b[0m\u001b[1;33m,\u001b[0m\u001b[0mx_tr_item_condition_id\u001b[0m\u001b[1;33m,\u001b[0m\u001b[0mx_tr_name_each_sen_word\u001b[0m\u001b[1;33m,\u001b[0m\u001b[0mx_tr_item_desc_words_len\u001b[0m\u001b[1;33m,\u001b[0m\u001b[0mx_tr_shipping\u001b[0m\u001b[1;33m)\u001b[0m\u001b[1;33m)\u001b[0m\u001b[1;33m\u001b[0m\u001b[1;33m\u001b[0m\u001b[0m\n\u001b[0m\u001b[0;32m      2\u001b[0m \u001b[0mx_tr_inp_num\u001b[0m\u001b[1;33m=\u001b[0m\u001b[0mx_tr_inp_num\u001b[0m\u001b[1;33m.\u001b[0m\u001b[0masformat\u001b[0m\u001b[1;33m(\u001b[0m\u001b[0mformat\u001b[0m\u001b[1;33m=\u001b[0m\u001b[1;34m'csr'\u001b[0m\u001b[1;33m)\u001b[0m\u001b[1;33m\u001b[0m\u001b[1;33m\u001b[0m\u001b[0m\n\u001b[0;32m      3\u001b[0m \u001b[0mx_te_inp_num\u001b[0m \u001b[1;33m=\u001b[0m \u001b[0msc\u001b[0m\u001b[1;33m.\u001b[0m\u001b[0msparse\u001b[0m\u001b[1;33m.\u001b[0m\u001b[0mhstack\u001b[0m\u001b[1;33m(\u001b[0m\u001b[1;33m(\u001b[0m\u001b[0msc\u001b[0m\u001b[1;33m.\u001b[0m\u001b[0msparse\u001b[0m\u001b[1;33m.\u001b[0m\u001b[0mcsr_matrix\u001b[0m\u001b[1;33m(\u001b[0m\u001b[0mx_te_category_name_len\u001b[0m\u001b[1;33m)\u001b[0m\u001b[1;33m,\u001b[0m\u001b[0mx_te_item_condition_id\u001b[0m\u001b[1;33m,\u001b[0m\u001b[0mx_te_name_each_sen_word\u001b[0m\u001b[1;33m,\u001b[0m\u001b[0mx_te_item_desc_words_len\u001b[0m\u001b[1;33m,\u001b[0m\u001b[0mx_te_shipping\u001b[0m\u001b[1;33m)\u001b[0m\u001b[1;33m)\u001b[0m\u001b[1;33m\u001b[0m\u001b[1;33m\u001b[0m\u001b[0m\n\u001b[0;32m      4\u001b[0m \u001b[0mx_te_inp_num\u001b[0m\u001b[1;33m=\u001b[0m\u001b[0mx_te_inp_num\u001b[0m\u001b[1;33m.\u001b[0m\u001b[0masformat\u001b[0m\u001b[1;33m(\u001b[0m\u001b[0mformat\u001b[0m\u001b[1;33m=\u001b[0m\u001b[1;34m'csr'\u001b[0m\u001b[1;33m)\u001b[0m\u001b[1;33m\u001b[0m\u001b[1;33m\u001b[0m\u001b[0m\n",
      "\u001b[1;31mNameError\u001b[0m: name 'x_tr_category_name_len' is not defined"
     ]
    }
   ],
   "source": [
    "x_tr_inp_num = sc.sparse.hstack((sc.sparse.csr_matrix(x_tr_category_name_len),x_tr_item_condition_id,x_tr_name_each_sen_word,x_tr_item_desc_words_len,x_tr_shipping))\n",
    "x_tr_inp_num=x_tr_inp_num.asformat(format='csr')\n",
    "x_te_inp_num = sc.sparse.hstack((sc.sparse.csr_matrix(x_te_category_name_len),x_te_item_condition_id,x_te_name_each_sen_word,x_te_item_desc_words_len,x_te_shipping))\n",
    "x_te_inp_num=x_te_inp_num.asformat(format='csr')"
   ]
  },
  {
   "cell_type": "code",
   "execution_count": 116,
   "metadata": {},
   "outputs": [
    {
     "data": {
      "text/plain": [
       "array([[145],\n",
       "       [  9],\n",
       "       [ 15],\n",
       "       ...,\n",
       "       [  2],\n",
       "       [121],\n",
       "       [233]])"
      ]
     },
     "execution_count": 116,
     "metadata": {},
     "output_type": "execute_result"
    }
   ],
   "source": [
    "encoded_br_name_test"
   ]
  },
  {
   "cell_type": "markdown",
   "metadata": {},
   "source": [
    "## saving all encoded feature"
   ]
  },
  {
   "cell_type": "code",
   "execution_count": 117,
   "metadata": {},
   "outputs": [],
   "source": [
    "# np.save('x_tr_inp_num',x_tr_inp_num)\n",
    "sc.sparse.save_npz('x_tr_inp_num.npz',x_tr_inp_num)\n",
    "# sc.sparse.save_npz('test_w2v.npz',x_te_w2v)\n",
    "np.save('encoded_br_name_train',encoded_br_name_train)\n",
    "np.save('encoded_s1_train',encoded_s1_train)\n",
    "np.save('encoded_s2_train',encoded_s2_train)\n",
    "np.save('encoded_s3_train',encoded_s3_train)\n",
    "np.save('encoded_s4_train',encoded_s4_train)\n",
    "np.save('encoded_s5_train',encoded_s5_train)\n",
    "np.save('padded_name_train',padded_name_train)\n",
    "np.save('padded_item_description_train',padded_item_description_train)\n",
    "\n",
    "# np.save('x_tr_inp_num',x_tr_inp_num)\n",
    "sc.sparse.save_npz('x_te_inp_num.npz',x_te_inp_num)\n",
    "# sc.sparse.save_npz('test_w2v.npz',x_te_w2v)\n",
    "np.save('encoded_br_name_test',encoded_br_name_test)\n",
    "np.save('encoded_s1_test',encoded_s1_test)\n",
    "np.save('encoded_s2_test',encoded_s2_test)\n",
    "np.save('encoded_s3_test',encoded_s3_test)\n",
    "np.save('encoded_s4_test',encoded_s4_test)\n",
    "np.save('encoded_s5_test',encoded_s5_test)\n",
    "np.save('padded_name_test',padded_name_test)\n",
    "np.save('padded_item_description_test',padded_item_description_test)"
   ]
  },
  {
   "cell_type": "markdown",
   "metadata": {},
   "source": [
    "## loading all encoded saved feature"
   ]
  },
  {
   "cell_type": "code",
   "execution_count": 2,
   "metadata": {},
   "outputs": [],
   "source": [
    "x_tr_inp_num = sc.sparse.load_npz('x_tr_inp_num.npz')\n",
    "# sc.sparse.save_npz('test_w2v.npz',x_te_w2v)\n",
    "encoded_br_name_train = np.load('encoded_br_name_train.npy')\n",
    "encoded_s1_train = np.load('encoded_s1_train.npy')\n",
    "encoded_s2_train = np.load('encoded_s2_train.npy')\n",
    "encoded_s3_train = np.load('encoded_s3_train.npy')\n",
    "encoded_s4_train = np.load('encoded_s4_train.npy')\n",
    "encoded_s5_train = np.load('encoded_s5_train.npy')\n",
    "padded_name_train = np.load('padded_name_train.npy')\n",
    "padded_item_description_train = np.load('padded_item_description_train.npy')\n",
    "y_train=np.load('y_train.npy')\n",
    "\n",
    "x_te_inp_num = sc.sparse.load_npz('x_te_inp_num.npz')\n",
    "# sc.sparse.save_npz('test_w2v.npz',x_te_w2v)\n",
    "encoded_br_name_test = np.load('encoded_br_name_test.npy')\n",
    "encoded_s1_test = np.load('encoded_s1_test.npy')\n",
    "encoded_s2_test = np.load('encoded_s2_test.npy')\n",
    "encoded_s3_test = np.load('encoded_s3_test.npy')\n",
    "encoded_s4_test = np.load('encoded_s4_test.npy')\n",
    "encoded_s5_test = np.load('encoded_s5_test.npy')\n",
    "padded_name_test = np.load('padded_name_test.npy')\n",
    "padded_item_description_test = np.load('padded_item_description_test.npy')\n",
    "\n",
    "y_test=np.load('y_test.npy')\n",
    "\n",
    "vocab_size_name=8245\n",
    "max_len_item_desc=30\n",
    "max_len_name=6\n",
    "vocab_size_item_desc=15084\n",
    "vocab_size_br_name=4299\n",
    "vocab_size_s1=12\n",
    "vocab_size_s2=104\n",
    "vocab_size_s3=644\n",
    "vocab_size_s4=8\n",
    "vocab_size_s5=5"
   ]
  },
  {
   "cell_type": "code",
   "execution_count": 59,
   "metadata": {},
   "outputs": [
    {
     "data": {
      "text/plain": [
       "5"
      ]
     },
     "execution_count": 59,
     "metadata": {},
     "output_type": "execute_result"
    }
   ],
   "source": [
    "vocab_size_s5"
   ]
  },
  {
   "cell_type": "code",
   "execution_count": 3,
   "metadata": {},
   "outputs": [],
   "source": [
    "tf.compat.v1.enable_eager_execution()"
   ]
  },
  {
   "cell_type": "markdown",
   "metadata": {},
   "source": [
    "## model structure"
   ]
  },
  {
   "cell_type": "code",
   "execution_count": 33,
   "metadata": {},
   "outputs": [],
   "source": [
    "# input_shape = (4,4297)\n",
    "# x = np.array([0,0,0,0,1])\n",
    "\n",
    "input_num = Input(shape=(x_tr_inp_num.shape[1]),name='input1')\n",
    "\n",
    "input_br_name = Input(shape=(1),name='input2')\n",
    "\n",
    "input_subcat1 = Input(shape=(1),name='input3')\n",
    "\n",
    "input_subcat2 = Input(shape=(1),name='input4')\n",
    "\n",
    "input_subcat3 = Input(shape=(1),name='input5')\n",
    "\n",
    "input_subcat4 = Input(shape=(1),name='input6')\n",
    "\n",
    "input_subcat5 = Input(shape=(1),name='input7')\n",
    "\n",
    "\n",
    "\n",
    "input_name_text = Input(shape=(max_len_name),name='input8')\n",
    "\n",
    "input_item_desc_text = Input(shape=(max_len_item_desc),name='input9')\n",
    "\n",
    "embedding1 = Embedding(vocab_size_br_name,50,input_length=1)(input_br_name)\n",
    "# print(embedding1)\n",
    "embedding2 = Embedding(vocab_size_s1,50,input_length=1)(input_subcat1)\n",
    "embedding3 = Embedding(vocab_size_s2,50,input_length=1)(input_subcat2)\n",
    "embedding4 = Embedding(vocab_size_s3,50,input_length=1)(input_subcat3)\n",
    "embedding5 = Embedding(vocab_size_s4,10,input_length=1)(input_subcat4)\n",
    "embedding6 = Embedding(vocab_size_s5,10,input_length=1)(input_subcat5)\n",
    "\n",
    "\n",
    "embedding7 = Embedding(vocab_size_name,100,input_length=max_len_name)(input_name_text)\n",
    "\n",
    "embedding8 = Embedding(vocab_size_item_desc,100,input_length=max_len_item_desc)(input_item_desc_text)\n",
    "\n",
    "flatten1=Flatten()(embedding1)\n",
    "flatten2=Flatten()(embedding2)\n",
    "flatten3=Flatten()(embedding3)\n",
    "flatten4=Flatten()(embedding4)\n",
    "flatten5=Flatten()(embedding5)\n",
    "flatten6=Flatten()(embedding6)\n",
    "flatten7=Flatten()(embedding7)\n",
    "flatten8=Flatten()(embedding8)\n",
    "\n",
    "merge1=Concatenate()([input_num,flatten1,flatten2,flatten3,flatten4,flatten5,flatten6,flatten7,flatten8])\n",
    "\n",
    "dense1=Dense(32,activation='relu', kernel_regularizer=l2(0.001))(merge1)\n",
    "# dropout1=Dropout(.5)(dense1)\n",
    "dense2=Dense(32,activation='relu', kernel_regularizer=l2(0.001))(dense1)\n",
    "dropout2=Dropout(.5)(dense2)\n",
    "dense3=Dense(32,activation='relu', kernel_regularizer=l2(0.001))(dropout2)\n",
    "output=Dense(1,activation=None)(dense3)\n",
    "\n",
    "model=tf.keras.Model(inputs=[input_num,input_br_name,input_subcat1,input_subcat2,input_subcat3,\n",
    "                             input_subcat4,input_subcat5,input_name_text,input_item_desc_text],outputs=[output])\n",
    "\n"
   ]
  },
  {
   "cell_type": "code",
   "execution_count": 34,
   "metadata": {},
   "outputs": [
    {
     "data": {
      "text/plain": [
       "(566423, 30)"
      ]
     },
     "execution_count": 34,
     "metadata": {},
     "output_type": "execute_result"
    }
   ],
   "source": [
    "padded_item_description_train.shape"
   ]
  },
  {
   "cell_type": "code",
   "execution_count": 35,
   "metadata": {},
   "outputs": [],
   "source": [
    "early_stop = EarlyStopping(monitor='val_loss', mode='min', verbose=1, patience=5)\n",
    "model_cp = ModelCheckpoint('best_model.h5', monitor='val_loss', mode='min', save_best_only=True)"
   ]
  },
  {
   "cell_type": "code",
   "execution_count": 36,
   "metadata": {},
   "outputs": [
    {
     "name": "stdout",
     "output_type": "stream",
     "text": [
      "Epoch 1/20\n",
      "4426/4426 [==============================] - 208s 47ms/step - loss: 1102.3969 - val_loss: 905.9874\n",
      "Epoch 2/20\n",
      "4426/4426 [==============================] - 241s 55ms/step - loss: 797.3879 - val_loss: 893.9278\n",
      "Epoch 3/20\n",
      "4426/4426 [==============================] - 242s 55ms/step - loss: 624.0776 - val_loss: 923.1677\n",
      "Epoch 4/20\n",
      "4426/4426 [==============================] - 245s 55ms/step - loss: 539.6375 - val_loss: 928.6626\n",
      "Epoch 5/20\n",
      "4426/4426 [==============================] - 237s 54ms/step - loss: 461.2256 - val_loss: 994.6908\n",
      "Epoch 6/20\n",
      "4426/4426 [==============================] - 234s 53ms/step - loss: 418.4202 - val_loss: 1006.0756\n",
      "Epoch 7/20\n",
      "4426/4426 [==============================] - 238s 54ms/step - loss: 369.5937 - val_loss: 1123.0813\n",
      "Epoch 00007: early stopping\n"
     ]
    },
    {
     "data": {
      "text/plain": [
       "<tensorflow.python.keras.callbacks.History at 0x1e87ef0c3c8>"
      ]
     },
     "execution_count": 36,
     "metadata": {},
     "output_type": "execute_result"
    }
   ],
   "source": [
    "model.compile(optimizer='Adam',loss='mse')\n",
    "model.fit({\"input1\":x_tr_inp_num,\"input2\":encoded_br_name_train,\"input3\":encoded_s1_train,\"input4\":encoded_s2_train,\n",
    "           \"input5\":encoded_s3_train,\"input6\":encoded_s4_train,\"input7\":encoded_s5_train,\"input8\":padded_name_train,\n",
    "           \"input9\":padded_item_description_train},\n",
    "         y_train.ravel(),\n",
    "         validation_data=([x_te_inp_num,encoded_br_name_test,encoded_s1_test,encoded_s2_test,encoded_s3_test,encoded_s4_test,\n",
    "                          encoded_s5_test,padded_name_test,padded_item_description_test],y_test.ravel()),\n",
    "         epochs=20,batch_size=128,callbacks=[early_stop,model_cp])"
   ]
  },
  {
   "cell_type": "markdown",
   "metadata": {},
   "source": [
    "# making pipeline"
   ]
  }
 ],
 "metadata": {
  "colab": {
   "collapsed_sections": [
    "GH_k6vtTVwXY"
   ],
   "name": "feature_engineering.ipynb",
   "provenance": [],
   "toc_visible": true
  },
  "kernelspec": {
   "display_name": "gpu",
   "language": "python",
   "name": "gpu"
  },
  "language_info": {
   "codemirror_mode": {
    "name": "ipython",
    "version": 3
   },
   "file_extension": ".py",
   "mimetype": "text/x-python",
   "name": "python",
   "nbconvert_exporter": "python",
   "pygments_lexer": "ipython3",
   "version": "3.7.9"
  }
 },
 "nbformat": 4,
 "nbformat_minor": 1
}
